{
 "cells": [
  {
   "cell_type": "code",
   "execution_count": 2,
   "metadata": {},
   "outputs": [],
   "source": [
    "import pandas as pd\n",
    "import numpy as np\n",
    "import matplotlib.pyplot as plt\n"
   ]
  },
  {
   "cell_type": "code",
   "execution_count": 3,
   "metadata": {},
   "outputs": [],
   "source": [
    "\n",
    "from calcTI import *"
   ]
  },
  {
   "cell_type": "code",
   "execution_count": 4,
   "metadata": {},
   "outputs": [],
   "source": [
    "# importing raw data\n",
    "raw_df = pd.read_csv(r'..\\\\raw_data_30M\\\\currency_pairs\\\\GBPJPY_M30.csv', sep='\\t')"
   ]
  },
  {
   "cell_type": "code",
   "execution_count": 5,
   "metadata": {},
   "outputs": [],
   "source": [
    "raw_df = raw_df[-100000:]\n",
    "raw_df.reset_index(inplace=True)\n",
    "raw_df = raw_df.drop(['index', 'Time'], axis=1)"
   ]
  },
  {
   "cell_type": "code",
   "execution_count": 6,
   "metadata": {},
   "outputs": [],
   "source": [
    "raw_df = ema_n(raw_df, 200)\n",
    "raw_df = ema_n(raw_df, 100)"
   ]
  },
  {
   "cell_type": "code",
   "execution_count": 8,
   "metadata": {},
   "outputs": [],
   "source": [
    "raw_df = vwap(raw_df)"
   ]
  },
  {
   "cell_type": "code",
   "execution_count": 9,
   "metadata": {},
   "outputs": [
    {
     "data": {
      "text/html": [
       "<div>\n",
       "<style scoped>\n",
       "    .dataframe tbody tr th:only-of-type {\n",
       "        vertical-align: middle;\n",
       "    }\n",
       "\n",
       "    .dataframe tbody tr th {\n",
       "        vertical-align: top;\n",
       "    }\n",
       "\n",
       "    .dataframe thead th {\n",
       "        text-align: right;\n",
       "    }\n",
       "</style>\n",
       "<table border=\"1\" class=\"dataframe\">\n",
       "  <thead>\n",
       "    <tr style=\"text-align: right;\">\n",
       "      <th></th>\n",
       "      <th>Open</th>\n",
       "      <th>High</th>\n",
       "      <th>Low</th>\n",
       "      <th>Close</th>\n",
       "      <th>Volume</th>\n",
       "      <th>EMA_200</th>\n",
       "      <th>EMA_100</th>\n",
       "      <th>VWAP</th>\n",
       "    </tr>\n",
       "  </thead>\n",
       "  <tbody>\n",
       "    <tr>\n",
       "      <th>0</th>\n",
       "      <td>177.783</td>\n",
       "      <td>177.988</td>\n",
       "      <td>177.743</td>\n",
       "      <td>177.983</td>\n",
       "      <td>3148</td>\n",
       "      <td>177.983</td>\n",
       "      <td>177.983</td>\n",
       "      <td>177.905</td>\n",
       "    </tr>\n",
       "    <tr>\n",
       "      <th>1</th>\n",
       "      <td>177.983</td>\n",
       "      <td>178.113</td>\n",
       "      <td>177.802</td>\n",
       "      <td>177.847</td>\n",
       "      <td>3861</td>\n",
       "      <td>177.982</td>\n",
       "      <td>177.980</td>\n",
       "      <td>177.913</td>\n",
       "    </tr>\n",
       "    <tr>\n",
       "      <th>2</th>\n",
       "      <td>177.845</td>\n",
       "      <td>177.982</td>\n",
       "      <td>177.732</td>\n",
       "      <td>177.841</td>\n",
       "      <td>3443</td>\n",
       "      <td>177.980</td>\n",
       "      <td>177.978</td>\n",
       "      <td>177.893</td>\n",
       "    </tr>\n",
       "    <tr>\n",
       "      <th>3</th>\n",
       "      <td>177.844</td>\n",
       "      <td>178.021</td>\n",
       "      <td>177.799</td>\n",
       "      <td>178.005</td>\n",
       "      <td>2756</td>\n",
       "      <td>177.980</td>\n",
       "      <td>177.978</td>\n",
       "      <td>177.903</td>\n",
       "    </tr>\n",
       "    <tr>\n",
       "      <th>4</th>\n",
       "      <td>177.996</td>\n",
       "      <td>178.272</td>\n",
       "      <td>177.947</td>\n",
       "      <td>178.243</td>\n",
       "      <td>2596</td>\n",
       "      <td>177.983</td>\n",
       "      <td>177.983</td>\n",
       "      <td>177.969</td>\n",
       "    </tr>\n",
       "    <tr>\n",
       "      <th>...</th>\n",
       "      <td>...</td>\n",
       "      <td>...</td>\n",
       "      <td>...</td>\n",
       "      <td>...</td>\n",
       "      <td>...</td>\n",
       "      <td>...</td>\n",
       "      <td>...</td>\n",
       "      <td>...</td>\n",
       "    </tr>\n",
       "    <tr>\n",
       "      <th>99995</th>\n",
       "      <td>158.498</td>\n",
       "      <td>158.626</td>\n",
       "      <td>158.465</td>\n",
       "      <td>158.555</td>\n",
       "      <td>2379</td>\n",
       "      <td>158.762</td>\n",
       "      <td>158.763</td>\n",
       "      <td>158.484</td>\n",
       "    </tr>\n",
       "    <tr>\n",
       "      <th>99996</th>\n",
       "      <td>158.553</td>\n",
       "      <td>158.590</td>\n",
       "      <td>158.478</td>\n",
       "      <td>158.484</td>\n",
       "      <td>2185</td>\n",
       "      <td>158.759</td>\n",
       "      <td>158.758</td>\n",
       "      <td>158.517</td>\n",
       "    </tr>\n",
       "    <tr>\n",
       "      <th>99997</th>\n",
       "      <td>158.480</td>\n",
       "      <td>158.527</td>\n",
       "      <td>158.412</td>\n",
       "      <td>158.450</td>\n",
       "      <td>2411</td>\n",
       "      <td>158.756</td>\n",
       "      <td>158.752</td>\n",
       "      <td>158.509</td>\n",
       "    </tr>\n",
       "    <tr>\n",
       "      <th>99998</th>\n",
       "      <td>158.449</td>\n",
       "      <td>158.462</td>\n",
       "      <td>158.370</td>\n",
       "      <td>158.426</td>\n",
       "      <td>1599</td>\n",
       "      <td>158.753</td>\n",
       "      <td>158.745</td>\n",
       "      <td>158.471</td>\n",
       "    </tr>\n",
       "    <tr>\n",
       "      <th>99999</th>\n",
       "      <td>158.426</td>\n",
       "      <td>158.452</td>\n",
       "      <td>158.383</td>\n",
       "      <td>158.400</td>\n",
       "      <td>1713</td>\n",
       "      <td>158.750</td>\n",
       "      <td>158.738</td>\n",
       "      <td>158.435</td>\n",
       "    </tr>\n",
       "  </tbody>\n",
       "</table>\n",
       "<p>100000 rows × 8 columns</p>\n",
       "</div>"
      ],
      "text/plain": [
       "          Open     High      Low    Close  Volume  EMA_200  EMA_100     VWAP\n",
       "0      177.783  177.988  177.743  177.983    3148  177.983  177.983  177.905\n",
       "1      177.983  178.113  177.802  177.847    3861  177.982  177.980  177.913\n",
       "2      177.845  177.982  177.732  177.841    3443  177.980  177.978  177.893\n",
       "3      177.844  178.021  177.799  178.005    2756  177.980  177.978  177.903\n",
       "4      177.996  178.272  177.947  178.243    2596  177.983  177.983  177.969\n",
       "...        ...      ...      ...      ...     ...      ...      ...      ...\n",
       "99995  158.498  158.626  158.465  158.555    2379  158.762  158.763  158.484\n",
       "99996  158.553  158.590  158.478  158.484    2185  158.759  158.758  158.517\n",
       "99997  158.480  158.527  158.412  158.450    2411  158.756  158.752  158.509\n",
       "99998  158.449  158.462  158.370  158.426    1599  158.753  158.745  158.471\n",
       "99999  158.426  158.452  158.383  158.400    1713  158.750  158.738  158.435\n",
       "\n",
       "[100000 rows x 8 columns]"
      ]
     },
     "execution_count": 9,
     "metadata": {},
     "output_type": "execute_result"
    }
   ],
   "source": [
    "raw_df"
   ]
  },
  {
   "cell_type": "code",
   "execution_count": 13,
   "metadata": {},
   "outputs": [
    {
     "data": {
      "text/plain": [
       "[<matplotlib.lines.Line2D at 0x27981fff430>]"
      ]
     },
     "execution_count": 13,
     "metadata": {},
     "output_type": "execute_result"
    },
    {
     "data": {
      "image/png": "[encoded data removed]",
      "text/plain": [
       "<Figure size 1200x600 with 1 Axes>"
      ]
     },
     "metadata": {},
     "output_type": "display_data"
    }
   ],
   "source": [
    "dx = raw_df[-200:]\n",
    "plt.figure(figsize=(12,6))\n",
    "plt.plot(dx.Close)\n",
    "plt.plot(dx.EMA_100, 'red')\n",
    "plt.plot(dx.EMA_200, 'green')\n",
    "plt.plot(dx.VWAP, 'black')\n"
   ]
  },
  {
   "cell_type": "code",
   "execution_count": 17,
   "metadata": {},
   "outputs": [],
   "source": [
    "# Defining what an uptrend or downtrend is\n",
    "raw_df['Trend'] = [1 if (row['Close'] > row['EMA_200'] + 0.00075 * row['Close']) and (row['Close'] > row['EMA_100'] + 0.001 * row['Close']) and (row['Close'] > row['EMA_100'] + 0.00125 * row['Close'])\n",
    "                        else -1 if row['Close'] < row['EMA_200'] - 0.00075 * row['Close'] and (row['Close'] < row['EMA_100'] + 0.001 * row['Close']) and (row['Close'] < row['EMA_100'] + 0.00125 * row['Close'])\n",
    "                        else 0 \n",
    "                        for index, row in raw_df.iterrows()]\n"
   ]
  },
  {
   "cell_type": "code",
   "execution_count": 18,
   "metadata": {},
   "outputs": [
    {
     "data": {
      "text/html": [
       "<div>\n",
       "<style scoped>\n",
       "    .dataframe tbody tr th:only-of-type {\n",
       "        vertical-align: middle;\n",
       "    }\n",
       "\n",
       "    .dataframe tbody tr th {\n",
       "        vertical-align: top;\n",
       "    }\n",
       "\n",
       "    .dataframe thead th {\n",
       "        text-align: right;\n",
       "    }\n",
       "</style>\n",
       "<table border=\"1\" class=\"dataframe\">\n",
       "  <thead>\n",
       "    <tr style=\"text-align: right;\">\n",
       "      <th></th>\n",
       "      <th>Open</th>\n",
       "      <th>High</th>\n",
       "      <th>Low</th>\n",
       "      <th>Close</th>\n",
       "      <th>Volume</th>\n",
       "      <th>EMA_200</th>\n",
       "      <th>EMA_100</th>\n",
       "      <th>VWAP</th>\n",
       "      <th>Trend</th>\n",
       "    </tr>\n",
       "  </thead>\n",
       "  <tbody>\n",
       "    <tr>\n",
       "      <th>0</th>\n",
       "      <td>177.783</td>\n",
       "      <td>177.988</td>\n",
       "      <td>177.743</td>\n",
       "      <td>177.983</td>\n",
       "      <td>3148</td>\n",
       "      <td>177.983</td>\n",
       "      <td>177.983</td>\n",
       "      <td>177.905</td>\n",
       "      <td>0</td>\n",
       "    </tr>\n",
       "    <tr>\n",
       "      <th>1</th>\n",
       "      <td>177.983</td>\n",
       "      <td>178.113</td>\n",
       "      <td>177.802</td>\n",
       "      <td>177.847</td>\n",
       "      <td>3861</td>\n",
       "      <td>177.982</td>\n",
       "      <td>177.980</td>\n",
       "      <td>177.913</td>\n",
       "      <td>-1</td>\n",
       "    </tr>\n",
       "    <tr>\n",
       "      <th>2</th>\n",
       "      <td>177.845</td>\n",
       "      <td>177.982</td>\n",
       "      <td>177.732</td>\n",
       "      <td>177.841</td>\n",
       "      <td>3443</td>\n",
       "      <td>177.980</td>\n",
       "      <td>177.978</td>\n",
       "      <td>177.893</td>\n",
       "      <td>-1</td>\n",
       "    </tr>\n",
       "    <tr>\n",
       "      <th>3</th>\n",
       "      <td>177.844</td>\n",
       "      <td>178.021</td>\n",
       "      <td>177.799</td>\n",
       "      <td>178.005</td>\n",
       "      <td>2756</td>\n",
       "      <td>177.980</td>\n",
       "      <td>177.978</td>\n",
       "      <td>177.903</td>\n",
       "      <td>0</td>\n",
       "    </tr>\n",
       "    <tr>\n",
       "      <th>4</th>\n",
       "      <td>177.996</td>\n",
       "      <td>178.272</td>\n",
       "      <td>177.947</td>\n",
       "      <td>178.243</td>\n",
       "      <td>2596</td>\n",
       "      <td>177.983</td>\n",
       "      <td>177.983</td>\n",
       "      <td>177.969</td>\n",
       "      <td>1</td>\n",
       "    </tr>\n",
       "    <tr>\n",
       "      <th>...</th>\n",
       "      <td>...</td>\n",
       "      <td>...</td>\n",
       "      <td>...</td>\n",
       "      <td>...</td>\n",
       "      <td>...</td>\n",
       "      <td>...</td>\n",
       "      <td>...</td>\n",
       "      <td>...</td>\n",
       "      <td>...</td>\n",
       "    </tr>\n",
       "    <tr>\n",
       "      <th>99995</th>\n",
       "      <td>158.498</td>\n",
       "      <td>158.626</td>\n",
       "      <td>158.465</td>\n",
       "      <td>158.555</td>\n",
       "      <td>2379</td>\n",
       "      <td>158.762</td>\n",
       "      <td>158.763</td>\n",
       "      <td>158.484</td>\n",
       "      <td>-1</td>\n",
       "    </tr>\n",
       "    <tr>\n",
       "      <th>99996</th>\n",
       "      <td>158.553</td>\n",
       "      <td>158.590</td>\n",
       "      <td>158.478</td>\n",
       "      <td>158.484</td>\n",
       "      <td>2185</td>\n",
       "      <td>158.759</td>\n",
       "      <td>158.758</td>\n",
       "      <td>158.517</td>\n",
       "      <td>-1</td>\n",
       "    </tr>\n",
       "    <tr>\n",
       "      <th>99997</th>\n",
       "      <td>158.480</td>\n",
       "      <td>158.527</td>\n",
       "      <td>158.412</td>\n",
       "      <td>158.450</td>\n",
       "      <td>2411</td>\n",
       "      <td>158.756</td>\n",
       "      <td>158.752</td>\n",
       "      <td>158.509</td>\n",
       "      <td>-1</td>\n",
       "    </tr>\n",
       "    <tr>\n",
       "      <th>99998</th>\n",
       "      <td>158.449</td>\n",
       "      <td>158.462</td>\n",
       "      <td>158.370</td>\n",
       "      <td>158.426</td>\n",
       "      <td>1599</td>\n",
       "      <td>158.753</td>\n",
       "      <td>158.745</td>\n",
       "      <td>158.471</td>\n",
       "      <td>-1</td>\n",
       "    </tr>\n",
       "    <tr>\n",
       "      <th>99999</th>\n",
       "      <td>158.426</td>\n",
       "      <td>158.452</td>\n",
       "      <td>158.383</td>\n",
       "      <td>158.400</td>\n",
       "      <td>1713</td>\n",
       "      <td>158.750</td>\n",
       "      <td>158.738</td>\n",
       "      <td>158.435</td>\n",
       "      <td>-1</td>\n",
       "    </tr>\n",
       "  </tbody>\n",
       "</table>\n",
       "<p>100000 rows × 9 columns</p>\n",
       "</div>"
      ],
      "text/plain": [
       "          Open     High      Low    Close  Volume  EMA_200  EMA_100     VWAP  \\\n",
       "0      177.783  177.988  177.743  177.983    3148  177.983  177.983  177.905   \n",
       "1      177.983  178.113  177.802  177.847    3861  177.982  177.980  177.913   \n",
       "2      177.845  177.982  177.732  177.841    3443  177.980  177.978  177.893   \n",
       "3      177.844  178.021  177.799  178.005    2756  177.980  177.978  177.903   \n",
       "4      177.996  178.272  177.947  178.243    2596  177.983  177.983  177.969   \n",
       "...        ...      ...      ...      ...     ...      ...      ...      ...   \n",
       "99995  158.498  158.626  158.465  158.555    2379  158.762  158.763  158.484   \n",
       "99996  158.553  158.590  158.478  158.484    2185  158.759  158.758  158.517   \n",
       "99997  158.480  158.527  158.412  158.450    2411  158.756  158.752  158.509   \n",
       "99998  158.449  158.462  158.370  158.426    1599  158.753  158.745  158.471   \n",
       "99999  158.426  158.452  158.383  158.400    1713  158.750  158.738  158.435   \n",
       "\n",
       "       Trend  \n",
       "0          0  \n",
       "1         -1  \n",
       "2         -1  \n",
       "3          0  \n",
       "4          1  \n",
       "...      ...  \n",
       "99995     -1  \n",
       "99996     -1  \n",
       "99997     -1  \n",
       "99998     -1  \n",
       "99999     -1  \n",
       "\n",
       "[100000 rows x 9 columns]"
      ]
     },
     "execution_count": 18,
     "metadata": {},
     "output_type": "execute_result"
    }
   ],
   "source": [
    "raw_df"
   ]
  },
  {
   "cell_type": "code",
   "execution_count": 20,
   "metadata": {},
   "outputs": [],
   "source": [
    "raw_df.to_csv('..\\\\pre_processed_data\\\\bot_df\\\\GBPJPY_M30.csv')"
   ]
  },
  {
   "cell_type": "code",
   "execution_count": 22,
   "metadata": {},
   "outputs": [],
   "source": [
    "final_df = raw_df.drop(['Open', 'High', 'Low', 'Volume'], axis=1)"
   ]
  },
  {
   "cell_type": "code",
   "execution_count": 24,
   "metadata": {},
   "outputs": [],
   "source": [
    "final_df.to_csv('..\\\\final_data\\\\bot_df\\\\GBPJPY_M30.csv')"
   ]
  },
  {
   "cell_type": "code",
   "execution_count": null,
   "metadata": {},
   "outputs": [],
   "source": [
    "final_df = pd.read_csv('..\\\\pre_processed_data\\\\200_ema\\\\GBPJPY_M30.csv')"
   ]
  },
  {
   "cell_type": "code",
   "execution_count": null,
   "metadata": {},
   "outputs": [],
   "source": [
    "final_df = final_df.drop('Unnamed: 0', axis=1)"
   ]
  },
  {
   "cell_type": "code",
   "execution_count": 27,
   "metadata": {},
   "outputs": [
    {
     "data": {
      "text/html": [
       "<div>\n",
       "<style scoped>\n",
       "    .dataframe tbody tr th:only-of-type {\n",
       "        vertical-align: middle;\n",
       "    }\n",
       "\n",
       "    .dataframe tbody tr th {\n",
       "        vertical-align: top;\n",
       "    }\n",
       "\n",
       "    .dataframe thead th {\n",
       "        text-align: right;\n",
       "    }\n",
       "</style>\n",
       "<table border=\"1\" class=\"dataframe\">\n",
       "  <thead>\n",
       "    <tr style=\"text-align: right;\">\n",
       "      <th></th>\n",
       "      <th>Close</th>\n",
       "      <th>EMA_200</th>\n",
       "      <th>EMA_100</th>\n",
       "      <th>VWAP</th>\n",
       "      <th>Trend</th>\n",
       "    </tr>\n",
       "  </thead>\n",
       "  <tbody>\n",
       "    <tr>\n",
       "      <th>0</th>\n",
       "      <td>177.983</td>\n",
       "      <td>177.983</td>\n",
       "      <td>177.983</td>\n",
       "      <td>177.905</td>\n",
       "      <td>0</td>\n",
       "    </tr>\n",
       "    <tr>\n",
       "      <th>1</th>\n",
       "      <td>177.847</td>\n",
       "      <td>177.982</td>\n",
       "      <td>177.980</td>\n",
       "      <td>177.913</td>\n",
       "      <td>-1</td>\n",
       "    </tr>\n",
       "    <tr>\n",
       "      <th>2</th>\n",
       "      <td>177.841</td>\n",
       "      <td>177.980</td>\n",
       "      <td>177.978</td>\n",
       "      <td>177.893</td>\n",
       "      <td>-1</td>\n",
       "    </tr>\n",
       "    <tr>\n",
       "      <th>3</th>\n",
       "      <td>178.005</td>\n",
       "      <td>177.980</td>\n",
       "      <td>177.978</td>\n",
       "      <td>177.903</td>\n",
       "      <td>0</td>\n",
       "    </tr>\n",
       "    <tr>\n",
       "      <th>4</th>\n",
       "      <td>178.243</td>\n",
       "      <td>177.983</td>\n",
       "      <td>177.983</td>\n",
       "      <td>177.969</td>\n",
       "      <td>1</td>\n",
       "    </tr>\n",
       "    <tr>\n",
       "      <th>...</th>\n",
       "      <td>...</td>\n",
       "      <td>...</td>\n",
       "      <td>...</td>\n",
       "      <td>...</td>\n",
       "      <td>...</td>\n",
       "    </tr>\n",
       "    <tr>\n",
       "      <th>99995</th>\n",
       "      <td>158.555</td>\n",
       "      <td>158.762</td>\n",
       "      <td>158.763</td>\n",
       "      <td>158.484</td>\n",
       "      <td>-1</td>\n",
       "    </tr>\n",
       "    <tr>\n",
       "      <th>99996</th>\n",
       "      <td>158.484</td>\n",
       "      <td>158.759</td>\n",
       "      <td>158.758</td>\n",
       "      <td>158.517</td>\n",
       "      <td>-1</td>\n",
       "    </tr>\n",
       "    <tr>\n",
       "      <th>99997</th>\n",
       "      <td>158.450</td>\n",
       "      <td>158.756</td>\n",
       "      <td>158.752</td>\n",
       "      <td>158.509</td>\n",
       "      <td>-1</td>\n",
       "    </tr>\n",
       "    <tr>\n",
       "      <th>99998</th>\n",
       "      <td>158.426</td>\n",
       "      <td>158.753</td>\n",
       "      <td>158.745</td>\n",
       "      <td>158.471</td>\n",
       "      <td>-1</td>\n",
       "    </tr>\n",
       "    <tr>\n",
       "      <th>99999</th>\n",
       "      <td>158.400</td>\n",
       "      <td>158.750</td>\n",
       "      <td>158.738</td>\n",
       "      <td>158.435</td>\n",
       "      <td>-1</td>\n",
       "    </tr>\n",
       "  </tbody>\n",
       "</table>\n",
       "<p>100000 rows × 5 columns</p>\n",
       "</div>"
      ],
      "text/plain": [
       "         Close  EMA_200  EMA_100     VWAP  Trend\n",
       "0      177.983  177.983  177.983  177.905      0\n",
       "1      177.847  177.982  177.980  177.913     -1\n",
       "2      177.841  177.980  177.978  177.893     -1\n",
       "3      178.005  177.980  177.978  177.903      0\n",
       "4      178.243  177.983  177.983  177.969      1\n",
       "...        ...      ...      ...      ...    ...\n",
       "99995  158.555  158.762  158.763  158.484     -1\n",
       "99996  158.484  158.759  158.758  158.517     -1\n",
       "99997  158.450  158.756  158.752  158.509     -1\n",
       "99998  158.426  158.753  158.745  158.471     -1\n",
       "99999  158.400  158.750  158.738  158.435     -1\n",
       "\n",
       "[100000 rows x 5 columns]"
      ]
     },
     "execution_count": 27,
     "metadata": {},
     "output_type": "execute_result"
    }
   ],
   "source": [
    "final_df"
   ]
  },
  {
   "cell_type": "code",
   "execution_count": 25,
   "metadata": {},
   "outputs": [
    {
     "data": {
      "text/plain": [
       "Close      float64\n",
       "EMA_200    float64\n",
       "EMA_100    float64\n",
       "VWAP       float64\n",
       "Trend        int64\n",
       "dtype: object"
      ]
     },
     "execution_count": 25,
     "metadata": {},
     "output_type": "execute_result"
    }
   ],
   "source": [
    "final_df.dtypes"
   ]
  },
  {
   "cell_type": "code",
   "execution_count": 34,
   "metadata": {},
   "outputs": [],
   "source": [
    "from sklearn.preprocessing import StandardScaler\n",
    "from sklearn.model_selection import train_test_split\n",
    "scaler = StandardScaler()"
   ]
  },
  {
   "cell_type": "code",
   "execution_count": 28,
   "metadata": {},
   "outputs": [],
   "source": [
    "x0=[]\n",
    "x1=[]\n",
    "x2=[]\n",
    "x3=[]\n",
    "y=[]"
   ]
  },
  {
   "cell_type": "code",
   "execution_count": 29,
   "metadata": {},
   "outputs": [],
   "source": [
    "for i in range (0, final_df.shape[0] - 200):\n",
    "    x0.append(final_df.iloc[i:i+200, 0])\n",
    "    x1.append(final_df.iloc[i:i+200, 1])\n",
    "    x2.append(final_df.iloc[i:i+200, 2])\n",
    "    x3.append(final_df.iloc[i:i+200, 3])\n",
    "    y.append(final_df.iloc[i+200, 4])\n",
    "# maybe also try with 400 or 2000 instead of 200"
   ]
  },
  {
   "cell_type": "code",
   "execution_count": 31,
   "metadata": {},
   "outputs": [],
   "source": [
    "x0, x1, x2, x3, y = np.array(x0), np.array(x1), np.array(x2), np.array(x3), np.array(y)"
   ]
  },
  {
   "cell_type": "code",
   "execution_count": 33,
   "metadata": {},
   "outputs": [],
   "source": [
    "y=np.reshape(y, (len(y), 1))"
   ]
  },
  {
   "cell_type": "code",
   "execution_count": 35,
   "metadata": {},
   "outputs": [],
   "source": [
    "x0 = scaler.fit_transform(x0)\n",
    "x1 = scaler.fit_transform(x1)\n",
    "x2 = scaler.fit_transform(x2)\n",
    "x3 = scaler.fit_transform(x3)"
   ]
  },
  {
   "cell_type": "code",
   "execution_count": 37,
   "metadata": {},
   "outputs": [],
   "source": [
    "X = np.stack([x0, x1, x2, x3], axis=2)"
   ]
  },
  {
   "cell_type": "code",
   "execution_count": 38,
   "metadata": {},
   "outputs": [
    {
     "data": {
      "text/plain": [
       "(99800, 200, 4)"
      ]
     },
     "execution_count": 38,
     "metadata": {},
     "output_type": "execute_result"
    }
   ],
   "source": [
    "X.shape"
   ]
  },
  {
   "cell_type": "code",
   "execution_count": null,
   "metadata": {},
   "outputs": [],
   "source": []
  }
 ],
 "metadata": {
  "kernelspec": {
   "display_name": "base",
   "language": "python",
   "name": "python3"
  },
  "language_info": {
   "codemirror_mode": {
    "name": "ipython",
    "version": 3
   },
   "file_extension": ".py",
   "mimetype": "text/x-python",
   "name": "python",
   "nbconvert_exporter": "python",
   "pygments_lexer": "ipython3",
   "version": "3.9.13"
  },
  "orig_nbformat": 4,
  "vscode": {
   "interpreter": {
    "hash": "daba84b9011790cc9eaf4cc21f3efb4c679e43558c1b80abd9638a9f3765cdfc"
   }
  }
 },
 "nbformat": 4,
 "nbformat_minor": 2
}
