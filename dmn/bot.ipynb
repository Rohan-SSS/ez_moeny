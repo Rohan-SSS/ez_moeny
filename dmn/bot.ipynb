{
 "cells": [
  {
   "cell_type": "code",
   "execution_count": 2,
   "metadata": {},
   "outputs": [],
   "source": [
    "import pandas as pd\n",
    "import numpy as np\n",
    "import matplotlib.pyplot as plt\n"
   ]
  },
  {
   "cell_type": "code",
   "execution_count": 3,
   "metadata": {},
   "outputs": [],
   "source": [
    "\n",
    "from calcTI import *"
   ]
  },
  {
   "cell_type": "code",
   "execution_count": 126,
   "metadata": {},
   "outputs": [],
   "source": [
    "# importing raw data\n",
    "raw_df = pd.read_csv(r'..\\\\raw_data_30M\\\\currency_pairs\\\\GBPJPY_M30.csv', sep='\\t')"
   ]
  },
  {
   "cell_type": "code",
   "execution_count": 124,
   "metadata": {},
   "outputs": [],
   "source": [
    "raw_df = raw_df[-100000:]"
   ]
  },
  {
   "cell_type": "code",
   "execution_count": 127,
   "metadata": {},
   "outputs": [],
   "source": [
    "raw_df = raw_df[-100000:]\n",
    "raw_df.reset_index(inplace=True)\n",
    "raw_df = raw_df.drop(['index', 'Time'], axis=1)"
   ]
  },
  {
   "cell_type": "code",
   "execution_count": 128,
   "metadata": {},
   "outputs": [],
   "source": [
    "raw_df = ema_n(raw_df, 200)\n",
    "raw_df = ema_n(raw_df, 100)"
   ]
  },
  {
   "cell_type": "code",
   "execution_count": 129,
   "metadata": {},
   "outputs": [],
   "source": [
    "raw_df = vwap(raw_df)"
   ]
  },
  {
   "cell_type": "code",
   "execution_count": 130,
   "metadata": {},
   "outputs": [
    {
     "data": {
      "text/html": [
       "<div>\n",
       "<style scoped>\n",
       "    .dataframe tbody tr th:only-of-type {\n",
       "        vertical-align: middle;\n",
       "    }\n",
       "\n",
       "    .dataframe tbody tr th {\n",
       "        vertical-align: top;\n",
       "    }\n",
       "\n",
       "    .dataframe thead th {\n",
       "        text-align: right;\n",
       "    }\n",
       "</style>\n",
       "<table border=\"1\" class=\"dataframe\">\n",
       "  <thead>\n",
       "    <tr style=\"text-align: right;\">\n",
       "      <th></th>\n",
       "      <th>Open</th>\n",
       "      <th>High</th>\n",
       "      <th>Low</th>\n",
       "      <th>Close</th>\n",
       "      <th>Volume</th>\n",
       "      <th>EMA_200</th>\n",
       "      <th>EMA_100</th>\n",
       "      <th>VWAP</th>\n",
       "    </tr>\n",
       "  </thead>\n",
       "  <tbody>\n",
       "    <tr>\n",
       "      <th>0</th>\n",
       "      <td>177.783</td>\n",
       "      <td>177.988</td>\n",
       "      <td>177.743</td>\n",
       "      <td>177.983</td>\n",
       "      <td>3148</td>\n",
       "      <td>177.983</td>\n",
       "      <td>177.983</td>\n",
       "      <td>177.905</td>\n",
       "    </tr>\n",
       "    <tr>\n",
       "      <th>1</th>\n",
       "      <td>177.983</td>\n",
       "      <td>178.113</td>\n",
       "      <td>177.802</td>\n",
       "      <td>177.847</td>\n",
       "      <td>3861</td>\n",
       "      <td>177.982</td>\n",
       "      <td>177.980</td>\n",
       "      <td>177.913</td>\n",
       "    </tr>\n",
       "    <tr>\n",
       "      <th>2</th>\n",
       "      <td>177.845</td>\n",
       "      <td>177.982</td>\n",
       "      <td>177.732</td>\n",
       "      <td>177.841</td>\n",
       "      <td>3443</td>\n",
       "      <td>177.980</td>\n",
       "      <td>177.978</td>\n",
       "      <td>177.893</td>\n",
       "    </tr>\n",
       "    <tr>\n",
       "      <th>3</th>\n",
       "      <td>177.844</td>\n",
       "      <td>178.021</td>\n",
       "      <td>177.799</td>\n",
       "      <td>178.005</td>\n",
       "      <td>2756</td>\n",
       "      <td>177.980</td>\n",
       "      <td>177.978</td>\n",
       "      <td>177.903</td>\n",
       "    </tr>\n",
       "    <tr>\n",
       "      <th>4</th>\n",
       "      <td>177.996</td>\n",
       "      <td>178.272</td>\n",
       "      <td>177.947</td>\n",
       "      <td>178.243</td>\n",
       "      <td>2596</td>\n",
       "      <td>177.983</td>\n",
       "      <td>177.983</td>\n",
       "      <td>177.969</td>\n",
       "    </tr>\n",
       "    <tr>\n",
       "      <th>...</th>\n",
       "      <td>...</td>\n",
       "      <td>...</td>\n",
       "      <td>...</td>\n",
       "      <td>...</td>\n",
       "      <td>...</td>\n",
       "      <td>...</td>\n",
       "      <td>...</td>\n",
       "      <td>...</td>\n",
       "    </tr>\n",
       "    <tr>\n",
       "      <th>99995</th>\n",
       "      <td>158.498</td>\n",
       "      <td>158.626</td>\n",
       "      <td>158.465</td>\n",
       "      <td>158.555</td>\n",
       "      <td>2379</td>\n",
       "      <td>158.762</td>\n",
       "      <td>158.763</td>\n",
       "      <td>158.484</td>\n",
       "    </tr>\n",
       "    <tr>\n",
       "      <th>99996</th>\n",
       "      <td>158.553</td>\n",
       "      <td>158.590</td>\n",
       "      <td>158.478</td>\n",
       "      <td>158.484</td>\n",
       "      <td>2185</td>\n",
       "      <td>158.759</td>\n",
       "      <td>158.758</td>\n",
       "      <td>158.517</td>\n",
       "    </tr>\n",
       "    <tr>\n",
       "      <th>99997</th>\n",
       "      <td>158.480</td>\n",
       "      <td>158.527</td>\n",
       "      <td>158.412</td>\n",
       "      <td>158.450</td>\n",
       "      <td>2411</td>\n",
       "      <td>158.756</td>\n",
       "      <td>158.752</td>\n",
       "      <td>158.509</td>\n",
       "    </tr>\n",
       "    <tr>\n",
       "      <th>99998</th>\n",
       "      <td>158.449</td>\n",
       "      <td>158.462</td>\n",
       "      <td>158.370</td>\n",
       "      <td>158.426</td>\n",
       "      <td>1599</td>\n",
       "      <td>158.753</td>\n",
       "      <td>158.745</td>\n",
       "      <td>158.471</td>\n",
       "    </tr>\n",
       "    <tr>\n",
       "      <th>99999</th>\n",
       "      <td>158.426</td>\n",
       "      <td>158.452</td>\n",
       "      <td>158.383</td>\n",
       "      <td>158.400</td>\n",
       "      <td>1713</td>\n",
       "      <td>158.750</td>\n",
       "      <td>158.738</td>\n",
       "      <td>158.435</td>\n",
       "    </tr>\n",
       "  </tbody>\n",
       "</table>\n",
       "<p>100000 rows × 8 columns</p>\n",
       "</div>"
      ],
      "text/plain": [
       "          Open     High      Low    Close  Volume  EMA_200  EMA_100     VWAP\n",
       "0      177.783  177.988  177.743  177.983    3148  177.983  177.983  177.905\n",
       "1      177.983  178.113  177.802  177.847    3861  177.982  177.980  177.913\n",
       "2      177.845  177.982  177.732  177.841    3443  177.980  177.978  177.893\n",
       "3      177.844  178.021  177.799  178.005    2756  177.980  177.978  177.903\n",
       "4      177.996  178.272  177.947  178.243    2596  177.983  177.983  177.969\n",
       "...        ...      ...      ...      ...     ...      ...      ...      ...\n",
       "99995  158.498  158.626  158.465  158.555    2379  158.762  158.763  158.484\n",
       "99996  158.553  158.590  158.478  158.484    2185  158.759  158.758  158.517\n",
       "99997  158.480  158.527  158.412  158.450    2411  158.756  158.752  158.509\n",
       "99998  158.449  158.462  158.370  158.426    1599  158.753  158.745  158.471\n",
       "99999  158.426  158.452  158.383  158.400    1713  158.750  158.738  158.435\n",
       "\n",
       "[100000 rows x 8 columns]"
      ]
     },
     "execution_count": 130,
     "metadata": {},
     "output_type": "execute_result"
    }
   ],
   "source": [
    "raw_df"
   ]
  },
  {
   "cell_type": "code",
   "execution_count": 138,
   "metadata": {},
   "outputs": [
    {
     "data": {
      "text/plain": [
       "[<matplotlib.lines.Line2D at 0x279ced1a2e0>]"
      ]
     },
     "execution_count": 138,
     "metadata": {},
     "output_type": "execute_result"
    },
    {
     "data": {
      "image/png": "[encoded data removed]",
      "text/plain": [
       "<Figure size 1200x600 with 1 Axes>"
      ]
     },
     "metadata": {},
     "output_type": "display_data"
    }
   ],
   "source": [
    "dx = raw_df[:25]\n",
    "plt.figure(figsize=(12,6))\n",
    "plt.plot(dx.Close)\n",
    "plt.plot(dx.EMA_100, 'red')\n",
    "plt.plot(dx.EMA_200, 'green')\n",
    "plt.plot(dx.VWAP, 'black')\n"
   ]
  },
  {
   "cell_type": "code",
   "execution_count": 136,
   "metadata": {},
   "outputs": [],
   "source": [
    "# Defining what an uptrend or downtrend is\n",
    "raw_df['Trend'] = [1 if (row['Close'] > row['EMA_200'] + 0.00125 * row['Close']) and (row['Close'] > row['EMA_100'] + 0.001 * row['Close']) and (row['Close'] > row['VWAP'] + 0.0005 * row['Close'])\n",
    "                        else -1 if row['Close'] < row['EMA_200'] - 0.00125 * row['Close'] and (row['Close'] < row['EMA_100'] + 0.001 * row['Close']) and (row['Close'] < row['VWAP'] + 0.0005 * row['Close'])\n",
    "                        else 0 \n",
    "                        for index, row in raw_df.iterrows()]\n"
   ]
  },
  {
   "cell_type": "code",
   "execution_count": 139,
   "metadata": {},
   "outputs": [
    {
     "data": {
      "text/html": [
       "<div>\n",
       "<style scoped>\n",
       "    .dataframe tbody tr th:only-of-type {\n",
       "        vertical-align: middle;\n",
       "    }\n",
       "\n",
       "    .dataframe tbody tr th {\n",
       "        vertical-align: top;\n",
       "    }\n",
       "\n",
       "    .dataframe thead th {\n",
       "        text-align: right;\n",
       "    }\n",
       "</style>\n",
       "<table border=\"1\" class=\"dataframe\">\n",
       "  <thead>\n",
       "    <tr style=\"text-align: right;\">\n",
       "      <th></th>\n",
       "      <th>Open</th>\n",
       "      <th>High</th>\n",
       "      <th>Low</th>\n",
       "      <th>Close</th>\n",
       "      <th>Volume</th>\n",
       "      <th>EMA_200</th>\n",
       "      <th>EMA_100</th>\n",
       "      <th>VWAP</th>\n",
       "      <th>Trend</th>\n",
       "    </tr>\n",
       "  </thead>\n",
       "  <tbody>\n",
       "    <tr>\n",
       "      <th>0</th>\n",
       "      <td>177.783</td>\n",
       "      <td>177.988</td>\n",
       "      <td>177.743</td>\n",
       "      <td>177.983</td>\n",
       "      <td>3148</td>\n",
       "      <td>177.983</td>\n",
       "      <td>177.983</td>\n",
       "      <td>177.905</td>\n",
       "      <td>0</td>\n",
       "    </tr>\n",
       "    <tr>\n",
       "      <th>1</th>\n",
       "      <td>177.983</td>\n",
       "      <td>178.113</td>\n",
       "      <td>177.802</td>\n",
       "      <td>177.847</td>\n",
       "      <td>3861</td>\n",
       "      <td>177.982</td>\n",
       "      <td>177.980</td>\n",
       "      <td>177.913</td>\n",
       "      <td>0</td>\n",
       "    </tr>\n",
       "    <tr>\n",
       "      <th>2</th>\n",
       "      <td>177.845</td>\n",
       "      <td>177.982</td>\n",
       "      <td>177.732</td>\n",
       "      <td>177.841</td>\n",
       "      <td>3443</td>\n",
       "      <td>177.980</td>\n",
       "      <td>177.978</td>\n",
       "      <td>177.893</td>\n",
       "      <td>0</td>\n",
       "    </tr>\n",
       "    <tr>\n",
       "      <th>3</th>\n",
       "      <td>177.844</td>\n",
       "      <td>178.021</td>\n",
       "      <td>177.799</td>\n",
       "      <td>178.005</td>\n",
       "      <td>2756</td>\n",
       "      <td>177.980</td>\n",
       "      <td>177.978</td>\n",
       "      <td>177.903</td>\n",
       "      <td>0</td>\n",
       "    </tr>\n",
       "    <tr>\n",
       "      <th>4</th>\n",
       "      <td>177.996</td>\n",
       "      <td>178.272</td>\n",
       "      <td>177.947</td>\n",
       "      <td>178.243</td>\n",
       "      <td>2596</td>\n",
       "      <td>177.983</td>\n",
       "      <td>177.983</td>\n",
       "      <td>177.969</td>\n",
       "      <td>1</td>\n",
       "    </tr>\n",
       "    <tr>\n",
       "      <th>...</th>\n",
       "      <td>...</td>\n",
       "      <td>...</td>\n",
       "      <td>...</td>\n",
       "      <td>...</td>\n",
       "      <td>...</td>\n",
       "      <td>...</td>\n",
       "      <td>...</td>\n",
       "      <td>...</td>\n",
       "      <td>...</td>\n",
       "    </tr>\n",
       "    <tr>\n",
       "      <th>99995</th>\n",
       "      <td>158.498</td>\n",
       "      <td>158.626</td>\n",
       "      <td>158.465</td>\n",
       "      <td>158.555</td>\n",
       "      <td>2379</td>\n",
       "      <td>158.762</td>\n",
       "      <td>158.763</td>\n",
       "      <td>158.484</td>\n",
       "      <td>-1</td>\n",
       "    </tr>\n",
       "    <tr>\n",
       "      <th>99996</th>\n",
       "      <td>158.553</td>\n",
       "      <td>158.590</td>\n",
       "      <td>158.478</td>\n",
       "      <td>158.484</td>\n",
       "      <td>2185</td>\n",
       "      <td>158.759</td>\n",
       "      <td>158.758</td>\n",
       "      <td>158.517</td>\n",
       "      <td>-1</td>\n",
       "    </tr>\n",
       "    <tr>\n",
       "      <th>99997</th>\n",
       "      <td>158.480</td>\n",
       "      <td>158.527</td>\n",
       "      <td>158.412</td>\n",
       "      <td>158.450</td>\n",
       "      <td>2411</td>\n",
       "      <td>158.756</td>\n",
       "      <td>158.752</td>\n",
       "      <td>158.509</td>\n",
       "      <td>-1</td>\n",
       "    </tr>\n",
       "    <tr>\n",
       "      <th>99998</th>\n",
       "      <td>158.449</td>\n",
       "      <td>158.462</td>\n",
       "      <td>158.370</td>\n",
       "      <td>158.426</td>\n",
       "      <td>1599</td>\n",
       "      <td>158.753</td>\n",
       "      <td>158.745</td>\n",
       "      <td>158.471</td>\n",
       "      <td>-1</td>\n",
       "    </tr>\n",
       "    <tr>\n",
       "      <th>99999</th>\n",
       "      <td>158.426</td>\n",
       "      <td>158.452</td>\n",
       "      <td>158.383</td>\n",
       "      <td>158.400</td>\n",
       "      <td>1713</td>\n",
       "      <td>158.750</td>\n",
       "      <td>158.738</td>\n",
       "      <td>158.435</td>\n",
       "      <td>-1</td>\n",
       "    </tr>\n",
       "  </tbody>\n",
       "</table>\n",
       "<p>100000 rows × 9 columns</p>\n",
       "</div>"
      ],
      "text/plain": [
       "          Open     High      Low    Close  Volume  EMA_200  EMA_100     VWAP  \\\n",
       "0      177.783  177.988  177.743  177.983    3148  177.983  177.983  177.905   \n",
       "1      177.983  178.113  177.802  177.847    3861  177.982  177.980  177.913   \n",
       "2      177.845  177.982  177.732  177.841    3443  177.980  177.978  177.893   \n",
       "3      177.844  178.021  177.799  178.005    2756  177.980  177.978  177.903   \n",
       "4      177.996  178.272  177.947  178.243    2596  177.983  177.983  177.969   \n",
       "...        ...      ...      ...      ...     ...      ...      ...      ...   \n",
       "99995  158.498  158.626  158.465  158.555    2379  158.762  158.763  158.484   \n",
       "99996  158.553  158.590  158.478  158.484    2185  158.759  158.758  158.517   \n",
       "99997  158.480  158.527  158.412  158.450    2411  158.756  158.752  158.509   \n",
       "99998  158.449  158.462  158.370  158.426    1599  158.753  158.745  158.471   \n",
       "99999  158.426  158.452  158.383  158.400    1713  158.750  158.738  158.435   \n",
       "\n",
       "       Trend  \n",
       "0          0  \n",
       "1          0  \n",
       "2          0  \n",
       "3          0  \n",
       "4          1  \n",
       "...      ...  \n",
       "99995     -1  \n",
       "99996     -1  \n",
       "99997     -1  \n",
       "99998     -1  \n",
       "99999     -1  \n",
       "\n",
       "[100000 rows x 9 columns]"
      ]
     },
     "execution_count": 139,
     "metadata": {},
     "output_type": "execute_result"
    }
   ],
   "source": [
    "raw_df"
   ]
  },
  {
   "cell_type": "code",
   "execution_count": 140,
   "metadata": {},
   "outputs": [],
   "source": [
    "raw_df.to_csv('..\\\\pre_processed_data\\\\bot_df\\\\GBPJPY_M30.csv')"
   ]
  },
  {
   "cell_type": "code",
   "execution_count": 141,
   "metadata": {},
   "outputs": [],
   "source": [
    "final_df = raw_df.drop(['Open', 'High', 'Low', 'Volume'], axis=1)"
   ]
  },
  {
   "cell_type": "code",
   "execution_count": 142,
   "metadata": {},
   "outputs": [],
   "source": [
    "final_df.to_csv('..\\\\final_data\\\\bot_df\\\\GBPJPY_M30.csv')"
   ]
  },
  {
   "cell_type": "code",
   "execution_count": 75,
   "metadata": {},
   "outputs": [],
   "source": [
    "final_df = pd.read_csv('..\\\\final_data\\\\bot_df\\\\GBPJPY_M30.csv')"
   ]
  },
  {
   "cell_type": "code",
   "execution_count": 76,
   "metadata": {},
   "outputs": [],
   "source": [
    "final_df = final_df.drop('Unnamed: 0', axis=1)"
   ]
  },
  {
   "cell_type": "code",
   "execution_count": 143,
   "metadata": {},
   "outputs": [
    {
     "data": {
      "text/html": [
       "<div>\n",
       "<style scoped>\n",
       "    .dataframe tbody tr th:only-of-type {\n",
       "        vertical-align: middle;\n",
       "    }\n",
       "\n",
       "    .dataframe tbody tr th {\n",
       "        vertical-align: top;\n",
       "    }\n",
       "\n",
       "    .dataframe thead th {\n",
       "        text-align: right;\n",
       "    }\n",
       "</style>\n",
       "<table border=\"1\" class=\"dataframe\">\n",
       "  <thead>\n",
       "    <tr style=\"text-align: right;\">\n",
       "      <th></th>\n",
       "      <th>Close</th>\n",
       "      <th>EMA_200</th>\n",
       "      <th>EMA_100</th>\n",
       "      <th>VWAP</th>\n",
       "      <th>Trend</th>\n",
       "    </tr>\n",
       "  </thead>\n",
       "  <tbody>\n",
       "    <tr>\n",
       "      <th>0</th>\n",
       "      <td>177.983</td>\n",
       "      <td>177.983</td>\n",
       "      <td>177.983</td>\n",
       "      <td>177.905</td>\n",
       "      <td>0</td>\n",
       "    </tr>\n",
       "    <tr>\n",
       "      <th>1</th>\n",
       "      <td>177.847</td>\n",
       "      <td>177.982</td>\n",
       "      <td>177.980</td>\n",
       "      <td>177.913</td>\n",
       "      <td>0</td>\n",
       "    </tr>\n",
       "    <tr>\n",
       "      <th>2</th>\n",
       "      <td>177.841</td>\n",
       "      <td>177.980</td>\n",
       "      <td>177.978</td>\n",
       "      <td>177.893</td>\n",
       "      <td>0</td>\n",
       "    </tr>\n",
       "    <tr>\n",
       "      <th>3</th>\n",
       "      <td>178.005</td>\n",
       "      <td>177.980</td>\n",
       "      <td>177.978</td>\n",
       "      <td>177.903</td>\n",
       "      <td>0</td>\n",
       "    </tr>\n",
       "    <tr>\n",
       "      <th>4</th>\n",
       "      <td>178.243</td>\n",
       "      <td>177.983</td>\n",
       "      <td>177.983</td>\n",
       "      <td>177.969</td>\n",
       "      <td>1</td>\n",
       "    </tr>\n",
       "    <tr>\n",
       "      <th>...</th>\n",
       "      <td>...</td>\n",
       "      <td>...</td>\n",
       "      <td>...</td>\n",
       "      <td>...</td>\n",
       "      <td>...</td>\n",
       "    </tr>\n",
       "    <tr>\n",
       "      <th>99995</th>\n",
       "      <td>158.555</td>\n",
       "      <td>158.762</td>\n",
       "      <td>158.763</td>\n",
       "      <td>158.484</td>\n",
       "      <td>-1</td>\n",
       "    </tr>\n",
       "    <tr>\n",
       "      <th>99996</th>\n",
       "      <td>158.484</td>\n",
       "      <td>158.759</td>\n",
       "      <td>158.758</td>\n",
       "      <td>158.517</td>\n",
       "      <td>-1</td>\n",
       "    </tr>\n",
       "    <tr>\n",
       "      <th>99997</th>\n",
       "      <td>158.450</td>\n",
       "      <td>158.756</td>\n",
       "      <td>158.752</td>\n",
       "      <td>158.509</td>\n",
       "      <td>-1</td>\n",
       "    </tr>\n",
       "    <tr>\n",
       "      <th>99998</th>\n",
       "      <td>158.426</td>\n",
       "      <td>158.753</td>\n",
       "      <td>158.745</td>\n",
       "      <td>158.471</td>\n",
       "      <td>-1</td>\n",
       "    </tr>\n",
       "    <tr>\n",
       "      <th>99999</th>\n",
       "      <td>158.400</td>\n",
       "      <td>158.750</td>\n",
       "      <td>158.738</td>\n",
       "      <td>158.435</td>\n",
       "      <td>-1</td>\n",
       "    </tr>\n",
       "  </tbody>\n",
       "</table>\n",
       "<p>100000 rows × 5 columns</p>\n",
       "</div>"
      ],
      "text/plain": [
       "         Close  EMA_200  EMA_100     VWAP  Trend\n",
       "0      177.983  177.983  177.983  177.905      0\n",
       "1      177.847  177.982  177.980  177.913      0\n",
       "2      177.841  177.980  177.978  177.893      0\n",
       "3      178.005  177.980  177.978  177.903      0\n",
       "4      178.243  177.983  177.983  177.969      1\n",
       "...        ...      ...      ...      ...    ...\n",
       "99995  158.555  158.762  158.763  158.484     -1\n",
       "99996  158.484  158.759  158.758  158.517     -1\n",
       "99997  158.450  158.756  158.752  158.509     -1\n",
       "99998  158.426  158.753  158.745  158.471     -1\n",
       "99999  158.400  158.750  158.738  158.435     -1\n",
       "\n",
       "[100000 rows x 5 columns]"
      ]
     },
     "execution_count": 143,
     "metadata": {},
     "output_type": "execute_result"
    }
   ],
   "source": [
    "final_df"
   ]
  },
  {
   "cell_type": "code",
   "execution_count": 144,
   "metadata": {},
   "outputs": [
    {
     "data": {
      "text/plain": [
       "Close      float64\n",
       "EMA_200    float64\n",
       "EMA_100    float64\n",
       "VWAP       float64\n",
       "Trend        int64\n",
       "dtype: object"
      ]
     },
     "execution_count": 144,
     "metadata": {},
     "output_type": "execute_result"
    }
   ],
   "source": [
    "final_df.dtypes"
   ]
  },
  {
   "cell_type": "code",
   "execution_count": 3,
   "metadata": {},
   "outputs": [],
   "source": [
    "from sklearn.preprocessing import StandardScaler\n",
    "from sklearn.model_selection import train_test_split\n",
    "scaler = StandardScaler()"
   ]
  },
  {
   "cell_type": "code",
   "execution_count": 146,
   "metadata": {},
   "outputs": [],
   "source": [
    "x0=[]\n",
    "x1=[]\n",
    "x2=[]\n",
    "x3=[]\n",
    "y=[]"
   ]
  },
  {
   "cell_type": "code",
   "execution_count": 147,
   "metadata": {},
   "outputs": [],
   "source": [
    "for i in range (0, final_df.shape[0] - 200):\n",
    "    x0.append(final_df.iloc[i:i+200, 0])\n",
    "    x1.append(final_df.iloc[i:i+200, 1])\n",
    "    x2.append(final_df.iloc[i:i+200, 2])\n",
    "    x3.append(final_df.iloc[i:i+200, 3])\n",
    "    y.append(final_df.iloc[i+200, 4])\n",
    "# maybe also try with 400 or 2000 instead of 200"
   ]
  },
  {
   "cell_type": "code",
   "execution_count": 148,
   "metadata": {},
   "outputs": [],
   "source": [
    "x0, x1, x2, x3, y = np.array(x0), np.array(x1), np.array(x2), np.array(x3), np.array(y)"
   ]
  },
  {
   "cell_type": "code",
   "execution_count": 149,
   "metadata": {},
   "outputs": [],
   "source": [
    "y=np.reshape(y, (len(y), 1))"
   ]
  },
  {
   "cell_type": "code",
   "execution_count": 150,
   "metadata": {},
   "outputs": [],
   "source": [
    "x0 = scaler.fit_transform(x0)\n",
    "x1 = scaler.fit_transform(x1)\n",
    "x2 = scaler.fit_transform(x2)\n",
    "x3 = scaler.fit_transform(x3)"
   ]
  },
  {
   "cell_type": "code",
   "execution_count": 151,
   "metadata": {},
   "outputs": [],
   "source": [
    "X = np.stack([x0, x1, x2, x3], axis=2)"
   ]
  },
  {
   "cell_type": "code",
   "execution_count": 152,
   "metadata": {},
   "outputs": [
    {
     "data": {
      "text/plain": [
       "(99800, 200, 4)"
      ]
     },
     "execution_count": 152,
     "metadata": {},
     "output_type": "execute_result"
    }
   ],
   "source": [
    "X.shape"
   ]
  },
  {
   "cell_type": "code",
   "execution_count": 153,
   "metadata": {},
   "outputs": [],
   "source": [
    "import tensorflow as tf\n",
    "from tensorflow import keras\n",
    "from keras.models import Sequential\n",
    "from keras.layers import CuDNNLSTM, Dense\n",
    "from keras import optimizers"
   ]
  },
  {
   "cell_type": "code",
   "execution_count": 2,
   "metadata": {},
   "outputs": [
    {
     "ename": "NameError",
     "evalue": "name 'train_test_split' is not defined",
     "output_type": "error",
     "traceback": [
      "\u001b[1;31m---------------------------------------------------------------------------\u001b[0m",
      "\u001b[1;31mNameError\u001b[0m                                 Traceback (most recent call last)",
      "\u001b[1;32m~\\AppData\\Local\\Temp\\ipykernel_6728\\4108148199.py\u001b[0m in \u001b[0;36m<module>\u001b[1;34m\u001b[0m\n\u001b[1;32m----> 1\u001b[1;33m \u001b[0mX_train\u001b[0m\u001b[1;33m,\u001b[0m \u001b[0mX_test\u001b[0m\u001b[1;33m,\u001b[0m \u001b[0my_train\u001b[0m\u001b[1;33m,\u001b[0m \u001b[0my_test\u001b[0m \u001b[1;33m=\u001b[0m \u001b[0mtrain_test_split\u001b[0m\u001b[1;33m(\u001b[0m\u001b[0mX\u001b[0m\u001b[1;33m,\u001b[0m \u001b[0my\u001b[0m\u001b[1;33m,\u001b[0m \u001b[0mtest_size\u001b[0m \u001b[1;33m=\u001b[0m \u001b[1;36m0.2\u001b[0m\u001b[1;33m,\u001b[0m \u001b[0mrandom_state\u001b[0m\u001b[1;33m=\u001b[0m\u001b[1;36m42\u001b[0m\u001b[1;33m)\u001b[0m\u001b[1;33m\u001b[0m\u001b[1;33m\u001b[0m\u001b[0m\n\u001b[0m",
      "\u001b[1;31mNameError\u001b[0m: name 'train_test_split' is not defined"
     ]
    }
   ],
   "source": [
    "X_train, X_test, y_train, y_test = train_test_split(X, y, test_size = 0.2, random_state=42)"
   ]
  },
  {
   "cell_type": "code",
   "execution_count": 155,
   "metadata": {},
   "outputs": [
    {
     "data": {
      "text/plain": [
       "(79840, 200, 4)"
      ]
     },
     "execution_count": 155,
     "metadata": {},
     "output_type": "execute_result"
    }
   ],
   "source": [
    "X_train.shape"
   ]
  },
  {
   "cell_type": "code",
   "execution_count": 156,
   "metadata": {},
   "outputs": [
    {
     "data": {
      "text/plain": [
       "array([[[-1.4433468 , -1.41351912, -1.4017982 , -1.45778335],\n",
       "        [-1.4446374 , -1.41391135, -1.40270367, -1.45284925],\n",
       "        [-1.4341842 , -1.4141108 , -1.40335229, -1.44406457],\n",
       "        ...,\n",
       "        [-1.39786926, -1.40791635, -1.4037265 , -1.3997929 ],\n",
       "        [-1.3960131 , -1.40779666, -1.40360756, -1.39787237],\n",
       "        [-1.40156084, -1.4078059 , -1.40361747, -1.39807643]],\n",
       "\n",
       "       [[-0.96103385, -0.95738379, -0.95466562, -0.96506596],\n",
       "        [-0.96058546, -0.9574486 , -0.95479448, -0.96205061],\n",
       "        [-0.95834012, -0.95751342, -0.95492335, -0.95974111],\n",
       "        ...,\n",
       "        [-1.01661341, -0.98679183, -1.00501901, -1.01685862],\n",
       "        [-1.0213813 , -0.98718079, -1.00534402, -1.01737741],\n",
       "        [-1.0236385 , -0.98756977, -1.00573347, -1.02008523]],\n",
       "\n",
       "       [[ 2.32127392,  2.19983358,  2.22342405,  2.30908539],\n",
       "        [ 2.30796835,  2.20096775,  2.22513595,  2.31053924],\n",
       "        [ 2.30223467,  2.20203768,  2.22671943,  2.31064553],\n",
       "        ...,\n",
       "        [ 2.08146058,  2.20315868,  2.17150096,  2.09354885],\n",
       "        [ 2.10430591,  2.20224247,  2.1702006 ,  2.08916117],\n",
       "        [ 2.09560509,  2.20119738,  2.16883587,  2.09146926]],\n",
       "\n",
       "       ...,\n",
       "\n",
       "       [[ 0.03664038,  0.07839943,  0.09108392,  0.03968478],\n",
       "        [ 0.02619256,  0.07789863,  0.08981321,  0.0353975 ],\n",
       "        [ 0.01799055,  0.07726929,  0.0883498 ,  0.02822228],\n",
       "        ...,\n",
       "        [-0.06585582, -0.04303208, -0.06622068, -0.06892247],\n",
       "        [-0.06867441, -0.04327651, -0.06627171, -0.06845774],\n",
       "        [-0.07149308, -0.04358538, -0.06638714, -0.06844363]],\n",
       "\n",
       "       [[ 2.12664177,  2.10626736,  2.11650523,  2.12535917],\n",
       "        [ 2.1278366 ,  2.10650059,  2.11673872,  2.12636141],\n",
       "        [ 2.12094545,  2.10673382,  2.11690796,  2.12582354],\n",
       "        ...,\n",
       "        [ 1.9597188 ,  2.03352297,  2.0049971 ,  1.95461607],\n",
       "        [ 1.95668077,  2.03279731,  2.00408033,  1.95602012],\n",
       "        [ 1.95447975,  2.03207168,  2.0031636 ,  1.95742435]],\n",
       "\n",
       "       [[ 0.37610758,  0.33757016,  0.36046797,  0.37678357],\n",
       "        [ 0.39280913,  0.33810104,  0.36112737,  0.37583772],\n",
       "        [ 0.38249418,  0.33856767,  0.36152991,  0.38163017],\n",
       "        ...,\n",
       "        [ 0.58630929,  0.40232611,  0.43792852,  0.57500972],\n",
       "        [ 0.59238751,  0.40421598,  0.44097807,  0.57851247],\n",
       "        [ 0.60490423,  0.40623485,  0.44422099,  0.58903313]]])"
      ]
     },
     "execution_count": 156,
     "metadata": {},
     "output_type": "execute_result"
    }
   ],
   "source": [
    "X_train"
   ]
  },
  {
   "cell_type": "code",
   "execution_count": 49,
   "metadata": {},
   "outputs": [
    {
     "data": {
      "text/plain": [
       "(79840, 200, 4)"
      ]
     },
     "execution_count": 49,
     "metadata": {},
     "output_type": "execute_result"
    }
   ],
   "source": [
    "X_train.shape"
   ]
  },
  {
   "cell_type": "code",
   "execution_count": 162,
   "metadata": {},
   "outputs": [],
   "source": [
    "model = Sequential()"
   ]
  },
  {
   "cell_type": "code",
   "execution_count": 163,
   "metadata": {},
   "outputs": [],
   "source": [
    "model.add(CuDNNLSTM(64, return_sequences=True, input_shape=(X_train.shape[1], X_train.shape[2])))\n",
    "model.add(CuDNNLSTM(64, return_sequences=False))\n",
    "model.add(Dense(64, activation='relu'))\n",
    "model.add(Dense(1))"
   ]
  },
  {
   "cell_type": "code",
   "execution_count": 164,
   "metadata": {},
   "outputs": [],
   "source": [
    "model.compile(optimizer='adam', loss='mse', metrics=['mae'])"
   ]
  },
  {
   "cell_type": "code",
   "execution_count": 165,
   "metadata": {},
   "outputs": [
    {
     "name": "stdout",
     "output_type": "stream",
     "text": [
      "Model: \"sequential_5\"\n",
      "_________________________________________________________________\n",
      " Layer (type)                Output Shape              Param #   \n",
      "=================================================================\n",
      " cu_dnnlstm_11 (CuDNNLSTM)   (None, 200, 64)           17920     \n",
      "                                                                 \n",
      " cu_dnnlstm_12 (CuDNNLSTM)   (None, 64)                33280     \n",
      "                                                                 \n",
      " dense_10 (Dense)            (None, 64)                4160      \n",
      "                                                                 \n",
      " dense_11 (Dense)            (None, 1)                 65        \n",
      "                                                                 \n",
      "=================================================================\n",
      "Total params: 55,425\n",
      "Trainable params: 55,425\n",
      "Non-trainable params: 0\n",
      "_________________________________________________________________\n"
     ]
    }
   ],
   "source": [
    "model.summary()"
   ]
  },
  {
   "cell_type": "code",
   "execution_count": 166,
   "metadata": {},
   "outputs": [],
   "source": [
    "from keras.callbacks import EarlyStopping\n",
    "es = EarlyStopping(monitor='val_loss', patience=5, verbose=1, mode='auto')"
   ]
  },
  {
   "cell_type": "code",
   "execution_count": 167,
   "metadata": {},
   "outputs": [
    {
     "name": "stdout",
     "output_type": "stream",
     "text": [
      "Epoch 1/40\n",
      "499/499 [==============================] - 16s 28ms/step - loss: 0.2445 - mae: 0.3871 - val_loss: 0.2176 - val_mae: 0.3786\n",
      "Epoch 2/40\n",
      "499/499 [==============================] - 14s 29ms/step - loss: 0.2011 - mae: 0.3517 - val_loss: 0.1877 - val_mae: 0.3353\n",
      "Epoch 3/40\n",
      "499/499 [==============================] - 14s 28ms/step - loss: 0.1884 - mae: 0.3408 - val_loss: 0.1915 - val_mae: 0.3380\n",
      "Epoch 4/40\n",
      "499/499 [==============================] - 13s 27ms/step - loss: 0.1750 - mae: 0.3281 - val_loss: 0.1581 - val_mae: 0.3171\n",
      "Epoch 5/40\n",
      "499/499 [==============================] - 11s 22ms/step - loss: 0.1596 - mae: 0.3107 - val_loss: 0.1507 - val_mae: 0.2962\n",
      "Epoch 6/40\n",
      "499/499 [==============================] - 11s 22ms/step - loss: 0.1542 - mae: 0.3010 - val_loss: 0.1473 - val_mae: 0.3019\n",
      "Epoch 7/40\n",
      "499/499 [==============================] - 11s 23ms/step - loss: 0.1533 - mae: 0.2991 - val_loss: 0.1528 - val_mae: 0.3022\n",
      "Epoch 8/40\n",
      "499/499 [==============================] - 11s 22ms/step - loss: 0.1504 - mae: 0.2940 - val_loss: 0.1448 - val_mae: 0.2763\n",
      "Epoch 9/40\n",
      "499/499 [==============================] - 11s 23ms/step - loss: 0.1526 - mae: 0.2961 - val_loss: 0.1560 - val_mae: 0.3010\n",
      "Epoch 10/40\n",
      "499/499 [==============================] - 11s 22ms/step - loss: 0.1500 - mae: 0.2925 - val_loss: 0.1457 - val_mae: 0.3012\n",
      "Epoch 11/40\n",
      "499/499 [==============================] - 11s 22ms/step - loss: 0.1498 - mae: 0.2922 - val_loss: 0.1432 - val_mae: 0.2794\n",
      "Epoch 12/40\n",
      "499/499 [==============================] - 11s 22ms/step - loss: 0.1502 - mae: 0.2927 - val_loss: 0.1432 - val_mae: 0.2844\n",
      "Epoch 13/40\n",
      "499/499 [==============================] - 11s 21ms/step - loss: 0.1483 - mae: 0.2895 - val_loss: 0.1458 - val_mae: 0.2817\n",
      "Epoch 14/40\n",
      "499/499 [==============================] - 11s 22ms/step - loss: 0.1495 - mae: 0.2904 - val_loss: 0.1406 - val_mae: 0.2764\n",
      "Epoch 15/40\n",
      "499/499 [==============================] - 11s 22ms/step - loss: 0.1474 - mae: 0.2879 - val_loss: 0.1525 - val_mae: 0.3066\n",
      "Epoch 16/40\n",
      "499/499 [==============================] - 11s 23ms/step - loss: 0.1480 - mae: 0.2879 - val_loss: 0.1603 - val_mae: 0.2902\n",
      "Epoch 17/40\n",
      "499/499 [==============================] - 11s 22ms/step - loss: 0.1485 - mae: 0.2875 - val_loss: 0.1457 - val_mae: 0.2847\n",
      "Epoch 18/40\n",
      "499/499 [==============================] - 12s 23ms/step - loss: 0.1473 - mae: 0.2861 - val_loss: 0.1460 - val_mae: 0.2883\n",
      "Epoch 19/40\n",
      "499/499 [==============================] - 11s 22ms/step - loss: 0.1468 - mae: 0.2847 - val_loss: 0.1452 - val_mae: 0.2703\n",
      "Epoch 19: early stopping\n"
     ]
    },
    {
     "data": {
      "text/plain": [
       "<keras.callbacks.History at 0x27998beef40>"
      ]
     },
     "execution_count": 167,
     "metadata": {},
     "output_type": "execute_result"
    }
   ],
   "source": [
    "model.fit(X_train, y_train, validation_split=0.2, epochs=40, batch_size=128, callbacks=[es])"
   ]
  },
  {
   "cell_type": "code",
   "execution_count": 168,
   "metadata": {},
   "outputs": [],
   "source": [
    "model.save('..\\\\models\\\\bot\\\\bot-relu-3-main.hdf5')"
   ]
  },
  {
   "cell_type": "code",
   "execution_count": 169,
   "metadata": {},
   "outputs": [
    {
     "name": "stdout",
     "output_type": "stream",
     "text": [
      "Test loss: 0.14518789947032928\n",
      "Test accuracy: 0.27150723338127136\n"
     ]
    }
   ],
   "source": [
    "score = model.evaluate(X_test, y_test, verbose=0)\n",
    "print('Test loss:', score[0])\n",
    "print('Test accuracy:', score[1])"
   ]
  },
  {
   "cell_type": "code",
   "execution_count": 170,
   "metadata": {},
   "outputs": [
    {
     "data": {
      "text/plain": [
       "(19960, 200, 4)"
      ]
     },
     "execution_count": 170,
     "metadata": {},
     "output_type": "execute_result"
    }
   ],
   "source": [
    "X_test.shape"
   ]
  },
  {
   "cell_type": "code",
   "execution_count": 1,
   "metadata": {},
   "outputs": [
    {
     "ename": "NameError",
     "evalue": "name 'model' is not defined",
     "output_type": "error",
     "traceback": [
      "\u001b[1;31m---------------------------------------------------------------------------\u001b[0m",
      "\u001b[1;31mNameError\u001b[0m                                 Traceback (most recent call last)",
      "\u001b[1;32m~\\AppData\\Local\\Temp\\ipykernel_6728\\4109673188.py\u001b[0m in \u001b[0;36m<module>\u001b[1;34m\u001b[0m\n\u001b[1;32m----> 1\u001b[1;33m \u001b[0mpredictions\u001b[0m \u001b[1;33m=\u001b[0m \u001b[0mmodel\u001b[0m\u001b[1;33m.\u001b[0m\u001b[0mpredict\u001b[0m\u001b[1;33m(\u001b[0m\u001b[0mX_test\u001b[0m\u001b[1;33m)\u001b[0m\u001b[1;33m\u001b[0m\u001b[1;33m\u001b[0m\u001b[0m\n\u001b[0m",
      "\u001b[1;31mNameError\u001b[0m: name 'model' is not defined"
     ]
    }
   ],
   "source": [
    "predictions = model.predict(X_test)"
   ]
  },
  {
   "cell_type": "code",
   "execution_count": null,
   "metadata": {},
   "outputs": [],
   "source": [
    "plt.figure(figsize=(30,4))\n",
    "plt.plot(predictions[200:400], 'g')\n",
    "plt.plot((y_test[200:400]),  'r')\n",
    "plt.axhline(y=0, color='black', linestyle='--')\n",
    "plt.show"
   ]
  }
 ],
 "metadata": {
  "kernelspec": {
   "display_name": "base",
   "language": "python",
   "name": "python3"
  },
  "language_info": {
   "codemirror_mode": {
    "name": "ipython",
    "version": 3
   },
   "file_extension": ".py",
   "mimetype": "text/x-python",
   "name": "python",
   "nbconvert_exporter": "python",
   "pygments_lexer": "ipython3",
   "version": "3.9.13"
  },
  "orig_nbformat": 4,
  "vscode": {
   "interpreter": {
    "hash": "daba84b9011790cc9eaf4cc21f3efb4c679e43558c1b80abd9638a9f3765cdfc"
   }
  }
 },
 "nbformat": 4,
 "nbformat_minor": 2
}
