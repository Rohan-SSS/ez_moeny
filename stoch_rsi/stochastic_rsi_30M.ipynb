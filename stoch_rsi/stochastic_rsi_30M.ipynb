{
 "cells": [
  {
   "cell_type": "code",
   "execution_count": 1,
   "metadata": {},
   "outputs": [],
   "source": [
    "import pandas as pd\n",
    "import numpy as np\n",
    "import matplotlib.pyplot as plt\n",
    "\n",
    "import datetime\n",
    "import time"
   ]
  },
  {
   "cell_type": "code",
   "execution_count": 2,
   "metadata": {},
   "outputs": [],
   "source": [
    "df = pd.read_csv(\"..\\\\raw_data_30m\\\\currency_pairs\\\\EURUSD_M30.csv\", sep='\\t')"
   ]
  },
  {
   "cell_type": "code",
   "execution_count": 3,
   "metadata": {},
   "outputs": [
    {
     "data": {
      "text/html": [
       "<div>\n",
       "<style scoped>\n",
       "    .dataframe tbody tr th:only-of-type {\n",
       "        vertical-align: middle;\n",
       "    }\n",
       "\n",
       "    .dataframe tbody tr th {\n",
       "        vertical-align: top;\n",
       "    }\n",
       "\n",
       "    .dataframe thead th {\n",
       "        text-align: right;\n",
       "    }\n",
       "</style>\n",
       "<table border=\"1\" class=\"dataframe\">\n",
       "  <thead>\n",
       "    <tr style=\"text-align: right;\">\n",
       "      <th></th>\n",
       "      <th>Time</th>\n",
       "      <th>Open</th>\n",
       "      <th>High</th>\n",
       "      <th>Low</th>\n",
       "      <th>Close</th>\n",
       "      <th>Volume</th>\n",
       "    </tr>\n",
       "  </thead>\n",
       "  <tbody>\n",
       "    <tr>\n",
       "      <th>0</th>\n",
       "      <td>2007-02-05 10:30:00</td>\n",
       "      <td>1.29246</td>\n",
       "      <td>1.29273</td>\n",
       "      <td>1.29162</td>\n",
       "      <td>1.29273</td>\n",
       "      <td>277811</td>\n",
       "    </tr>\n",
       "    <tr>\n",
       "      <th>1</th>\n",
       "      <td>2007-02-05 11:00:00</td>\n",
       "      <td>1.29271</td>\n",
       "      <td>1.29325</td>\n",
       "      <td>1.29240</td>\n",
       "      <td>1.29304</td>\n",
       "      <td>157253</td>\n",
       "    </tr>\n",
       "    <tr>\n",
       "      <th>2</th>\n",
       "      <td>2007-02-05 11:30:00</td>\n",
       "      <td>1.29304</td>\n",
       "      <td>1.29351</td>\n",
       "      <td>1.29270</td>\n",
       "      <td>1.29336</td>\n",
       "      <td>106005</td>\n",
       "    </tr>\n",
       "    <tr>\n",
       "      <th>3</th>\n",
       "      <td>2007-02-05 12:00:00</td>\n",
       "      <td>1.29331</td>\n",
       "      <td>1.29337</td>\n",
       "      <td>1.29257</td>\n",
       "      <td>1.29297</td>\n",
       "      <td>99885</td>\n",
       "    </tr>\n",
       "    <tr>\n",
       "      <th>4</th>\n",
       "      <td>2007-02-05 12:30:00</td>\n",
       "      <td>1.29295</td>\n",
       "      <td>1.29360</td>\n",
       "      <td>1.29231</td>\n",
       "      <td>1.29266</td>\n",
       "      <td>68612</td>\n",
       "    </tr>\n",
       "    <tr>\n",
       "      <th>...</th>\n",
       "      <td>...</td>\n",
       "      <td>...</td>\n",
       "      <td>...</td>\n",
       "      <td>...</td>\n",
       "      <td>...</td>\n",
       "      <td>...</td>\n",
       "    </tr>\n",
       "    <tr>\n",
       "      <th>199995</th>\n",
       "      <td>2023-02-10 13:00:00</td>\n",
       "      <td>1.06736</td>\n",
       "      <td>1.06766</td>\n",
       "      <td>1.06709</td>\n",
       "      <td>1.06712</td>\n",
       "      <td>3963</td>\n",
       "    </tr>\n",
       "    <tr>\n",
       "      <th>199996</th>\n",
       "      <td>2023-02-10 13:30:00</td>\n",
       "      <td>1.06712</td>\n",
       "      <td>1.06751</td>\n",
       "      <td>1.06680</td>\n",
       "      <td>1.06744</td>\n",
       "      <td>5103</td>\n",
       "    </tr>\n",
       "    <tr>\n",
       "      <th>199997</th>\n",
       "      <td>2023-02-10 14:00:00</td>\n",
       "      <td>1.06742</td>\n",
       "      <td>1.06750</td>\n",
       "      <td>1.06709</td>\n",
       "      <td>1.06730</td>\n",
       "      <td>3513</td>\n",
       "    </tr>\n",
       "    <tr>\n",
       "      <th>199998</th>\n",
       "      <td>2023-02-10 14:30:00</td>\n",
       "      <td>1.06732</td>\n",
       "      <td>1.06786</td>\n",
       "      <td>1.06731</td>\n",
       "      <td>1.06783</td>\n",
       "      <td>2894</td>\n",
       "    </tr>\n",
       "    <tr>\n",
       "      <th>199999</th>\n",
       "      <td>2023-02-10 15:00:00</td>\n",
       "      <td>1.06785</td>\n",
       "      <td>1.06807</td>\n",
       "      <td>1.06766</td>\n",
       "      <td>1.06788</td>\n",
       "      <td>2410</td>\n",
       "    </tr>\n",
       "  </tbody>\n",
       "</table>\n",
       "<p>200000 rows × 6 columns</p>\n",
       "</div>"
      ],
      "text/plain": [
       "                       Time     Open     High      Low    Close  Volume\n",
       "0       2007-02-05 10:30:00  1.29246  1.29273  1.29162  1.29273  277811\n",
       "1       2007-02-05 11:00:00  1.29271  1.29325  1.29240  1.29304  157253\n",
       "2       2007-02-05 11:30:00  1.29304  1.29351  1.29270  1.29336  106005\n",
       "3       2007-02-05 12:00:00  1.29331  1.29337  1.29257  1.29297   99885\n",
       "4       2007-02-05 12:30:00  1.29295  1.29360  1.29231  1.29266   68612\n",
       "...                     ...      ...      ...      ...      ...     ...\n",
       "199995  2023-02-10 13:00:00  1.06736  1.06766  1.06709  1.06712    3963\n",
       "199996  2023-02-10 13:30:00  1.06712  1.06751  1.06680  1.06744    5103\n",
       "199997  2023-02-10 14:00:00  1.06742  1.06750  1.06709  1.06730    3513\n",
       "199998  2023-02-10 14:30:00  1.06732  1.06786  1.06731  1.06783    2894\n",
       "199999  2023-02-10 15:00:00  1.06785  1.06807  1.06766  1.06788    2410\n",
       "\n",
       "[200000 rows x 6 columns]"
      ]
     },
     "execution_count": 3,
     "metadata": {},
     "output_type": "execute_result"
    }
   ],
   "source": [
    "# df = df[:500]\n",
    "df"
   ]
  },
  {
   "cell_type": "code",
   "execution_count": 178,
   "metadata": {},
   "outputs": [],
   "source": [
    "# Define periods\n",
    "k_period = 14\n",
    "d_period = 3\n",
    "\n",
    "# Adds a \"n_high\" column with max value of previous 14 periods\n",
    "df['n_high'] = df['High'].rolling(k_period).max()\n",
    "\n",
    "# Adds an \"n_low\" column with min value of previous 14 periods\n",
    "df['n_low'] = df['Low'].rolling(k_period).min()\n",
    "\n",
    "# Uses the min/max values to calculate the %k (as a percentage)\n",
    "df['%K'] = (df['Close'] - df['n_low']) * 100 / (df['n_high'] - df['n_low'])\n",
    "\n",
    "# Uses the %k to calculates a SMA over the past 3 values of %k\n",
    "df['%D'] = df['%K'].rolling(d_period).mean()"
   ]
  },
  {
   "cell_type": "code",
   "execution_count": 179,
   "metadata": {},
   "outputs": [
    {
     "data": {
      "text/html": [
       "<div>\n",
       "<style scoped>\n",
       "    .dataframe tbody tr th:only-of-type {\n",
       "        vertical-align: middle;\n",
       "    }\n",
       "\n",
       "    .dataframe tbody tr th {\n",
       "        vertical-align: top;\n",
       "    }\n",
       "\n",
       "    .dataframe thead th {\n",
       "        text-align: right;\n",
       "    }\n",
       "</style>\n",
       "<table border=\"1\" class=\"dataframe\">\n",
       "  <thead>\n",
       "    <tr style=\"text-align: right;\">\n",
       "      <th></th>\n",
       "      <th>Time</th>\n",
       "      <th>Open</th>\n",
       "      <th>High</th>\n",
       "      <th>Low</th>\n",
       "      <th>Close</th>\n",
       "      <th>Volume</th>\n",
       "      <th>n_high</th>\n",
       "      <th>n_low</th>\n",
       "      <th>%K</th>\n",
       "      <th>%D</th>\n",
       "    </tr>\n",
       "  </thead>\n",
       "  <tbody>\n",
       "    <tr>\n",
       "      <th>0</th>\n",
       "      <td>2007-02-05 10:30:00</td>\n",
       "      <td>1.29246</td>\n",
       "      <td>1.29273</td>\n",
       "      <td>1.29162</td>\n",
       "      <td>1.29273</td>\n",
       "      <td>277811</td>\n",
       "      <td>NaN</td>\n",
       "      <td>NaN</td>\n",
       "      <td>NaN</td>\n",
       "      <td>NaN</td>\n",
       "    </tr>\n",
       "    <tr>\n",
       "      <th>1</th>\n",
       "      <td>2007-02-05 11:00:00</td>\n",
       "      <td>1.29271</td>\n",
       "      <td>1.29325</td>\n",
       "      <td>1.29240</td>\n",
       "      <td>1.29304</td>\n",
       "      <td>157253</td>\n",
       "      <td>NaN</td>\n",
       "      <td>NaN</td>\n",
       "      <td>NaN</td>\n",
       "      <td>NaN</td>\n",
       "    </tr>\n",
       "    <tr>\n",
       "      <th>2</th>\n",
       "      <td>2007-02-05 11:30:00</td>\n",
       "      <td>1.29304</td>\n",
       "      <td>1.29351</td>\n",
       "      <td>1.29270</td>\n",
       "      <td>1.29336</td>\n",
       "      <td>106005</td>\n",
       "      <td>NaN</td>\n",
       "      <td>NaN</td>\n",
       "      <td>NaN</td>\n",
       "      <td>NaN</td>\n",
       "    </tr>\n",
       "    <tr>\n",
       "      <th>3</th>\n",
       "      <td>2007-02-05 12:00:00</td>\n",
       "      <td>1.29331</td>\n",
       "      <td>1.29337</td>\n",
       "      <td>1.29257</td>\n",
       "      <td>1.29297</td>\n",
       "      <td>99885</td>\n",
       "      <td>NaN</td>\n",
       "      <td>NaN</td>\n",
       "      <td>NaN</td>\n",
       "      <td>NaN</td>\n",
       "    </tr>\n",
       "    <tr>\n",
       "      <th>4</th>\n",
       "      <td>2007-02-05 12:30:00</td>\n",
       "      <td>1.29295</td>\n",
       "      <td>1.29360</td>\n",
       "      <td>1.29231</td>\n",
       "      <td>1.29266</td>\n",
       "      <td>68612</td>\n",
       "      <td>NaN</td>\n",
       "      <td>NaN</td>\n",
       "      <td>NaN</td>\n",
       "      <td>NaN</td>\n",
       "    </tr>\n",
       "    <tr>\n",
       "      <th>...</th>\n",
       "      <td>...</td>\n",
       "      <td>...</td>\n",
       "      <td>...</td>\n",
       "      <td>...</td>\n",
       "      <td>...</td>\n",
       "      <td>...</td>\n",
       "      <td>...</td>\n",
       "      <td>...</td>\n",
       "      <td>...</td>\n",
       "      <td>...</td>\n",
       "    </tr>\n",
       "    <tr>\n",
       "      <th>199995</th>\n",
       "      <td>2023-02-10 13:00:00</td>\n",
       "      <td>1.06736</td>\n",
       "      <td>1.06766</td>\n",
       "      <td>1.06709</td>\n",
       "      <td>1.06712</td>\n",
       "      <td>3963</td>\n",
       "      <td>1.07067</td>\n",
       "      <td>1.06661</td>\n",
       "      <td>12.561576</td>\n",
       "      <td>11.843782</td>\n",
       "    </tr>\n",
       "    <tr>\n",
       "      <th>199996</th>\n",
       "      <td>2023-02-10 13:30:00</td>\n",
       "      <td>1.06712</td>\n",
       "      <td>1.06751</td>\n",
       "      <td>1.06680</td>\n",
       "      <td>1.06744</td>\n",
       "      <td>5103</td>\n",
       "      <td>1.07067</td>\n",
       "      <td>1.06661</td>\n",
       "      <td>20.443350</td>\n",
       "      <td>17.241379</td>\n",
       "    </tr>\n",
       "    <tr>\n",
       "      <th>199997</th>\n",
       "      <td>2023-02-10 14:00:00</td>\n",
       "      <td>1.06742</td>\n",
       "      <td>1.06750</td>\n",
       "      <td>1.06709</td>\n",
       "      <td>1.06730</td>\n",
       "      <td>3513</td>\n",
       "      <td>1.07067</td>\n",
       "      <td>1.06661</td>\n",
       "      <td>16.995074</td>\n",
       "      <td>16.666667</td>\n",
       "    </tr>\n",
       "    <tr>\n",
       "      <th>199998</th>\n",
       "      <td>2023-02-10 14:30:00</td>\n",
       "      <td>1.06732</td>\n",
       "      <td>1.06786</td>\n",
       "      <td>1.06731</td>\n",
       "      <td>1.06783</td>\n",
       "      <td>2894</td>\n",
       "      <td>1.07067</td>\n",
       "      <td>1.06661</td>\n",
       "      <td>30.049261</td>\n",
       "      <td>22.495895</td>\n",
       "    </tr>\n",
       "    <tr>\n",
       "      <th>199999</th>\n",
       "      <td>2023-02-10 15:00:00</td>\n",
       "      <td>1.06785</td>\n",
       "      <td>1.06807</td>\n",
       "      <td>1.06766</td>\n",
       "      <td>1.06788</td>\n",
       "      <td>2410</td>\n",
       "      <td>1.07067</td>\n",
       "      <td>1.06661</td>\n",
       "      <td>31.280788</td>\n",
       "      <td>26.108374</td>\n",
       "    </tr>\n",
       "  </tbody>\n",
       "</table>\n",
       "<p>200000 rows × 10 columns</p>\n",
       "</div>"
      ],
      "text/plain": [
       "                       Time     Open     High      Low    Close  Volume  \\\n",
       "0       2007-02-05 10:30:00  1.29246  1.29273  1.29162  1.29273  277811   \n",
       "1       2007-02-05 11:00:00  1.29271  1.29325  1.29240  1.29304  157253   \n",
       "2       2007-02-05 11:30:00  1.29304  1.29351  1.29270  1.29336  106005   \n",
       "3       2007-02-05 12:00:00  1.29331  1.29337  1.29257  1.29297   99885   \n",
       "4       2007-02-05 12:30:00  1.29295  1.29360  1.29231  1.29266   68612   \n",
       "...                     ...      ...      ...      ...      ...     ...   \n",
       "199995  2023-02-10 13:00:00  1.06736  1.06766  1.06709  1.06712    3963   \n",
       "199996  2023-02-10 13:30:00  1.06712  1.06751  1.06680  1.06744    5103   \n",
       "199997  2023-02-10 14:00:00  1.06742  1.06750  1.06709  1.06730    3513   \n",
       "199998  2023-02-10 14:30:00  1.06732  1.06786  1.06731  1.06783    2894   \n",
       "199999  2023-02-10 15:00:00  1.06785  1.06807  1.06766  1.06788    2410   \n",
       "\n",
       "         n_high    n_low         %K         %D  \n",
       "0           NaN      NaN        NaN        NaN  \n",
       "1           NaN      NaN        NaN        NaN  \n",
       "2           NaN      NaN        NaN        NaN  \n",
       "3           NaN      NaN        NaN        NaN  \n",
       "4           NaN      NaN        NaN        NaN  \n",
       "...         ...      ...        ...        ...  \n",
       "199995  1.07067  1.06661  12.561576  11.843782  \n",
       "199996  1.07067  1.06661  20.443350  17.241379  \n",
       "199997  1.07067  1.06661  16.995074  16.666667  \n",
       "199998  1.07067  1.06661  30.049261  22.495895  \n",
       "199999  1.07067  1.06661  31.280788  26.108374  \n",
       "\n",
       "[200000 rows x 10 columns]"
      ]
     },
     "execution_count": 179,
     "metadata": {},
     "output_type": "execute_result"
    }
   ],
   "source": [
    "df"
   ]
  },
  {
   "cell_type": "code",
   "execution_count": 180,
   "metadata": {},
   "outputs": [],
   "source": [
    "import pandas_ta as ta"
   ]
  },
  {
   "cell_type": "code",
   "execution_count": 181,
   "metadata": {},
   "outputs": [
    {
     "data": {
      "text/html": [
       "<div>\n",
       "<style scoped>\n",
       "    .dataframe tbody tr th:only-of-type {\n",
       "        vertical-align: middle;\n",
       "    }\n",
       "\n",
       "    .dataframe tbody tr th {\n",
       "        vertical-align: top;\n",
       "    }\n",
       "\n",
       "    .dataframe thead th {\n",
       "        text-align: right;\n",
       "    }\n",
       "</style>\n",
       "<table border=\"1\" class=\"dataframe\">\n",
       "  <thead>\n",
       "    <tr style=\"text-align: right;\">\n",
       "      <th></th>\n",
       "      <th>STOCHk_14_3_3</th>\n",
       "      <th>STOCHd_14_3_3</th>\n",
       "    </tr>\n",
       "  </thead>\n",
       "  <tbody>\n",
       "    <tr>\n",
       "      <th>13</th>\n",
       "      <td>NaN</td>\n",
       "      <td>NaN</td>\n",
       "    </tr>\n",
       "    <tr>\n",
       "      <th>14</th>\n",
       "      <td>NaN</td>\n",
       "      <td>NaN</td>\n",
       "    </tr>\n",
       "    <tr>\n",
       "      <th>15</th>\n",
       "      <td>61.278499</td>\n",
       "      <td>NaN</td>\n",
       "    </tr>\n",
       "    <tr>\n",
       "      <th>16</th>\n",
       "      <td>65.333333</td>\n",
       "      <td>NaN</td>\n",
       "    </tr>\n",
       "    <tr>\n",
       "      <th>17</th>\n",
       "      <td>71.445409</td>\n",
       "      <td>66.019081</td>\n",
       "    </tr>\n",
       "    <tr>\n",
       "      <th>...</th>\n",
       "      <td>...</td>\n",
       "      <td>...</td>\n",
       "    </tr>\n",
       "    <tr>\n",
       "      <th>199995</th>\n",
       "      <td>11.843782</td>\n",
       "      <td>9.664968</td>\n",
       "    </tr>\n",
       "    <tr>\n",
       "      <th>199996</th>\n",
       "      <td>17.241379</td>\n",
       "      <td>13.503718</td>\n",
       "    </tr>\n",
       "    <tr>\n",
       "      <th>199997</th>\n",
       "      <td>16.666667</td>\n",
       "      <td>15.250609</td>\n",
       "    </tr>\n",
       "    <tr>\n",
       "      <th>199998</th>\n",
       "      <td>22.495895</td>\n",
       "      <td>18.801314</td>\n",
       "    </tr>\n",
       "    <tr>\n",
       "      <th>199999</th>\n",
       "      <td>26.108374</td>\n",
       "      <td>21.756979</td>\n",
       "    </tr>\n",
       "  </tbody>\n",
       "</table>\n",
       "<p>199987 rows × 2 columns</p>\n",
       "</div>"
      ],
      "text/plain": [
       "        STOCHk_14_3_3  STOCHd_14_3_3\n",
       "13                NaN            NaN\n",
       "14                NaN            NaN\n",
       "15          61.278499            NaN\n",
       "16          65.333333            NaN\n",
       "17          71.445409      66.019081\n",
       "...               ...            ...\n",
       "199995      11.843782       9.664968\n",
       "199996      17.241379      13.503718\n",
       "199997      16.666667      15.250609\n",
       "199998      22.495895      18.801314\n",
       "199999      26.108374      21.756979\n",
       "\n",
       "[199987 rows x 2 columns]"
      ]
     },
     "execution_count": 181,
     "metadata": {},
     "output_type": "execute_result"
    }
   ],
   "source": [
    "df.ta.stoch(high='high', low='low', k=14, d=3, append=True)"
   ]
  },
  {
   "cell_type": "code",
   "execution_count": 183,
   "metadata": {},
   "outputs": [],
   "source": [
    "df = df.dropna()\n",
    "df.reset_index(inplace=True)"
   ]
  },
  {
   "cell_type": "code",
   "execution_count": 185,
   "metadata": {},
   "outputs": [],
   "source": [
    "df = df.drop('index', axis=1)"
   ]
  },
  {
   "cell_type": "code",
   "execution_count": 186,
   "metadata": {},
   "outputs": [
    {
     "data": {
      "text/html": [
       "<div>\n",
       "<style scoped>\n",
       "    .dataframe tbody tr th:only-of-type {\n",
       "        vertical-align: middle;\n",
       "    }\n",
       "\n",
       "    .dataframe tbody tr th {\n",
       "        vertical-align: top;\n",
       "    }\n",
       "\n",
       "    .dataframe thead th {\n",
       "        text-align: right;\n",
       "    }\n",
       "</style>\n",
       "<table border=\"1\" class=\"dataframe\">\n",
       "  <thead>\n",
       "    <tr style=\"text-align: right;\">\n",
       "      <th></th>\n",
       "      <th>Time</th>\n",
       "      <th>Open</th>\n",
       "      <th>High</th>\n",
       "      <th>Low</th>\n",
       "      <th>Close</th>\n",
       "      <th>Volume</th>\n",
       "      <th>n_high</th>\n",
       "      <th>n_low</th>\n",
       "      <th>%K</th>\n",
       "      <th>%D</th>\n",
       "      <th>STOCHk_14_3_3</th>\n",
       "      <th>STOCHd_14_3_3</th>\n",
       "    </tr>\n",
       "  </thead>\n",
       "  <tbody>\n",
       "    <tr>\n",
       "      <th>0</th>\n",
       "      <td>2007-02-05 19:00:00</td>\n",
       "      <td>1.29324</td>\n",
       "      <td>1.29366</td>\n",
       "      <td>1.29261</td>\n",
       "      <td>1.29303</td>\n",
       "      <td>24007</td>\n",
       "      <td>1.29366</td>\n",
       "      <td>1.29185</td>\n",
       "      <td>65.193370</td>\n",
       "      <td>71.445409</td>\n",
       "      <td>71.445409</td>\n",
       "      <td>66.019081</td>\n",
       "    </tr>\n",
       "    <tr>\n",
       "      <th>1</th>\n",
       "      <td>2007-02-05 19:30:00</td>\n",
       "      <td>1.29302</td>\n",
       "      <td>1.29332</td>\n",
       "      <td>1.29261</td>\n",
       "      <td>1.29298</td>\n",
       "      <td>24364</td>\n",
       "      <td>1.29366</td>\n",
       "      <td>1.29185</td>\n",
       "      <td>62.430939</td>\n",
       "      <td>67.303341</td>\n",
       "      <td>67.303341</td>\n",
       "      <td>68.027361</td>\n",
       "    </tr>\n",
       "    <tr>\n",
       "      <th>2</th>\n",
       "      <td>2007-02-05 20:00:00</td>\n",
       "      <td>1.29292</td>\n",
       "      <td>1.29334</td>\n",
       "      <td>1.29228</td>\n",
       "      <td>1.29271</td>\n",
       "      <td>24151</td>\n",
       "      <td>1.29366</td>\n",
       "      <td>1.29185</td>\n",
       "      <td>47.513812</td>\n",
       "      <td>58.379374</td>\n",
       "      <td>58.379374</td>\n",
       "      <td>65.709375</td>\n",
       "    </tr>\n",
       "    <tr>\n",
       "      <th>3</th>\n",
       "      <td>2007-02-05 20:30:00</td>\n",
       "      <td>1.29281</td>\n",
       "      <td>1.29293</td>\n",
       "      <td>1.29206</td>\n",
       "      <td>1.29240</td>\n",
       "      <td>24225</td>\n",
       "      <td>1.29366</td>\n",
       "      <td>1.29185</td>\n",
       "      <td>30.386740</td>\n",
       "      <td>46.777164</td>\n",
       "      <td>46.777164</td>\n",
       "      <td>57.486626</td>\n",
       "    </tr>\n",
       "    <tr>\n",
       "      <th>4</th>\n",
       "      <td>2007-02-05 21:00:00</td>\n",
       "      <td>1.29250</td>\n",
       "      <td>1.29275</td>\n",
       "      <td>1.29185</td>\n",
       "      <td>1.29269</td>\n",
       "      <td>24195</td>\n",
       "      <td>1.29366</td>\n",
       "      <td>1.29185</td>\n",
       "      <td>46.408840</td>\n",
       "      <td>41.436464</td>\n",
       "      <td>41.436464</td>\n",
       "      <td>48.864334</td>\n",
       "    </tr>\n",
       "    <tr>\n",
       "      <th>...</th>\n",
       "      <td>...</td>\n",
       "      <td>...</td>\n",
       "      <td>...</td>\n",
       "      <td>...</td>\n",
       "      <td>...</td>\n",
       "      <td>...</td>\n",
       "      <td>...</td>\n",
       "      <td>...</td>\n",
       "      <td>...</td>\n",
       "      <td>...</td>\n",
       "      <td>...</td>\n",
       "      <td>...</td>\n",
       "    </tr>\n",
       "    <tr>\n",
       "      <th>199978</th>\n",
       "      <td>2023-02-10 13:00:00</td>\n",
       "      <td>1.06736</td>\n",
       "      <td>1.06766</td>\n",
       "      <td>1.06709</td>\n",
       "      <td>1.06712</td>\n",
       "      <td>3963</td>\n",
       "      <td>1.07067</td>\n",
       "      <td>1.06661</td>\n",
       "      <td>12.561576</td>\n",
       "      <td>11.843782</td>\n",
       "      <td>11.843782</td>\n",
       "      <td>9.664968</td>\n",
       "    </tr>\n",
       "    <tr>\n",
       "      <th>199979</th>\n",
       "      <td>2023-02-10 13:30:00</td>\n",
       "      <td>1.06712</td>\n",
       "      <td>1.06751</td>\n",
       "      <td>1.06680</td>\n",
       "      <td>1.06744</td>\n",
       "      <td>5103</td>\n",
       "      <td>1.07067</td>\n",
       "      <td>1.06661</td>\n",
       "      <td>20.443350</td>\n",
       "      <td>17.241379</td>\n",
       "      <td>17.241379</td>\n",
       "      <td>13.503718</td>\n",
       "    </tr>\n",
       "    <tr>\n",
       "      <th>199980</th>\n",
       "      <td>2023-02-10 14:00:00</td>\n",
       "      <td>1.06742</td>\n",
       "      <td>1.06750</td>\n",
       "      <td>1.06709</td>\n",
       "      <td>1.06730</td>\n",
       "      <td>3513</td>\n",
       "      <td>1.07067</td>\n",
       "      <td>1.06661</td>\n",
       "      <td>16.995074</td>\n",
       "      <td>16.666667</td>\n",
       "      <td>16.666667</td>\n",
       "      <td>15.250609</td>\n",
       "    </tr>\n",
       "    <tr>\n",
       "      <th>199981</th>\n",
       "      <td>2023-02-10 14:30:00</td>\n",
       "      <td>1.06732</td>\n",
       "      <td>1.06786</td>\n",
       "      <td>1.06731</td>\n",
       "      <td>1.06783</td>\n",
       "      <td>2894</td>\n",
       "      <td>1.07067</td>\n",
       "      <td>1.06661</td>\n",
       "      <td>30.049261</td>\n",
       "      <td>22.495895</td>\n",
       "      <td>22.495895</td>\n",
       "      <td>18.801314</td>\n",
       "    </tr>\n",
       "    <tr>\n",
       "      <th>199982</th>\n",
       "      <td>2023-02-10 15:00:00</td>\n",
       "      <td>1.06785</td>\n",
       "      <td>1.06807</td>\n",
       "      <td>1.06766</td>\n",
       "      <td>1.06788</td>\n",
       "      <td>2410</td>\n",
       "      <td>1.07067</td>\n",
       "      <td>1.06661</td>\n",
       "      <td>31.280788</td>\n",
       "      <td>26.108374</td>\n",
       "      <td>26.108374</td>\n",
       "      <td>21.756979</td>\n",
       "    </tr>\n",
       "  </tbody>\n",
       "</table>\n",
       "<p>199983 rows × 12 columns</p>\n",
       "</div>"
      ],
      "text/plain": [
       "                       Time     Open     High      Low    Close  Volume  \\\n",
       "0       2007-02-05 19:00:00  1.29324  1.29366  1.29261  1.29303   24007   \n",
       "1       2007-02-05 19:30:00  1.29302  1.29332  1.29261  1.29298   24364   \n",
       "2       2007-02-05 20:00:00  1.29292  1.29334  1.29228  1.29271   24151   \n",
       "3       2007-02-05 20:30:00  1.29281  1.29293  1.29206  1.29240   24225   \n",
       "4       2007-02-05 21:00:00  1.29250  1.29275  1.29185  1.29269   24195   \n",
       "...                     ...      ...      ...      ...      ...     ...   \n",
       "199978  2023-02-10 13:00:00  1.06736  1.06766  1.06709  1.06712    3963   \n",
       "199979  2023-02-10 13:30:00  1.06712  1.06751  1.06680  1.06744    5103   \n",
       "199980  2023-02-10 14:00:00  1.06742  1.06750  1.06709  1.06730    3513   \n",
       "199981  2023-02-10 14:30:00  1.06732  1.06786  1.06731  1.06783    2894   \n",
       "199982  2023-02-10 15:00:00  1.06785  1.06807  1.06766  1.06788    2410   \n",
       "\n",
       "         n_high    n_low         %K         %D  STOCHk_14_3_3  STOCHd_14_3_3  \n",
       "0       1.29366  1.29185  65.193370  71.445409      71.445409      66.019081  \n",
       "1       1.29366  1.29185  62.430939  67.303341      67.303341      68.027361  \n",
       "2       1.29366  1.29185  47.513812  58.379374      58.379374      65.709375  \n",
       "3       1.29366  1.29185  30.386740  46.777164      46.777164      57.486626  \n",
       "4       1.29366  1.29185  46.408840  41.436464      41.436464      48.864334  \n",
       "...         ...      ...        ...        ...            ...            ...  \n",
       "199978  1.07067  1.06661  12.561576  11.843782      11.843782       9.664968  \n",
       "199979  1.07067  1.06661  20.443350  17.241379      17.241379      13.503718  \n",
       "199980  1.07067  1.06661  16.995074  16.666667      16.666667      15.250609  \n",
       "199981  1.07067  1.06661  30.049261  22.495895      22.495895      18.801314  \n",
       "199982  1.07067  1.06661  31.280788  26.108374      26.108374      21.756979  \n",
       "\n",
       "[199983 rows x 12 columns]"
      ]
     },
     "execution_count": 186,
     "metadata": {},
     "output_type": "execute_result"
    }
   ],
   "source": [
    "df"
   ]
  },
  {
   "cell_type": "code",
   "execution_count": 187,
   "metadata": {},
   "outputs": [],
   "source": [
    "df.to_csv('..\\\\pre_processed_data\\\\stochrsi\\\\eurusd_m30_stochrsi.csv')"
   ]
  },
  {
   "cell_type": "code",
   "execution_count": 4,
   "metadata": {},
   "outputs": [],
   "source": [
    "df= pd.read_csv('..\\\\pre_processed_data\\\\stochrsi\\\\eurusd_m30_stochrsi.csv')"
   ]
  },
  {
   "cell_type": "code",
   "execution_count": 6,
   "metadata": {},
   "outputs": [],
   "source": [
    "final_df = df.drop(['Unnamed: 0', 'Time', 'Open', 'High', 'Low', 'Volume', 'n_high', 'n_low', '%K', '%D'], axis=1)"
   ]
  },
  {
   "cell_type": "code",
   "execution_count": 7,
   "metadata": {},
   "outputs": [],
   "source": [
    "final_df.rename(columns={\n",
    "    'STOCHk_14_3_3':'K',\n",
    "    'STOCHd_14_3_3':'D'\n",
    "}, inplace=True)"
   ]
  },
  {
   "cell_type": "code",
   "execution_count": 8,
   "metadata": {},
   "outputs": [],
   "source": [
    "# crossover atm is just d > or < k and not really crossovers, so noise can be reduced with proper signals \n",
    "final_df['Crossover'] = 0"
   ]
  },
  {
   "cell_type": "code",
   "execution_count": 9,
   "metadata": {},
   "outputs": [],
   "source": [
    "final_df['Crossover'] = np.where(((final_df['D'] < 20) & (final_df['D'] < 20) &(final_df['K'] > final_df['D'])) , 1,\n",
    "                          np.where(((final_df['D'] > 80) & (final_df['K'] > 80) & (final_df['K'] < final_df['D'])), -1, final_df['Crossover']))"
   ]
  },
  {
   "cell_type": "code",
   "execution_count": 10,
   "metadata": {},
   "outputs": [
    {
     "data": {
      "text/html": [
       "<div>\n",
       "<style scoped>\n",
       "    .dataframe tbody tr th:only-of-type {\n",
       "        vertical-align: middle;\n",
       "    }\n",
       "\n",
       "    .dataframe tbody tr th {\n",
       "        vertical-align: top;\n",
       "    }\n",
       "\n",
       "    .dataframe thead th {\n",
       "        text-align: right;\n",
       "    }\n",
       "</style>\n",
       "<table border=\"1\" class=\"dataframe\">\n",
       "  <thead>\n",
       "    <tr style=\"text-align: right;\">\n",
       "      <th></th>\n",
       "      <th>Close</th>\n",
       "      <th>K</th>\n",
       "      <th>D</th>\n",
       "      <th>Crossover</th>\n",
       "    </tr>\n",
       "  </thead>\n",
       "  <tbody>\n",
       "    <tr>\n",
       "      <th>0</th>\n",
       "      <td>1.29303</td>\n",
       "      <td>71.445409</td>\n",
       "      <td>66.019081</td>\n",
       "      <td>0</td>\n",
       "    </tr>\n",
       "    <tr>\n",
       "      <th>1</th>\n",
       "      <td>1.29298</td>\n",
       "      <td>67.303341</td>\n",
       "      <td>68.027361</td>\n",
       "      <td>0</td>\n",
       "    </tr>\n",
       "    <tr>\n",
       "      <th>2</th>\n",
       "      <td>1.29271</td>\n",
       "      <td>58.379374</td>\n",
       "      <td>65.709375</td>\n",
       "      <td>0</td>\n",
       "    </tr>\n",
       "    <tr>\n",
       "      <th>3</th>\n",
       "      <td>1.29240</td>\n",
       "      <td>46.777164</td>\n",
       "      <td>57.486626</td>\n",
       "      <td>0</td>\n",
       "    </tr>\n",
       "    <tr>\n",
       "      <th>4</th>\n",
       "      <td>1.29269</td>\n",
       "      <td>41.436464</td>\n",
       "      <td>48.864334</td>\n",
       "      <td>0</td>\n",
       "    </tr>\n",
       "    <tr>\n",
       "      <th>...</th>\n",
       "      <td>...</td>\n",
       "      <td>...</td>\n",
       "      <td>...</td>\n",
       "      <td>...</td>\n",
       "    </tr>\n",
       "    <tr>\n",
       "      <th>199978</th>\n",
       "      <td>1.06712</td>\n",
       "      <td>11.843782</td>\n",
       "      <td>9.664968</td>\n",
       "      <td>1</td>\n",
       "    </tr>\n",
       "    <tr>\n",
       "      <th>199979</th>\n",
       "      <td>1.06744</td>\n",
       "      <td>17.241379</td>\n",
       "      <td>13.503718</td>\n",
       "      <td>1</td>\n",
       "    </tr>\n",
       "    <tr>\n",
       "      <th>199980</th>\n",
       "      <td>1.06730</td>\n",
       "      <td>16.666667</td>\n",
       "      <td>15.250609</td>\n",
       "      <td>1</td>\n",
       "    </tr>\n",
       "    <tr>\n",
       "      <th>199981</th>\n",
       "      <td>1.06783</td>\n",
       "      <td>22.495895</td>\n",
       "      <td>18.801314</td>\n",
       "      <td>1</td>\n",
       "    </tr>\n",
       "    <tr>\n",
       "      <th>199982</th>\n",
       "      <td>1.06788</td>\n",
       "      <td>26.108374</td>\n",
       "      <td>21.756979</td>\n",
       "      <td>0</td>\n",
       "    </tr>\n",
       "  </tbody>\n",
       "</table>\n",
       "<p>199983 rows × 4 columns</p>\n",
       "</div>"
      ],
      "text/plain": [
       "          Close          K          D  Crossover\n",
       "0       1.29303  71.445409  66.019081          0\n",
       "1       1.29298  67.303341  68.027361          0\n",
       "2       1.29271  58.379374  65.709375          0\n",
       "3       1.29240  46.777164  57.486626          0\n",
       "4       1.29269  41.436464  48.864334          0\n",
       "...         ...        ...        ...        ...\n",
       "199978  1.06712  11.843782   9.664968          1\n",
       "199979  1.06744  17.241379  13.503718          1\n",
       "199980  1.06730  16.666667  15.250609          1\n",
       "199981  1.06783  22.495895  18.801314          1\n",
       "199982  1.06788  26.108374  21.756979          0\n",
       "\n",
       "[199983 rows x 4 columns]"
      ]
     },
     "execution_count": 10,
     "metadata": {},
     "output_type": "execute_result"
    }
   ],
   "source": [
    "final_df"
   ]
  },
  {
   "cell_type": "code",
   "execution_count": 11,
   "metadata": {},
   "outputs": [],
   "source": [
    "# Wins/loss/BE can be embedded, but atm only potential wins, can reduce noise and avoid loss making trades\n",
    "# also including high and low can increase chances of wins in high impact events\n",
    "N = 14 \n",
    "final_df['Win'] = 0 "
   ]
  },
  {
   "cell_type": "code",
   "execution_count": 12,
   "metadata": {},
   "outputs": [],
   "source": [
    "for i in range(len(final_df)):\n",
    "    if final_df.iloc[i]['Crossover'] != 0:\n",
    "        start = i\n",
    "        end = min(len(final_df), start + N)\n",
    "        if end < len(final_df):\n",
    "            price_change = (final_df.iloc[end]['Close'] - final_df.iloc[start]['Close']) / final_df.iloc[start]['Close']\n",
    "            if final_df.iloc[i]['Crossover'] == 1:\n",
    "                if price_change >= 0.0025:\n",
    "                    final_df.at[i, 'Win'] = 1\n",
    "                else:\n",
    "                    final_df.at[i, 'Win'] = 0\n",
    "            elif final_df.iloc[i]['Crossover'] == -1:\n",
    "                if price_change <= -0.0025:\n",
    "                    final_df.at[i, 'Win'] = 1\n",
    "                else:\n",
    "                    final_df.at[i, 'Win'] = 0\n"
   ]
  },
  {
   "cell_type": "code",
   "execution_count": 13,
   "metadata": {},
   "outputs": [],
   "source": [
    "final_df.to_csv('..\\\\final_data\\\\stoch_rsi\\\\eurusd_final_df.csv')"
   ]
  },
  {
   "cell_type": "code",
   "execution_count": 14,
   "metadata": {},
   "outputs": [
    {
     "data": {
      "text/html": [
       "<div>\n",
       "<style scoped>\n",
       "    .dataframe tbody tr th:only-of-type {\n",
       "        vertical-align: middle;\n",
       "    }\n",
       "\n",
       "    .dataframe tbody tr th {\n",
       "        vertical-align: top;\n",
       "    }\n",
       "\n",
       "    .dataframe thead th {\n",
       "        text-align: right;\n",
       "    }\n",
       "</style>\n",
       "<table border=\"1\" class=\"dataframe\">\n",
       "  <thead>\n",
       "    <tr style=\"text-align: right;\">\n",
       "      <th></th>\n",
       "      <th>Close</th>\n",
       "      <th>K</th>\n",
       "      <th>D</th>\n",
       "      <th>Crossover</th>\n",
       "      <th>Win</th>\n",
       "    </tr>\n",
       "  </thead>\n",
       "  <tbody>\n",
       "    <tr>\n",
       "      <th>0</th>\n",
       "      <td>1.29303</td>\n",
       "      <td>71.445409</td>\n",
       "      <td>66.019081</td>\n",
       "      <td>0</td>\n",
       "      <td>0</td>\n",
       "    </tr>\n",
       "    <tr>\n",
       "      <th>1</th>\n",
       "      <td>1.29298</td>\n",
       "      <td>67.303341</td>\n",
       "      <td>68.027361</td>\n",
       "      <td>0</td>\n",
       "      <td>0</td>\n",
       "    </tr>\n",
       "    <tr>\n",
       "      <th>2</th>\n",
       "      <td>1.29271</td>\n",
       "      <td>58.379374</td>\n",
       "      <td>65.709375</td>\n",
       "      <td>0</td>\n",
       "      <td>0</td>\n",
       "    </tr>\n",
       "    <tr>\n",
       "      <th>3</th>\n",
       "      <td>1.29240</td>\n",
       "      <td>46.777164</td>\n",
       "      <td>57.486626</td>\n",
       "      <td>0</td>\n",
       "      <td>0</td>\n",
       "    </tr>\n",
       "    <tr>\n",
       "      <th>4</th>\n",
       "      <td>1.29269</td>\n",
       "      <td>41.436464</td>\n",
       "      <td>48.864334</td>\n",
       "      <td>0</td>\n",
       "      <td>0</td>\n",
       "    </tr>\n",
       "    <tr>\n",
       "      <th>...</th>\n",
       "      <td>...</td>\n",
       "      <td>...</td>\n",
       "      <td>...</td>\n",
       "      <td>...</td>\n",
       "      <td>...</td>\n",
       "    </tr>\n",
       "    <tr>\n",
       "      <th>199978</th>\n",
       "      <td>1.06712</td>\n",
       "      <td>11.843782</td>\n",
       "      <td>9.664968</td>\n",
       "      <td>1</td>\n",
       "      <td>0</td>\n",
       "    </tr>\n",
       "    <tr>\n",
       "      <th>199979</th>\n",
       "      <td>1.06744</td>\n",
       "      <td>17.241379</td>\n",
       "      <td>13.503718</td>\n",
       "      <td>1</td>\n",
       "      <td>0</td>\n",
       "    </tr>\n",
       "    <tr>\n",
       "      <th>199980</th>\n",
       "      <td>1.06730</td>\n",
       "      <td>16.666667</td>\n",
       "      <td>15.250609</td>\n",
       "      <td>1</td>\n",
       "      <td>0</td>\n",
       "    </tr>\n",
       "    <tr>\n",
       "      <th>199981</th>\n",
       "      <td>1.06783</td>\n",
       "      <td>22.495895</td>\n",
       "      <td>18.801314</td>\n",
       "      <td>1</td>\n",
       "      <td>0</td>\n",
       "    </tr>\n",
       "    <tr>\n",
       "      <th>199982</th>\n",
       "      <td>1.06788</td>\n",
       "      <td>26.108374</td>\n",
       "      <td>21.756979</td>\n",
       "      <td>0</td>\n",
       "      <td>0</td>\n",
       "    </tr>\n",
       "  </tbody>\n",
       "</table>\n",
       "<p>199983 rows × 5 columns</p>\n",
       "</div>"
      ],
      "text/plain": [
       "          Close          K          D  Crossover  Win\n",
       "0       1.29303  71.445409  66.019081          0    0\n",
       "1       1.29298  67.303341  68.027361          0    0\n",
       "2       1.29271  58.379374  65.709375          0    0\n",
       "3       1.29240  46.777164  57.486626          0    0\n",
       "4       1.29269  41.436464  48.864334          0    0\n",
       "...         ...        ...        ...        ...  ...\n",
       "199978  1.06712  11.843782   9.664968          1    0\n",
       "199979  1.06744  17.241379  13.503718          1    0\n",
       "199980  1.06730  16.666667  15.250609          1    0\n",
       "199981  1.06783  22.495895  18.801314          1    0\n",
       "199982  1.06788  26.108374  21.756979          0    0\n",
       "\n",
       "[199983 rows x 5 columns]"
      ]
     },
     "execution_count": 14,
     "metadata": {},
     "output_type": "execute_result"
    }
   ],
   "source": [
    "final_df"
   ]
  },
  {
   "cell_type": "code",
   "execution_count": 15,
   "metadata": {},
   "outputs": [
    {
     "data": {
      "text/plain": [
       "Close        float64\n",
       "K            float64\n",
       "D            float64\n",
       "Crossover      int64\n",
       "Win            int64\n",
       "dtype: object"
      ]
     },
     "execution_count": 15,
     "metadata": {},
     "output_type": "execute_result"
    }
   ],
   "source": [
    "# data to be fed is already in int or float state, so no conversion is needed\n",
    "final_df.dtypes "
   ]
  },
  {
   "cell_type": "code",
   "execution_count": 16,
   "metadata": {},
   "outputs": [
    {
     "data": {
      "text/plain": [
       "(199983, 5)"
      ]
     },
     "execution_count": 16,
     "metadata": {},
     "output_type": "execute_result"
    }
   ],
   "source": [
    "final_df.shape"
   ]
  },
  {
   "cell_type": "code",
   "execution_count": 17,
   "metadata": {},
   "outputs": [],
   "source": [
    "x0=[]\n",
    "x1=[]\n",
    "x2=[]\n",
    "x3=[]\n",
    "y=[]"
   ]
  },
  {
   "cell_type": "code",
   "execution_count": 18,
   "metadata": {},
   "outputs": [],
   "source": [
    "# taking sample size of 140 which should be 28 or 56 at best but :)\n",
    "for i in range (0, final_df.shape[0] - 14):\n",
    "    x0.append(final_df.iloc[i:i+14, 0])\n",
    "    x1.append(final_df.iloc[i:i+14, 1])\n",
    "    x2.append(final_df.iloc[i:i+14, 2])\n",
    "    x3.append(final_df.iloc[i:i+14, 3])\n",
    "    y.append(final_df.iloc[i+14, 4])"
   ]
  },
  {
   "cell_type": "code",
   "execution_count": 19,
   "metadata": {},
   "outputs": [],
   "source": [
    "x0, x1, x2, x3, y = np.array(x0), np.array(x1), np.array(x2), np.array(x3), np.array(y)"
   ]
  },
  {
   "cell_type": "code",
   "execution_count": 20,
   "metadata": {},
   "outputs": [],
   "source": [
    "y=np.reshape(y, (len(y), 1))\n",
    "# the expected shape of label is (x, y) and it is important to convert it as "
   ]
  },
  {
   "cell_type": "code",
   "execution_count": 21,
   "metadata": {},
   "outputs": [],
   "source": [
    "# scaling the data\n",
    "from sklearn.preprocessing import MinMaxScaler\n",
    "\n",
    "scaler = MinMaxScaler(feature_range=(0,1))\n",
    "x0 = scaler.fit_transform(x0)\n",
    "x1 = scaler.fit_transform(x1)\n",
    "x2 = scaler.fit_transform(x2)\n",
    "x3 = scaler.fit_transform(x3)\n",
    "y = scaler.fit_transform(y)"
   ]
  },
  {
   "cell_type": "code",
   "execution_count": 22,
   "metadata": {},
   "outputs": [],
   "source": [
    "X = np.stack([x0, x1, x2, x3], axis=2)\n"
   ]
  },
  {
   "cell_type": "code",
   "execution_count": 23,
   "metadata": {},
   "outputs": [
    {
     "data": {
      "text/plain": [
       "(199969, 14, 4)"
      ]
     },
     "execution_count": 23,
     "metadata": {},
     "output_type": "execute_result"
    }
   ],
   "source": [
    "X.shape"
   ]
  },
  {
   "cell_type": "code",
   "execution_count": 24,
   "metadata": {},
   "outputs": [],
   "source": [
    "from sklearn.model_selection import train_test_split\n",
    "from keras.models import Sequential\n",
    "from keras.layers import CuDNNLSTM, Dense\n",
    "from keras import optimizers"
   ]
  },
  {
   "cell_type": "code",
   "execution_count": 25,
   "metadata": {},
   "outputs": [],
   "source": [
    "# splitting the data for testing and training\n",
    "X_train, X_test, y_train, y_test = train_test_split(X, y, test_size = 0.2, random_state=42)\n"
   ]
  },
  {
   "cell_type": "code",
   "execution_count": 43,
   "metadata": {},
   "outputs": [
    {
     "data": {
      "text/plain": [
       "array([[0.],\n",
       "       [0.],\n",
       "       [0.],\n",
       "       ...,\n",
       "       [0.],\n",
       "       [0.],\n",
       "       [0.]])"
      ]
     },
     "execution_count": 43,
     "metadata": {},
     "output_type": "execute_result"
    }
   ],
   "source": []
  },
  {
   "cell_type": "code",
   "execution_count": 56,
   "metadata": {},
   "outputs": [],
   "source": [
    "model = Sequential()"
   ]
  },
  {
   "cell_type": "code",
   "execution_count": 60,
   "metadata": {},
   "outputs": [
    {
     "ename": "ValueError",
     "evalue": "Input 0 of layer \"cu_dnnlstm_9\" is incompatible with the layer: expected ndim=3, found ndim=2. Full shape received: (None, 64)",
     "output_type": "error",
     "traceback": [
      "\u001b[1;31m---------------------------------------------------------------------------\u001b[0m",
      "\u001b[1;31mValueError\u001b[0m                                Traceback (most recent call last)",
      "\u001b[1;32m~\\AppData\\Local\\Temp\\ipykernel_8432\\2623602437.py\u001b[0m in \u001b[0;36m<module>\u001b[1;34m\u001b[0m\n\u001b[1;32m----> 1\u001b[1;33m \u001b[0mmodel\u001b[0m\u001b[1;33m.\u001b[0m\u001b[0madd\u001b[0m\u001b[1;33m(\u001b[0m\u001b[0mCuDNNLSTM\u001b[0m\u001b[1;33m(\u001b[0m\u001b[1;36m64\u001b[0m\u001b[1;33m,\u001b[0m \u001b[0mreturn_sequences\u001b[0m\u001b[1;33m=\u001b[0m\u001b[1;32mTrue\u001b[0m\u001b[1;33m,\u001b[0m \u001b[0minput_shape\u001b[0m\u001b[1;33m=\u001b[0m\u001b[1;33m(\u001b[0m\u001b[0mX_train\u001b[0m\u001b[1;33m.\u001b[0m\u001b[0mshape\u001b[0m\u001b[1;33m[\u001b[0m\u001b[1;36m1\u001b[0m\u001b[1;33m]\u001b[0m\u001b[1;33m,\u001b[0m \u001b[0mX_train\u001b[0m\u001b[1;33m.\u001b[0m\u001b[0mshape\u001b[0m\u001b[1;33m[\u001b[0m\u001b[1;36m2\u001b[0m\u001b[1;33m]\u001b[0m\u001b[1;33m)\u001b[0m\u001b[1;33m)\u001b[0m\u001b[1;33m)\u001b[0m\u001b[1;33m\u001b[0m\u001b[1;33m\u001b[0m\u001b[0m\n\u001b[0m\u001b[0;32m      2\u001b[0m \u001b[0mmodel\u001b[0m\u001b[1;33m.\u001b[0m\u001b[0madd\u001b[0m\u001b[1;33m(\u001b[0m\u001b[0mCuDNNLSTM\u001b[0m\u001b[1;33m(\u001b[0m\u001b[1;36m64\u001b[0m\u001b[1;33m,\u001b[0m \u001b[0mreturn_sequences\u001b[0m\u001b[1;33m=\u001b[0m\u001b[1;32mFalse\u001b[0m\u001b[1;33m)\u001b[0m\u001b[1;33m)\u001b[0m\u001b[1;33m\u001b[0m\u001b[1;33m\u001b[0m\u001b[0m\n\u001b[0;32m      3\u001b[0m \u001b[0mmodel\u001b[0m\u001b[1;33m.\u001b[0m\u001b[0madd\u001b[0m\u001b[1;33m(\u001b[0m\u001b[0mDense\u001b[0m\u001b[1;33m(\u001b[0m\u001b[1;36m64\u001b[0m\u001b[1;33m,\u001b[0m \u001b[0mactivation\u001b[0m\u001b[1;33m=\u001b[0m\u001b[1;34m'Step'\u001b[0m\u001b[1;33m)\u001b[0m\u001b[1;33m)\u001b[0m\u001b[1;33m\u001b[0m\u001b[1;33m\u001b[0m\u001b[0m\n\u001b[0;32m      4\u001b[0m \u001b[0mmodel\u001b[0m\u001b[1;33m.\u001b[0m\u001b[0madd\u001b[0m\u001b[1;33m(\u001b[0m\u001b[0mDense\u001b[0m\u001b[1;33m(\u001b[0m\u001b[1;36m1\u001b[0m\u001b[1;33m)\u001b[0m\u001b[1;33m)\u001b[0m\u001b[1;33m\u001b[0m\u001b[1;33m\u001b[0m\u001b[0m\n",
      "\u001b[1;32m~\\AppData\\Roaming\\Python\\Python39\\site-packages\\tensorflow\\python\\trackable\\base.py\u001b[0m in \u001b[0;36m_method_wrapper\u001b[1;34m(self, *args, **kwargs)\u001b[0m\n\u001b[0;32m    203\u001b[0m     \u001b[0mself\u001b[0m\u001b[1;33m.\u001b[0m\u001b[0m_self_setattr_tracking\u001b[0m \u001b[1;33m=\u001b[0m \u001b[1;32mFalse\u001b[0m  \u001b[1;31m# pylint: disable=protected-access\u001b[0m\u001b[1;33m\u001b[0m\u001b[1;33m\u001b[0m\u001b[0m\n\u001b[0;32m    204\u001b[0m     \u001b[1;32mtry\u001b[0m\u001b[1;33m:\u001b[0m\u001b[1;33m\u001b[0m\u001b[1;33m\u001b[0m\u001b[0m\n\u001b[1;32m--> 205\u001b[1;33m       \u001b[0mresult\u001b[0m \u001b[1;33m=\u001b[0m \u001b[0mmethod\u001b[0m\u001b[1;33m(\u001b[0m\u001b[0mself\u001b[0m\u001b[1;33m,\u001b[0m \u001b[1;33m*\u001b[0m\u001b[0margs\u001b[0m\u001b[1;33m,\u001b[0m \u001b[1;33m**\u001b[0m\u001b[0mkwargs\u001b[0m\u001b[1;33m)\u001b[0m\u001b[1;33m\u001b[0m\u001b[1;33m\u001b[0m\u001b[0m\n\u001b[0m\u001b[0;32m    206\u001b[0m     \u001b[1;32mfinally\u001b[0m\u001b[1;33m:\u001b[0m\u001b[1;33m\u001b[0m\u001b[1;33m\u001b[0m\u001b[0m\n\u001b[0;32m    207\u001b[0m       \u001b[0mself\u001b[0m\u001b[1;33m.\u001b[0m\u001b[0m_self_setattr_tracking\u001b[0m \u001b[1;33m=\u001b[0m \u001b[0mprevious_value\u001b[0m  \u001b[1;31m# pylint: disable=protected-access\u001b[0m\u001b[1;33m\u001b[0m\u001b[1;33m\u001b[0m\u001b[0m\n",
      "\u001b[1;32mc:\\Users\\singh\\anaconda3\\lib\\site-packages\\keras\\utils\\traceback_utils.py\u001b[0m in \u001b[0;36merror_handler\u001b[1;34m(*args, **kwargs)\u001b[0m\n\u001b[0;32m     68\u001b[0m             \u001b[1;31m# To get the full stack trace, call:\u001b[0m\u001b[1;33m\u001b[0m\u001b[1;33m\u001b[0m\u001b[0m\n\u001b[0;32m     69\u001b[0m             \u001b[1;31m# `tf.debugging.disable_traceback_filtering()`\u001b[0m\u001b[1;33m\u001b[0m\u001b[1;33m\u001b[0m\u001b[0m\n\u001b[1;32m---> 70\u001b[1;33m             \u001b[1;32mraise\u001b[0m \u001b[0me\u001b[0m\u001b[1;33m.\u001b[0m\u001b[0mwith_traceback\u001b[0m\u001b[1;33m(\u001b[0m\u001b[0mfiltered_tb\u001b[0m\u001b[1;33m)\u001b[0m \u001b[1;32mfrom\u001b[0m \u001b[1;32mNone\u001b[0m\u001b[1;33m\u001b[0m\u001b[1;33m\u001b[0m\u001b[0m\n\u001b[0m\u001b[0;32m     71\u001b[0m         \u001b[1;32mfinally\u001b[0m\u001b[1;33m:\u001b[0m\u001b[1;33m\u001b[0m\u001b[1;33m\u001b[0m\u001b[0m\n\u001b[0;32m     72\u001b[0m             \u001b[1;32mdel\u001b[0m \u001b[0mfiltered_tb\u001b[0m\u001b[1;33m\u001b[0m\u001b[1;33m\u001b[0m\u001b[0m\n",
      "\u001b[1;32mc:\\Users\\singh\\anaconda3\\lib\\site-packages\\keras\\engine\\input_spec.py\u001b[0m in \u001b[0;36massert_input_compatibility\u001b[1;34m(input_spec, inputs, layer_name)\u001b[0m\n\u001b[0;32m    230\u001b[0m             \u001b[0mndim\u001b[0m \u001b[1;33m=\u001b[0m \u001b[0mshape\u001b[0m\u001b[1;33m.\u001b[0m\u001b[0mrank\u001b[0m\u001b[1;33m\u001b[0m\u001b[1;33m\u001b[0m\u001b[0m\n\u001b[0;32m    231\u001b[0m             \u001b[1;32mif\u001b[0m \u001b[0mndim\u001b[0m \u001b[1;33m!=\u001b[0m \u001b[0mspec\u001b[0m\u001b[1;33m.\u001b[0m\u001b[0mndim\u001b[0m\u001b[1;33m:\u001b[0m\u001b[1;33m\u001b[0m\u001b[1;33m\u001b[0m\u001b[0m\n\u001b[1;32m--> 232\u001b[1;33m                 raise ValueError(\n\u001b[0m\u001b[0;32m    233\u001b[0m                     \u001b[1;34mf'Input {input_index} of layer \"{layer_name}\" '\u001b[0m\u001b[1;33m\u001b[0m\u001b[1;33m\u001b[0m\u001b[0m\n\u001b[0;32m    234\u001b[0m                     \u001b[1;34m\"is incompatible with the layer: \"\u001b[0m\u001b[1;33m\u001b[0m\u001b[1;33m\u001b[0m\u001b[0m\n",
      "\u001b[1;31mValueError\u001b[0m: Input 0 of layer \"cu_dnnlstm_9\" is incompatible with the layer: expected ndim=3, found ndim=2. Full shape received: (None, 64)"
     ]
    }
   ],
   "source": [
    "model.add(CuDNNLSTM(64, return_sequences=True, input_shape=(X_train.shape[1], X_train.shape[2])))\n",
    "model.add(CuDNNLSTM(64, return_sequences=False))\n",
    "model.add(Dense(64, activation='Step'))\n",
    "model.add(Dense(1))"
   ]
  },
  {
   "cell_type": "code",
   "execution_count": 47,
   "metadata": {},
   "outputs": [
    {
     "name": "stdout",
     "output_type": "stream",
     "text": [
      "Model: \"sequential_1\"\n",
      "_________________________________________________________________\n",
      " Layer (type)                Output Shape              Param #   \n",
      "=================================================================\n",
      " cu_dnnlstm_3 (CuDNNLSTM)    (None, 14, 64)            17920     \n",
      "                                                                 \n",
      " cu_dnnlstm_4 (CuDNNLSTM)    (None, 64)                33280     \n",
      "                                                                 \n",
      " dense_2 (Dense)             (None, 64)                4160      \n",
      "                                                                 \n",
      " dense_3 (Dense)             (None, 1)                 65        \n",
      "                                                                 \n",
      "=================================================================\n",
      "Total params: 55,425\n",
      "Trainable params: 55,425\n",
      "Non-trainable params: 0\n",
      "_________________________________________________________________\n"
     ]
    }
   ],
   "source": [
    "model.summary()"
   ]
  },
  {
   "cell_type": "code",
   "execution_count": 37,
   "metadata": {},
   "outputs": [],
   "source": [
    "# from keras.callbacks import ModelCheckpoint, EarlyStopping\n",
    "\n",
    "filepath = '..//models//{epoch:02d}-{loss:.4f}-{val_loss:.4f}-{mae:.4f}-{val_mae:.4f}.hdf5'\n",
    "\n",
    "# callbacks = [EarlyStopping(monitor='val_loss', patience=20),\n",
    "#             ModelCheckpoint(filepath, monitor='loss', save_best_only=True, mode='min')]\n",
    "            "
   ]
  },
  {
   "cell_type": "code",
   "execution_count": 48,
   "metadata": {},
   "outputs": [],
   "source": [
    "optimizers.SGD(momentum=0.9)\n",
    "model.compile(optimizer='SGD', loss='mse', metrics=['mae'])"
   ]
  },
  {
   "cell_type": "code",
   "execution_count": 49,
   "metadata": {},
   "outputs": [
    {
     "name": "stdout",
     "output_type": "stream",
     "text": [
      "Epoch 1/20\n",
      "2844/2844 [==============================] - 27s 9ms/step - loss: 0.0193 - mae: 0.0384 - val_loss: 0.0184 - val_mae: 0.0310\n",
      "Epoch 2/20\n",
      "2844/2844 [==============================] - 24s 9ms/step - loss: 0.0187 - mae: 0.0373 - val_loss: 0.0183 - val_mae: 0.0348\n",
      "Epoch 3/20\n",
      "2844/2844 [==============================] - 25s 9ms/step - loss: 0.0187 - mae: 0.0372 - val_loss: 0.0183 - val_mae: 0.0309\n",
      "Epoch 4/20\n",
      "2844/2844 [==============================] - 26s 9ms/step - loss: 0.0187 - mae: 0.0372 - val_loss: 0.0183 - val_mae: 0.0433\n",
      "Epoch 5/20\n",
      "2844/2844 [==============================] - 30s 11ms/step - loss: 0.0187 - mae: 0.0372 - val_loss: 0.0184 - val_mae: 0.0273\n",
      "Epoch 6/20\n",
      "2844/2844 [==============================] - 27s 9ms/step - loss: 0.0187 - mae: 0.0372 - val_loss: 0.0183 - val_mae: 0.0321\n",
      "Epoch 7/20\n",
      "2844/2844 [==============================] - 26s 9ms/step - loss: 0.0187 - mae: 0.0372 - val_loss: 0.0184 - val_mae: 0.0479\n",
      "Epoch 8/20\n",
      "2844/2844 [==============================] - 26s 9ms/step - loss: 0.0187 - mae: 0.0372 - val_loss: 0.0184 - val_mae: 0.0454\n",
      "Epoch 9/20\n",
      "2844/2844 [==============================] - 29s 10ms/step - loss: 0.0187 - mae: 0.0372 - val_loss: 0.0183 - val_mae: 0.0361\n",
      "Epoch 10/20\n",
      "2844/2844 [==============================] - 27s 10ms/step - loss: 0.0187 - mae: 0.0372 - val_loss: 0.0183 - val_mae: 0.0348\n",
      "Epoch 11/20\n",
      "2844/2844 [==============================] - 25s 9ms/step - loss: 0.0187 - mae: 0.0372 - val_loss: 0.0183 - val_mae: 0.0349\n",
      "Epoch 12/20\n",
      "2844/2844 [==============================] - 24s 9ms/step - loss: 0.0187 - mae: 0.0372 - val_loss: 0.0183 - val_mae: 0.0424\n",
      "Epoch 13/20\n",
      "2844/2844 [==============================] - 25s 9ms/step - loss: 0.0187 - mae: 0.0372 - val_loss: 0.0183 - val_mae: 0.0367\n",
      "Epoch 14/20\n",
      "2844/2844 [==============================] - 26s 9ms/step - loss: 0.0187 - mae: 0.0372 - val_loss: 0.0189 - val_mae: 0.0613\n",
      "Epoch 15/20\n",
      "2844/2844 [==============================] - 26s 9ms/step - loss: 0.0187 - mae: 0.0372 - val_loss: 0.0183 - val_mae: 0.0321\n",
      "Epoch 16/20\n",
      "2844/2844 [==============================] - 26s 9ms/step - loss: 0.0187 - mae: 0.0372 - val_loss: 0.0183 - val_mae: 0.0368\n",
      "Epoch 17/20\n",
      "2844/2844 [==============================] - 25s 9ms/step - loss: 0.0187 - mae: 0.0372 - val_loss: 0.0183 - val_mae: 0.0289\n",
      "Epoch 18/20\n",
      "2844/2844 [==============================] - 25s 9ms/step - loss: 0.0187 - mae: 0.0372 - val_loss: 0.0183 - val_mae: 0.0325\n",
      "Epoch 19/20\n",
      "2844/2844 [==============================] - 29s 10ms/step - loss: 0.0187 - mae: 0.0372 - val_loss: 0.0184 - val_mae: 0.0253\n",
      "Epoch 20/20\n",
      "2844/2844 [==============================] - 29s 10ms/step - loss: 0.0187 - mae: 0.0372 - val_loss: 0.0183 - val_mae: 0.0409\n"
     ]
    },
    {
     "data": {
      "text/plain": [
       "<keras.callbacks.History at 0x1b94b2611c0>"
      ]
     },
     "execution_count": 49,
     "metadata": {},
     "output_type": "execute_result"
    }
   ],
   "source": [
    "model.fit(X_train, y_train, validation_split=0.2, epochs=20, batch_size=5)\n"
   ]
  },
  {
   "cell_type": "code",
   "execution_count": 50,
   "metadata": {},
   "outputs": [],
   "source": [
    "model.save('n2.h5')"
   ]
  },
  {
   "cell_type": "code",
   "execution_count": 51,
   "metadata": {},
   "outputs": [
    {
     "name": "stdout",
     "output_type": "stream",
     "text": [
      "1250/1250 [==============================] - 8s 6ms/step - loss: 0.0197 - mae: 0.0423\n",
      "0.019691860303282738 0.04231882467865944\n"
     ]
    }
   ],
   "source": [
    "MSE, MAE = model.evaluate(X_test, y_test)\n",
    "print(MSE, MAE)\n"
   ]
  },
  {
   "cell_type": "code",
   "execution_count": 52,
   "metadata": {},
   "outputs": [
    {
     "name": "stdout",
     "output_type": "stream",
     "text": [
      "1250/1250 [==============================] - 6s 5ms/step\n"
     ]
    },
    {
     "data": {
      "text/plain": [
       "array([[0.01823967],\n",
       "       [0.02505308],\n",
       "       [0.02651515],\n",
       "       ...,\n",
       "       [0.02456816],\n",
       "       [0.02002215],\n",
       "       [0.02432363]], dtype=float32)"
      ]
     },
     "execution_count": 52,
     "metadata": {},
     "output_type": "execute_result"
    }
   ],
   "source": [
    "predictions = model.predict(X_test)\n",
    "predictions = scaler.inverse_transform(predictions)\n",
    "predictions\n"
   ]
  },
  {
   "cell_type": "code",
   "execution_count": null,
   "metadata": {},
   "outputs": [],
   "source": [
    "# no plot"
   ]
  },
  {
   "cell_type": "code",
   "execution_count": 54,
   "metadata": {},
   "outputs": [
    {
     "data": {
      "text/plain": [
       "<function matplotlib.pyplot.show(close=None, block=None)>"
      ]
     },
     "execution_count": 54,
     "metadata": {},
     "output_type": "execute_result"
    },
    {
     "data": {
      "image/png": "[encoded data removed]",
      "text/plain": [
       "<Figure size 2400x1200 with 1 Axes>"
      ]
     },
     "metadata": {},
     "output_type": "display_data"
    }
   ],
   "source": [
    "plt.figure(figsize=(24,12))\n",
    "plt.plot(predictions[-200:])\n",
    "plt.plot(scaler.inverse_transform(y_test[-200:]),  'r')\n",
    "plt.show"
   ]
  },
  {
   "cell_type": "code",
   "execution_count": 55,
   "metadata": {},
   "outputs": [
    {
     "name": "stdout",
     "output_type": "stream",
     "text": [
      "Test loss: 0.019691860303282738\n",
      "Test accuracy: 0.04231882467865944\n"
     ]
    }
   ],
   "source": [
    "score = model.evaluate(X_test, y_test, verbose=0)\n",
    "print('Test loss:', score[0])\n",
    "print('Test accuracy:', score[1])"
   ]
  }
 ],
 "metadata": {
  "kernelspec": {
   "display_name": "base",
   "language": "python",
   "name": "python3"
  },
  "language_info": {
   "codemirror_mode": {
    "name": "ipython",
    "version": 3
   },
   "file_extension": ".py",
   "mimetype": "text/x-python",
   "name": "python",
   "nbconvert_exporter": "python",
   "pygments_lexer": "ipython3",
   "version": "3.9.13"
  },
  "orig_nbformat": 4,
  "vscode": {
   "interpreter": {
    "hash": "daba84b9011790cc9eaf4cc21f3efb4c679e43558c1b80abd9638a9f3765cdfc"
   }
  }
 },
 "nbformat": 4,
 "nbformat_minor": 2
}
