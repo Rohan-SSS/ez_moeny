{
 "cells": [
  {
   "cell_type": "code",
   "execution_count": 2,
   "metadata": {},
   "outputs": [],
   "source": [
    "import numpy as np\n",
    "import pandas as pd\n",
    "import matplotlib.pyplot as plt"
   ]
  },
  {
   "cell_type": "code",
   "execution_count": 3,
   "metadata": {},
   "outputs": [],
   "source": [
    "raw_data_frame = pd.read_csv(r\"..\\\\raw_data_30m\\\\currency_pairs\\\\EURUSD_M30.csv\", sep='\\t')"
   ]
  },
  {
   "cell_type": "code",
   "execution_count": 4,
   "metadata": {},
   "outputs": [
    {
     "data": {
      "text/html": [
       "<div>\n",
       "<style scoped>\n",
       "    .dataframe tbody tr th:only-of-type {\n",
       "        vertical-align: middle;\n",
       "    }\n",
       "\n",
       "    .dataframe tbody tr th {\n",
       "        vertical-align: top;\n",
       "    }\n",
       "\n",
       "    .dataframe thead th {\n",
       "        text-align: right;\n",
       "    }\n",
       "</style>\n",
       "<table border=\"1\" class=\"dataframe\">\n",
       "  <thead>\n",
       "    <tr style=\"text-align: right;\">\n",
       "      <th></th>\n",
       "      <th>Time</th>\n",
       "      <th>Open</th>\n",
       "      <th>High</th>\n",
       "      <th>Low</th>\n",
       "      <th>Close</th>\n",
       "      <th>Volume</th>\n",
       "    </tr>\n",
       "  </thead>\n",
       "  <tbody>\n",
       "    <tr>\n",
       "      <th>0</th>\n",
       "      <td>2007-02-05 10:30:00</td>\n",
       "      <td>1.29246</td>\n",
       "      <td>1.29273</td>\n",
       "      <td>1.29162</td>\n",
       "      <td>1.29273</td>\n",
       "      <td>277811</td>\n",
       "    </tr>\n",
       "    <tr>\n",
       "      <th>1</th>\n",
       "      <td>2007-02-05 11:00:00</td>\n",
       "      <td>1.29271</td>\n",
       "      <td>1.29325</td>\n",
       "      <td>1.29240</td>\n",
       "      <td>1.29304</td>\n",
       "      <td>157253</td>\n",
       "    </tr>\n",
       "    <tr>\n",
       "      <th>2</th>\n",
       "      <td>2007-02-05 11:30:00</td>\n",
       "      <td>1.29304</td>\n",
       "      <td>1.29351</td>\n",
       "      <td>1.29270</td>\n",
       "      <td>1.29336</td>\n",
       "      <td>106005</td>\n",
       "    </tr>\n",
       "    <tr>\n",
       "      <th>3</th>\n",
       "      <td>2007-02-05 12:00:00</td>\n",
       "      <td>1.29331</td>\n",
       "      <td>1.29337</td>\n",
       "      <td>1.29257</td>\n",
       "      <td>1.29297</td>\n",
       "      <td>99885</td>\n",
       "    </tr>\n",
       "    <tr>\n",
       "      <th>4</th>\n",
       "      <td>2007-02-05 12:30:00</td>\n",
       "      <td>1.29295</td>\n",
       "      <td>1.29360</td>\n",
       "      <td>1.29231</td>\n",
       "      <td>1.29266</td>\n",
       "      <td>68612</td>\n",
       "    </tr>\n",
       "    <tr>\n",
       "      <th>...</th>\n",
       "      <td>...</td>\n",
       "      <td>...</td>\n",
       "      <td>...</td>\n",
       "      <td>...</td>\n",
       "      <td>...</td>\n",
       "      <td>...</td>\n",
       "    </tr>\n",
       "    <tr>\n",
       "      <th>199995</th>\n",
       "      <td>2023-02-10 13:00:00</td>\n",
       "      <td>1.06736</td>\n",
       "      <td>1.06766</td>\n",
       "      <td>1.06709</td>\n",
       "      <td>1.06712</td>\n",
       "      <td>3963</td>\n",
       "    </tr>\n",
       "    <tr>\n",
       "      <th>199996</th>\n",
       "      <td>2023-02-10 13:30:00</td>\n",
       "      <td>1.06712</td>\n",
       "      <td>1.06751</td>\n",
       "      <td>1.06680</td>\n",
       "      <td>1.06744</td>\n",
       "      <td>5103</td>\n",
       "    </tr>\n",
       "    <tr>\n",
       "      <th>199997</th>\n",
       "      <td>2023-02-10 14:00:00</td>\n",
       "      <td>1.06742</td>\n",
       "      <td>1.06750</td>\n",
       "      <td>1.06709</td>\n",
       "      <td>1.06730</td>\n",
       "      <td>3513</td>\n",
       "    </tr>\n",
       "    <tr>\n",
       "      <th>199998</th>\n",
       "      <td>2023-02-10 14:30:00</td>\n",
       "      <td>1.06732</td>\n",
       "      <td>1.06786</td>\n",
       "      <td>1.06731</td>\n",
       "      <td>1.06783</td>\n",
       "      <td>2894</td>\n",
       "    </tr>\n",
       "    <tr>\n",
       "      <th>199999</th>\n",
       "      <td>2023-02-10 15:00:00</td>\n",
       "      <td>1.06785</td>\n",
       "      <td>1.06807</td>\n",
       "      <td>1.06766</td>\n",
       "      <td>1.06788</td>\n",
       "      <td>2410</td>\n",
       "    </tr>\n",
       "  </tbody>\n",
       "</table>\n",
       "<p>200000 rows × 6 columns</p>\n",
       "</div>"
      ],
      "text/plain": [
       "                       Time     Open     High      Low    Close  Volume\n",
       "0       2007-02-05 10:30:00  1.29246  1.29273  1.29162  1.29273  277811\n",
       "1       2007-02-05 11:00:00  1.29271  1.29325  1.29240  1.29304  157253\n",
       "2       2007-02-05 11:30:00  1.29304  1.29351  1.29270  1.29336  106005\n",
       "3       2007-02-05 12:00:00  1.29331  1.29337  1.29257  1.29297   99885\n",
       "4       2007-02-05 12:30:00  1.29295  1.29360  1.29231  1.29266   68612\n",
       "...                     ...      ...      ...      ...      ...     ...\n",
       "199995  2023-02-10 13:00:00  1.06736  1.06766  1.06709  1.06712    3963\n",
       "199996  2023-02-10 13:30:00  1.06712  1.06751  1.06680  1.06744    5103\n",
       "199997  2023-02-10 14:00:00  1.06742  1.06750  1.06709  1.06730    3513\n",
       "199998  2023-02-10 14:30:00  1.06732  1.06786  1.06731  1.06783    2894\n",
       "199999  2023-02-10 15:00:00  1.06785  1.06807  1.06766  1.06788    2410\n",
       "\n",
       "[200000 rows x 6 columns]"
      ]
     },
     "execution_count": 4,
     "metadata": {},
     "output_type": "execute_result"
    }
   ],
   "source": [
    "raw_data_frame"
   ]
  },
  {
   "cell_type": "code",
   "execution_count": 5,
   "metadata": {},
   "outputs": [],
   "source": [
    "# dataframe for close price to calculate 200 ema\n",
    "close_price = raw_data_frame.drop(['Time', 'Open', 'High', 'Low', 'Volume'], axis=1)\n"
   ]
  },
  {
   "cell_type": "code",
   "execution_count": 6,
   "metadata": {},
   "outputs": [],
   "source": [
    "# calculating 200 ema using ewm method in pd\n",
    "def calculate_ema_200(data, n):\n",
    "    ema = data.Close.ewm(span=n, adjust=False).mean()\n",
    "    return ema\n",
    "ema_200 = calculate_ema_200(close_price, 200)\n"
   ]
  },
  {
   "cell_type": "code",
   "execution_count": 7,
   "metadata": {},
   "outputs": [
    {
     "data": {
      "text/plain": [
       "0         1.292730\n",
       "1         1.292733\n",
       "2         1.292739\n",
       "3         1.292742\n",
       "4         1.292741\n",
       "            ...   \n",
       "199995    1.074366\n",
       "199996    1.074297\n",
       "199997    1.074227\n",
       "199998    1.074163\n",
       "199999    1.074101\n",
       "Name: Close, Length: 200000, dtype: float64"
      ]
     },
     "execution_count": 7,
     "metadata": {},
     "output_type": "execute_result"
    }
   ],
   "source": [
    "ema_200 = ema_200.round(6)\n",
    "ema_200"
   ]
  },
  {
   "cell_type": "code",
   "execution_count": 38,
   "metadata": {},
   "outputs": [],
   "source": [
    "# making final dataframe with close price, 200 ema, volume\n",
    "final_df = raw_data_frame.drop(['Time', 'Open', 'High', 'Low'], axis=1)\n",
    "final_df['ema_200'] = ema_200\n"
   ]
  },
  {
   "cell_type": "code",
   "execution_count": 39,
   "metadata": {},
   "outputs": [
    {
     "data": {
      "text/html": [
       "<div>\n",
       "<style scoped>\n",
       "    .dataframe tbody tr th:only-of-type {\n",
       "        vertical-align: middle;\n",
       "    }\n",
       "\n",
       "    .dataframe tbody tr th {\n",
       "        vertical-align: top;\n",
       "    }\n",
       "\n",
       "    .dataframe thead th {\n",
       "        text-align: right;\n",
       "    }\n",
       "</style>\n",
       "<table border=\"1\" class=\"dataframe\">\n",
       "  <thead>\n",
       "    <tr style=\"text-align: right;\">\n",
       "      <th></th>\n",
       "      <th>Close</th>\n",
       "      <th>Volume</th>\n",
       "      <th>ema_200</th>\n",
       "    </tr>\n",
       "  </thead>\n",
       "  <tbody>\n",
       "    <tr>\n",
       "      <th>0</th>\n",
       "      <td>1.29273</td>\n",
       "      <td>277811</td>\n",
       "      <td>1.292730</td>\n",
       "    </tr>\n",
       "    <tr>\n",
       "      <th>1</th>\n",
       "      <td>1.29304</td>\n",
       "      <td>157253</td>\n",
       "      <td>1.292733</td>\n",
       "    </tr>\n",
       "    <tr>\n",
       "      <th>2</th>\n",
       "      <td>1.29336</td>\n",
       "      <td>106005</td>\n",
       "      <td>1.292739</td>\n",
       "    </tr>\n",
       "    <tr>\n",
       "      <th>3</th>\n",
       "      <td>1.29297</td>\n",
       "      <td>99885</td>\n",
       "      <td>1.292742</td>\n",
       "    </tr>\n",
       "    <tr>\n",
       "      <th>4</th>\n",
       "      <td>1.29266</td>\n",
       "      <td>68612</td>\n",
       "      <td>1.292741</td>\n",
       "    </tr>\n",
       "    <tr>\n",
       "      <th>...</th>\n",
       "      <td>...</td>\n",
       "      <td>...</td>\n",
       "      <td>...</td>\n",
       "    </tr>\n",
       "    <tr>\n",
       "      <th>199995</th>\n",
       "      <td>1.06712</td>\n",
       "      <td>3963</td>\n",
       "      <td>1.074366</td>\n",
       "    </tr>\n",
       "    <tr>\n",
       "      <th>199996</th>\n",
       "      <td>1.06744</td>\n",
       "      <td>5103</td>\n",
       "      <td>1.074297</td>\n",
       "    </tr>\n",
       "    <tr>\n",
       "      <th>199997</th>\n",
       "      <td>1.06730</td>\n",
       "      <td>3513</td>\n",
       "      <td>1.074227</td>\n",
       "    </tr>\n",
       "    <tr>\n",
       "      <th>199998</th>\n",
       "      <td>1.06783</td>\n",
       "      <td>2894</td>\n",
       "      <td>1.074163</td>\n",
       "    </tr>\n",
       "    <tr>\n",
       "      <th>199999</th>\n",
       "      <td>1.06788</td>\n",
       "      <td>2410</td>\n",
       "      <td>1.074101</td>\n",
       "    </tr>\n",
       "  </tbody>\n",
       "</table>\n",
       "<p>200000 rows × 3 columns</p>\n",
       "</div>"
      ],
      "text/plain": [
       "          Close  Volume   ema_200\n",
       "0       1.29273  277811  1.292730\n",
       "1       1.29304  157253  1.292733\n",
       "2       1.29336  106005  1.292739\n",
       "3       1.29297   99885  1.292742\n",
       "4       1.29266   68612  1.292741\n",
       "...         ...     ...       ...\n",
       "199995  1.06712    3963  1.074366\n",
       "199996  1.06744    5103  1.074297\n",
       "199997  1.06730    3513  1.074227\n",
       "199998  1.06783    2894  1.074163\n",
       "199999  1.06788    2410  1.074101\n",
       "\n",
       "[200000 rows x 3 columns]"
      ]
     },
     "execution_count": 39,
     "metadata": {},
     "output_type": "execute_result"
    }
   ],
   "source": [
    "final_df"
   ]
  },
  {
   "cell_type": "code",
   "execution_count": 40,
   "metadata": {},
   "outputs": [
    {
     "data": {
      "text/plain": [
       "[<matplotlib.lines.Line2D at 0x21097bd7f10>]"
      ]
     },
     "execution_count": 40,
     "metadata": {},
     "output_type": "execute_result"
    },
    {
     "data": {
      "image/png": "[encoded data removed]",
      "text/plain": [
       "<Figure size 1200x600 with 1 Axes>"
      ]
     },
     "metadata": {},
     "output_type": "display_data"
    }
   ],
   "source": [
    "plt.figure(figsize=(12,6))\n",
    "plt.plot(final_df.Close)\n",
    "plt.plot(final_df.ema_200, 'r')\n"
   ]
  },
  {
   "cell_type": "code",
   "execution_count": 41,
   "metadata": {},
   "outputs": [],
   "source": [
    "# making a Trend column for binary classification of the trend so as to decrease noise  \n",
    "final_df['Trend'] = [1 if row['Close'] > row['ema_200'] + 0.001 * row['Close']\n",
    "                        else -1 if row['Close'] < row['ema_200'] - 0.001 * row['Close']\n",
    "                        else 0 for index, row in final_df.iterrows()]\n"
   ]
  },
  {
   "cell_type": "code",
   "execution_count": 42,
   "metadata": {},
   "outputs": [
    {
     "data": {
      "text/html": [
       "<div>\n",
       "<style scoped>\n",
       "    .dataframe tbody tr th:only-of-type {\n",
       "        vertical-align: middle;\n",
       "    }\n",
       "\n",
       "    .dataframe tbody tr th {\n",
       "        vertical-align: top;\n",
       "    }\n",
       "\n",
       "    .dataframe thead th {\n",
       "        text-align: right;\n",
       "    }\n",
       "</style>\n",
       "<table border=\"1\" class=\"dataframe\">\n",
       "  <thead>\n",
       "    <tr style=\"text-align: right;\">\n",
       "      <th></th>\n",
       "      <th>Close</th>\n",
       "      <th>Volume</th>\n",
       "      <th>ema_200</th>\n",
       "      <th>Trend</th>\n",
       "    </tr>\n",
       "  </thead>\n",
       "  <tbody>\n",
       "    <tr>\n",
       "      <th>0</th>\n",
       "      <td>1.29273</td>\n",
       "      <td>277811</td>\n",
       "      <td>1.292730</td>\n",
       "      <td>0</td>\n",
       "    </tr>\n",
       "    <tr>\n",
       "      <th>1</th>\n",
       "      <td>1.29304</td>\n",
       "      <td>157253</td>\n",
       "      <td>1.292733</td>\n",
       "      <td>0</td>\n",
       "    </tr>\n",
       "    <tr>\n",
       "      <th>2</th>\n",
       "      <td>1.29336</td>\n",
       "      <td>106005</td>\n",
       "      <td>1.292739</td>\n",
       "      <td>0</td>\n",
       "    </tr>\n",
       "    <tr>\n",
       "      <th>3</th>\n",
       "      <td>1.29297</td>\n",
       "      <td>99885</td>\n",
       "      <td>1.292742</td>\n",
       "      <td>0</td>\n",
       "    </tr>\n",
       "    <tr>\n",
       "      <th>4</th>\n",
       "      <td>1.29266</td>\n",
       "      <td>68612</td>\n",
       "      <td>1.292741</td>\n",
       "      <td>0</td>\n",
       "    </tr>\n",
       "    <tr>\n",
       "      <th>...</th>\n",
       "      <td>...</td>\n",
       "      <td>...</td>\n",
       "      <td>...</td>\n",
       "      <td>...</td>\n",
       "    </tr>\n",
       "    <tr>\n",
       "      <th>199995</th>\n",
       "      <td>1.06712</td>\n",
       "      <td>3963</td>\n",
       "      <td>1.074366</td>\n",
       "      <td>-1</td>\n",
       "    </tr>\n",
       "    <tr>\n",
       "      <th>199996</th>\n",
       "      <td>1.06744</td>\n",
       "      <td>5103</td>\n",
       "      <td>1.074297</td>\n",
       "      <td>-1</td>\n",
       "    </tr>\n",
       "    <tr>\n",
       "      <th>199997</th>\n",
       "      <td>1.06730</td>\n",
       "      <td>3513</td>\n",
       "      <td>1.074227</td>\n",
       "      <td>-1</td>\n",
       "    </tr>\n",
       "    <tr>\n",
       "      <th>199998</th>\n",
       "      <td>1.06783</td>\n",
       "      <td>2894</td>\n",
       "      <td>1.074163</td>\n",
       "      <td>-1</td>\n",
       "    </tr>\n",
       "    <tr>\n",
       "      <th>199999</th>\n",
       "      <td>1.06788</td>\n",
       "      <td>2410</td>\n",
       "      <td>1.074101</td>\n",
       "      <td>-1</td>\n",
       "    </tr>\n",
       "  </tbody>\n",
       "</table>\n",
       "<p>200000 rows × 4 columns</p>\n",
       "</div>"
      ],
      "text/plain": [
       "          Close  Volume   ema_200  Trend\n",
       "0       1.29273  277811  1.292730      0\n",
       "1       1.29304  157253  1.292733      0\n",
       "2       1.29336  106005  1.292739      0\n",
       "3       1.29297   99885  1.292742      0\n",
       "4       1.29266   68612  1.292741      0\n",
       "...         ...     ...       ...    ...\n",
       "199995  1.06712    3963  1.074366     -1\n",
       "199996  1.06744    5103  1.074297     -1\n",
       "199997  1.06730    3513  1.074227     -1\n",
       "199998  1.06783    2894  1.074163     -1\n",
       "199999  1.06788    2410  1.074101     -1\n",
       "\n",
       "[200000 rows x 4 columns]"
      ]
     },
     "execution_count": 42,
     "metadata": {},
     "output_type": "execute_result"
    }
   ],
   "source": [
    "final_df"
   ]
  },
  {
   "cell_type": "code",
   "execution_count": null,
   "metadata": {},
   "outputs": [],
   "source": [
    "# no CROSSOVERS so need to fix "
   ]
  },
  {
   "cell_type": "code",
   "execution_count": 43,
   "metadata": {},
   "outputs": [],
   "source": [
    "final_df.to_csv(r\"..\\\\pre_processed_data\\\\200_ema\\\\\"+'EURUSD_M30.csv')"
   ]
  },
  {
   "cell_type": "code",
   "execution_count": 2,
   "metadata": {},
   "outputs": [],
   "source": [
    "# loading final dataframe directly\n",
    "final_df = pd.read_csv('..\\\\pre_processed_data\\\\200_ema\\\\GBPJPY_M30.csv')"
   ]
  },
  {
   "cell_type": "code",
   "execution_count": 7,
   "metadata": {},
   "outputs": [],
   "source": [
    "final_df = final_df.drop('Unnamed: 0', axis=1)"
   ]
  },
  {
   "cell_type": "code",
   "execution_count": 44,
   "metadata": {},
   "outputs": [
    {
     "data": {
      "text/html": [
       "<div>\n",
       "<style scoped>\n",
       "    .dataframe tbody tr th:only-of-type {\n",
       "        vertical-align: middle;\n",
       "    }\n",
       "\n",
       "    .dataframe tbody tr th {\n",
       "        vertical-align: top;\n",
       "    }\n",
       "\n",
       "    .dataframe thead th {\n",
       "        text-align: right;\n",
       "    }\n",
       "</style>\n",
       "<table border=\"1\" class=\"dataframe\">\n",
       "  <thead>\n",
       "    <tr style=\"text-align: right;\">\n",
       "      <th></th>\n",
       "      <th>Close</th>\n",
       "      <th>Volume</th>\n",
       "      <th>ema_200</th>\n",
       "      <th>Trend</th>\n",
       "    </tr>\n",
       "  </thead>\n",
       "  <tbody>\n",
       "    <tr>\n",
       "      <th>0</th>\n",
       "      <td>1.29273</td>\n",
       "      <td>277811</td>\n",
       "      <td>1.292730</td>\n",
       "      <td>0</td>\n",
       "    </tr>\n",
       "    <tr>\n",
       "      <th>1</th>\n",
       "      <td>1.29304</td>\n",
       "      <td>157253</td>\n",
       "      <td>1.292733</td>\n",
       "      <td>0</td>\n",
       "    </tr>\n",
       "    <tr>\n",
       "      <th>2</th>\n",
       "      <td>1.29336</td>\n",
       "      <td>106005</td>\n",
       "      <td>1.292739</td>\n",
       "      <td>0</td>\n",
       "    </tr>\n",
       "    <tr>\n",
       "      <th>3</th>\n",
       "      <td>1.29297</td>\n",
       "      <td>99885</td>\n",
       "      <td>1.292742</td>\n",
       "      <td>0</td>\n",
       "    </tr>\n",
       "    <tr>\n",
       "      <th>4</th>\n",
       "      <td>1.29266</td>\n",
       "      <td>68612</td>\n",
       "      <td>1.292741</td>\n",
       "      <td>0</td>\n",
       "    </tr>\n",
       "    <tr>\n",
       "      <th>...</th>\n",
       "      <td>...</td>\n",
       "      <td>...</td>\n",
       "      <td>...</td>\n",
       "      <td>...</td>\n",
       "    </tr>\n",
       "    <tr>\n",
       "      <th>199995</th>\n",
       "      <td>1.06712</td>\n",
       "      <td>3963</td>\n",
       "      <td>1.074366</td>\n",
       "      <td>-1</td>\n",
       "    </tr>\n",
       "    <tr>\n",
       "      <th>199996</th>\n",
       "      <td>1.06744</td>\n",
       "      <td>5103</td>\n",
       "      <td>1.074297</td>\n",
       "      <td>-1</td>\n",
       "    </tr>\n",
       "    <tr>\n",
       "      <th>199997</th>\n",
       "      <td>1.06730</td>\n",
       "      <td>3513</td>\n",
       "      <td>1.074227</td>\n",
       "      <td>-1</td>\n",
       "    </tr>\n",
       "    <tr>\n",
       "      <th>199998</th>\n",
       "      <td>1.06783</td>\n",
       "      <td>2894</td>\n",
       "      <td>1.074163</td>\n",
       "      <td>-1</td>\n",
       "    </tr>\n",
       "    <tr>\n",
       "      <th>199999</th>\n",
       "      <td>1.06788</td>\n",
       "      <td>2410</td>\n",
       "      <td>1.074101</td>\n",
       "      <td>-1</td>\n",
       "    </tr>\n",
       "  </tbody>\n",
       "</table>\n",
       "<p>200000 rows × 4 columns</p>\n",
       "</div>"
      ],
      "text/plain": [
       "          Close  Volume   ema_200  Trend\n",
       "0       1.29273  277811  1.292730      0\n",
       "1       1.29304  157253  1.292733      0\n",
       "2       1.29336  106005  1.292739      0\n",
       "3       1.29297   99885  1.292742      0\n",
       "4       1.29266   68612  1.292741      0\n",
       "...         ...     ...       ...    ...\n",
       "199995  1.06712    3963  1.074366     -1\n",
       "199996  1.06744    5103  1.074297     -1\n",
       "199997  1.06730    3513  1.074227     -1\n",
       "199998  1.06783    2894  1.074163     -1\n",
       "199999  1.06788    2410  1.074101     -1\n",
       "\n",
       "[200000 rows x 4 columns]"
      ]
     },
     "execution_count": 44,
     "metadata": {},
     "output_type": "execute_result"
    }
   ],
   "source": [
    "final_df\n",
    "# currently eurusd"
   ]
  },
  {
   "cell_type": "code",
   "execution_count": 18,
   "metadata": {},
   "outputs": [
    {
     "data": {
      "text/plain": [
       "Close      float64\n",
       "Volume       int64\n",
       "ema_200    float64\n",
       "Trend        int64\n",
       "dtype: object"
      ]
     },
     "execution_count": 18,
     "metadata": {},
     "output_type": "execute_result"
    }
   ],
   "source": [
    "final_df.dtypes"
   ]
  },
  {
   "attachments": {},
   "cell_type": "markdown",
   "metadata": {},
   "source": [
    "START FROM HERE"
   ]
  },
  {
   "cell_type": "code",
   "execution_count": 16,
   "metadata": {},
   "outputs": [],
   "source": [
    "from sklearn.preprocessing import MinMaxScaler\n",
    "from sklearn.model_selection import train_test_split\n",
    "scaler = MinMaxScaler()"
   ]
  },
  {
   "cell_type": "code",
   "execution_count": 45,
   "metadata": {},
   "outputs": [],
   "source": [
    "x0=[]\n",
    "x1=[]\n",
    "x2=[]\n",
    "y=[]"
   ]
  },
  {
   "cell_type": "code",
   "execution_count": 46,
   "metadata": {},
   "outputs": [],
   "source": [
    "# taking sample size of 200\n",
    "for i in range (0, final_df.shape[0] - 200):\n",
    "    x0.append(final_df.iloc[i:i+200, 0])\n",
    "    x1.append(final_df.iloc[i:i+200, 1])\n",
    "    x2.append(final_df.iloc[i:i+200, 2])\n",
    "    y.append(final_df.iloc[i+200, 3])"
   ]
  },
  {
   "cell_type": "code",
   "execution_count": 47,
   "metadata": {},
   "outputs": [],
   "source": [
    "x0, x1, x2, y = np.array(x0), np.array(x1), np.array(x2), np.array(y)"
   ]
  },
  {
   "cell_type": "code",
   "execution_count": 48,
   "metadata": {},
   "outputs": [],
   "source": [
    "y=np.reshape(y, (len(y), 1))"
   ]
  },
  {
   "cell_type": "code",
   "execution_count": 57,
   "metadata": {},
   "outputs": [],
   "source": [
    "scaler = MinMaxScaler(feature_range=(0,1))\n",
    "x0 = scaler.fit_transform(x0)\n",
    "x1 = scaler.fit_transform(x1)\n",
    "x2 = scaler.fit_transform(x2)\n",
    "scaler = MinMaxScaler(feature_range=(-1,1))\n",
    "y = scaler.fit_transform(y)"
   ]
  },
  {
   "cell_type": "code",
   "execution_count": 58,
   "metadata": {},
   "outputs": [
    {
     "data": {
      "text/plain": [
       "array([[ 0.],\n",
       "       [ 0.],\n",
       "       [ 0.],\n",
       "       ...,\n",
       "       [-1.],\n",
       "       [-1.],\n",
       "       [-1.]])"
      ]
     },
     "execution_count": 58,
     "metadata": {},
     "output_type": "execute_result"
    }
   ],
   "source": [
    "y"
   ]
  },
  {
   "cell_type": "code",
   "execution_count": 59,
   "metadata": {},
   "outputs": [],
   "source": [
    "X = np.stack([x0, x1, x2], axis=2)"
   ]
  },
  {
   "cell_type": "code",
   "execution_count": 60,
   "metadata": {},
   "outputs": [
    {
     "data": {
      "text/plain": [
       "(199800, 200, 3)"
      ]
     },
     "execution_count": 60,
     "metadata": {},
     "output_type": "execute_result"
    }
   ],
   "source": [
    "X.shape"
   ]
  },
  {
   "cell_type": "code",
   "execution_count": 52,
   "metadata": {},
   "outputs": [],
   "source": [
    "import tensorflow as tf\n",
    "from tensorflow import keras\n",
    "from keras.models import Sequential\n",
    "from keras.layers import CuDNNLSTM, Dense\n",
    "from keras import optimizers"
   ]
  },
  {
   "cell_type": "code",
   "execution_count": 61,
   "metadata": {},
   "outputs": [],
   "source": [
    "# tts\n",
    "X_train, X_test, y_train, y_test = train_test_split(X, y, test_size = 0.2, random_state=42)"
   ]
  },
  {
   "cell_type": "code",
   "execution_count": 62,
   "metadata": {},
   "outputs": [
    {
     "data": {
      "text/plain": [
       "(159840, 200, 3)"
      ]
     },
     "execution_count": 62,
     "metadata": {},
     "output_type": "execute_result"
    }
   ],
   "source": [
    "X_train.shape"
   ]
  },
  {
   "cell_type": "code",
   "execution_count": 63,
   "metadata": {},
   "outputs": [],
   "source": [
    "model = Sequential()"
   ]
  },
  {
   "cell_type": "code",
   "execution_count": 64,
   "metadata": {},
   "outputs": [],
   "source": [
    "model.add(CuDNNLSTM(64, return_sequences=True, input_shape=(X_train.shape[1], X_train.shape[2])))\n",
    "model.add(CuDNNLSTM(64, return_sequences=False))\n",
    "model.add(Dense(64, activation='tanh'))\n",
    "model.add(Dense(1))\n",
    "# using tanh later try with sigmoid, and change minmax for reLU"
   ]
  },
  {
   "cell_type": "code",
   "execution_count": 66,
   "metadata": {},
   "outputs": [
    {
     "name": "stdout",
     "output_type": "stream",
     "text": [
      "Model: \"sequential_2\"\n",
      "_________________________________________________________________\n",
      " Layer (type)                Output Shape              Param #   \n",
      "=================================================================\n",
      " cu_dnnlstm (CuDNNLSTM)      (None, 200, 64)           17664     \n",
      "                                                                 \n",
      " cu_dnnlstm_1 (CuDNNLSTM)    (None, 64)                33280     \n",
      "                                                                 \n",
      " dense (Dense)               (None, 64)                4160      \n",
      "                                                                 \n",
      " dense_1 (Dense)             (None, 1)                 65        \n",
      "                                                                 \n",
      "=================================================================\n",
      "Total params: 55,169\n",
      "Trainable params: 55,169\n",
      "Non-trainable params: 0\n",
      "_________________________________________________________________\n"
     ]
    }
   ],
   "source": [
    "model.summary()"
   ]
  },
  {
   "cell_type": "code",
   "execution_count": 126,
   "metadata": {},
   "outputs": [
    {
     "name": "stdout",
     "output_type": "stream",
     "text": [
      "Epoch 1/100\n",
      "5000/5000 [==============================] - 58s 11ms/step - loss: 0.6908 - accuracy: 0.4447 - val_loss: 0.6906 - val_accuracy: 0.4431\n",
      "Epoch 2/100\n",
      "5000/5000 [==============================] - 52s 10ms/step - loss: 0.6899 - accuracy: 0.4520 - val_loss: 0.6902 - val_accuracy: 0.4518\n",
      "Epoch 3/100\n",
      "5000/5000 [==============================] - 53s 11ms/step - loss: 0.6772 - accuracy: 0.4784 - val_loss: 0.5152 - val_accuracy: 0.6659\n",
      "Epoch 4/100\n",
      "5000/5000 [==============================] - 53s 11ms/step - loss: 0.2848 - accuracy: 0.7970 - val_loss: 0.1849 - val_accuracy: 0.8354\n",
      "Epoch 5/100\n",
      "5000/5000 [==============================] - 53s 11ms/step - loss: 0.2050 - accuracy: 0.8235 - val_loss: 0.1783 - val_accuracy: 0.8336\n",
      "Epoch 6/100\n",
      "5000/5000 [==============================] - 53s 11ms/step - loss: 0.1922 - accuracy: 0.8271 - val_loss: 0.1934 - val_accuracy: 0.8296\n",
      "Epoch 7/100\n",
      "5000/5000 [==============================] - 54s 11ms/step - loss: 0.1912 - accuracy: 0.8271 - val_loss: 0.1850 - val_accuracy: 0.8367\n",
      "Epoch 8/100\n",
      "5000/5000 [==============================] - 53s 11ms/step - loss: 0.1839 - accuracy: 0.8296 - val_loss: 0.2036 - val_accuracy: 0.8215\n",
      "Epoch 9/100\n",
      "5000/5000 [==============================] - 53s 11ms/step - loss: 0.1825 - accuracy: 0.8299 - val_loss: 0.2025 - val_accuracy: 0.8306\n",
      "Epoch 10/100\n",
      "5000/5000 [==============================] - 53s 11ms/step - loss: 0.1818 - accuracy: 0.8300 - val_loss: 0.1725 - val_accuracy: 0.8348\n",
      "Epoch 11/100\n",
      "5000/5000 [==============================] - 56s 11ms/step - loss: 0.1820 - accuracy: 0.8301 - val_loss: 0.1582 - val_accuracy: 0.8372\n",
      "Epoch 12/100\n",
      "5000/5000 [==============================] - 54s 11ms/step - loss: 0.1782 - accuracy: 0.8310 - val_loss: 0.1548 - val_accuracy: 0.8372\n",
      "Epoch 13/100\n",
      "5000/5000 [==============================] - 55s 11ms/step - loss: 0.1777 - accuracy: 0.8310 - val_loss: 0.1588 - val_accuracy: 0.8370\n",
      "Epoch 14/100\n",
      "5000/5000 [==============================] - 54s 11ms/step - loss: 0.1782 - accuracy: 0.8310 - val_loss: 0.1714 - val_accuracy: 0.8370\n",
      "Epoch 15/100\n",
      "5000/5000 [==============================] - 54s 11ms/step - loss: 0.1771 - accuracy: 0.8312 - val_loss: 0.1559 - val_accuracy: 0.8371\n",
      "Epoch 16/100\n",
      "5000/5000 [==============================] - 53s 11ms/step - loss: 0.1751 - accuracy: 0.8317 - val_loss: 0.1716 - val_accuracy: 0.8335\n",
      "Epoch 17/100\n",
      "5000/5000 [==============================] - 54s 11ms/step - loss: 0.1728 - accuracy: 0.8324 - val_loss: 0.1550 - val_accuracy: 0.8372\n",
      "Epoch 18/100\n",
      "5000/5000 [==============================] - 53s 11ms/step - loss: 0.1736 - accuracy: 0.8322 - val_loss: 0.1655 - val_accuracy: 0.8372\n",
      "Epoch 19/100\n",
      "5000/5000 [==============================] - 53s 11ms/step - loss: 0.1744 - accuracy: 0.8317 - val_loss: 0.1566 - val_accuracy: 0.8369\n",
      "Epoch 20/100\n",
      "5000/5000 [==============================] - 53s 11ms/step - loss: 0.1716 - accuracy: 0.8327 - val_loss: 0.2507 - val_accuracy: 0.8080\n",
      "Epoch 21/100\n",
      "5000/5000 [==============================] - 53s 11ms/step - loss: 0.1720 - accuracy: 0.8325 - val_loss: 0.1637 - val_accuracy: 0.8365\n",
      "Epoch 22/100\n",
      "5000/5000 [==============================] - 53s 11ms/step - loss: 0.1712 - accuracy: 0.8327 - val_loss: 0.1773 - val_accuracy: 0.8358\n",
      "Epoch 23/100\n",
      "5000/5000 [==============================] - 53s 11ms/step - loss: 0.1710 - accuracy: 0.8325 - val_loss: 0.2103 - val_accuracy: 0.8239\n",
      "Epoch 24/100\n",
      "5000/5000 [==============================] - 53s 11ms/step - loss: 0.1694 - accuracy: 0.8331 - val_loss: 0.1676 - val_accuracy: 0.8347\n",
      "Epoch 25/100\n",
      "5000/5000 [==============================] - 53s 11ms/step - loss: 0.1691 - accuracy: 0.8332 - val_loss: 0.1562 - val_accuracy: 0.8371\n",
      "Epoch 26/100\n",
      "5000/5000 [==============================] - 53s 11ms/step - loss: 0.1699 - accuracy: 0.8331 - val_loss: 0.1509 - val_accuracy: 0.8372\n",
      "Epoch 27/100\n",
      "5000/5000 [==============================] - 53s 11ms/step - loss: 0.1672 - accuracy: 0.8336 - val_loss: 0.1722 - val_accuracy: 0.8371\n",
      "Epoch 28/100\n",
      "5000/5000 [==============================] - 54s 11ms/step - loss: 0.1680 - accuracy: 0.8335 - val_loss: 0.1580 - val_accuracy: 0.8371\n",
      "Epoch 29/100\n",
      "5000/5000 [==============================] - 54s 11ms/step - loss: 0.1678 - accuracy: 0.8335 - val_loss: 0.1766 - val_accuracy: 0.8363\n",
      "Epoch 30/100\n",
      "5000/5000 [==============================] - 54s 11ms/step - loss: 0.1670 - accuracy: 0.8337 - val_loss: 0.1598 - val_accuracy: 0.8354\n",
      "Epoch 31/100\n",
      "5000/5000 [==============================] - 54s 11ms/step - loss: 0.1665 - accuracy: 0.8337 - val_loss: 0.1656 - val_accuracy: 0.8351\n",
      "Epoch 32/100\n",
      "5000/5000 [==============================] - 54s 11ms/step - loss: 0.1668 - accuracy: 0.8338 - val_loss: 0.1646 - val_accuracy: 0.8372\n",
      "Epoch 33/100\n",
      "5000/5000 [==============================] - 54s 11ms/step - loss: 0.1664 - accuracy: 0.8338 - val_loss: 0.1526 - val_accuracy: 0.8372\n",
      "Epoch 34/100\n",
      "5000/5000 [==============================] - 54s 11ms/step - loss: 0.1652 - accuracy: 0.8340 - val_loss: 0.1488 - val_accuracy: 0.8372\n",
      "Epoch 35/100\n",
      "5000/5000 [==============================] - 53s 11ms/step - loss: 0.1656 - accuracy: 0.8338 - val_loss: 0.1526 - val_accuracy: 0.8372\n",
      "Epoch 36/100\n",
      "5000/5000 [==============================] - 54s 11ms/step - loss: 0.1642 - accuracy: 0.8342 - val_loss: 0.1721 - val_accuracy: 0.8366\n",
      "Epoch 37/100\n",
      "5000/5000 [==============================] - 53s 11ms/step - loss: 0.1644 - accuracy: 0.8340 - val_loss: 0.1512 - val_accuracy: 0.8372\n",
      "Epoch 38/100\n",
      "5000/5000 [==============================] - 53s 11ms/step - loss: 0.1649 - accuracy: 0.8340 - val_loss: 0.1673 - val_accuracy: 0.8334\n",
      "Epoch 39/100\n",
      "5000/5000 [==============================] - 53s 11ms/step - loss: 0.1647 - accuracy: 0.8338 - val_loss: 0.1544 - val_accuracy: 0.8371\n",
      "Epoch 40/100\n",
      "5000/5000 [==============================] - 54s 11ms/step - loss: 0.1642 - accuracy: 0.8340 - val_loss: 0.1495 - val_accuracy: 0.8372\n",
      "Epoch 41/100\n",
      "5000/5000 [==============================] - 54s 11ms/step - loss: 0.1635 - accuracy: 0.8343 - val_loss: 0.1713 - val_accuracy: 0.8354\n",
      "Epoch 42/100\n",
      "5000/5000 [==============================] - 53s 11ms/step - loss: 0.1635 - accuracy: 0.8342 - val_loss: 0.1527 - val_accuracy: 0.8367\n",
      "Epoch 43/100\n",
      "5000/5000 [==============================] - 55s 11ms/step - loss: 0.1633 - accuracy: 0.8343 - val_loss: 0.1550 - val_accuracy: 0.8366\n",
      "Epoch 44/100\n",
      "5000/5000 [==============================] - 58s 12ms/step - loss: 0.1639 - accuracy: 0.8342 - val_loss: 0.2211 - val_accuracy: 0.8181\n",
      "Epoch 45/100\n",
      "5000/5000 [==============================] - 57s 11ms/step - loss: 0.1636 - accuracy: 0.8341 - val_loss: 0.1738 - val_accuracy: 0.8331\n",
      "Epoch 46/100\n",
      "5000/5000 [==============================] - 57s 11ms/step - loss: 0.1635 - accuracy: 0.8343 - val_loss: 0.1587 - val_accuracy: 0.8363\n",
      "Epoch 47/100\n",
      "5000/5000 [==============================] - 54s 11ms/step - loss: 0.1629 - accuracy: 0.8343 - val_loss: 0.1696 - val_accuracy: 0.8371\n",
      "Epoch 48/100\n",
      "5000/5000 [==============================] - 58s 12ms/step - loss: 0.1620 - accuracy: 0.8344 - val_loss: 0.1746 - val_accuracy: 0.8371\n",
      "Epoch 49/100\n",
      "5000/5000 [==============================] - 58s 12ms/step - loss: 0.1626 - accuracy: 0.8344 - val_loss: 0.1629 - val_accuracy: 0.8372\n",
      "Epoch 50/100\n",
      "5000/5000 [==============================] - 58s 12ms/step - loss: 0.1622 - accuracy: 0.8347 - val_loss: 0.1519 - val_accuracy: 0.8372\n",
      "Epoch 51/100\n",
      "5000/5000 [==============================] - 60s 12ms/step - loss: 0.1619 - accuracy: 0.8344 - val_loss: 0.1610 - val_accuracy: 0.8368\n",
      "Epoch 52/100\n",
      "5000/5000 [==============================] - 64s 13ms/step - loss: 0.1623 - accuracy: 0.8345 - val_loss: 0.1640 - val_accuracy: 0.8365\n",
      "Epoch 53/100\n",
      "5000/5000 [==============================] - 60s 12ms/step - loss: 0.1625 - accuracy: 0.8345 - val_loss: 0.1559 - val_accuracy: 0.8372\n",
      "Epoch 54/100\n",
      "5000/5000 [==============================] - 60s 12ms/step - loss: 0.1612 - accuracy: 0.8346 - val_loss: 0.1642 - val_accuracy: 0.8359\n",
      "Epoch 55/100\n",
      "5000/5000 [==============================] - 53s 11ms/step - loss: 0.1610 - accuracy: 0.8346 - val_loss: 0.1516 - val_accuracy: 0.8372\n",
      "Epoch 56/100\n",
      "5000/5000 [==============================] - 50s 10ms/step - loss: 0.1606 - accuracy: 0.8347 - val_loss: 0.1594 - val_accuracy: 0.8371\n",
      "Epoch 57/100\n",
      "5000/5000 [==============================] - 50s 10ms/step - loss: 0.1614 - accuracy: 0.8345 - val_loss: 0.1552 - val_accuracy: 0.8371\n",
      "Epoch 58/100\n",
      "5000/5000 [==============================] - 53s 11ms/step - loss: 0.1613 - accuracy: 0.8346 - val_loss: 0.1574 - val_accuracy: 0.8367\n",
      "Epoch 59/100\n",
      "5000/5000 [==============================] - 53s 11ms/step - loss: 0.1616 - accuracy: 0.8345 - val_loss: 0.1506 - val_accuracy: 0.8372\n",
      "Epoch 60/100\n",
      "5000/5000 [==============================] - 53s 11ms/step - loss: 0.1613 - accuracy: 0.8346 - val_loss: 0.1630 - val_accuracy: 0.8366\n",
      "Epoch 61/100\n",
      "5000/5000 [==============================] - 53s 11ms/step - loss: 0.1602 - accuracy: 0.8347 - val_loss: 0.1564 - val_accuracy: 0.8370\n",
      "Epoch 62/100\n",
      "5000/5000 [==============================] - 53s 11ms/step - loss: 0.1604 - accuracy: 0.8347 - val_loss: 0.1535 - val_accuracy: 0.8367\n",
      "Epoch 63/100\n",
      "5000/5000 [==============================] - 53s 11ms/step - loss: 0.1608 - accuracy: 0.8347 - val_loss: 0.1501 - val_accuracy: 0.8372\n",
      "Epoch 64/100\n",
      "5000/5000 [==============================] - 52s 10ms/step - loss: 0.1606 - accuracy: 0.8346 - val_loss: 0.1534 - val_accuracy: 0.8371\n",
      "Epoch 65/100\n",
      "5000/5000 [==============================] - 52s 10ms/step - loss: 0.1598 - accuracy: 0.8348 - val_loss: 0.1570 - val_accuracy: 0.8371\n",
      "Epoch 66/100\n",
      "5000/5000 [==============================] - 52s 10ms/step - loss: 0.1600 - accuracy: 0.8348 - val_loss: 0.1536 - val_accuracy: 0.8372\n",
      "Epoch 67/100\n",
      "5000/5000 [==============================] - 52s 10ms/step - loss: 0.1596 - accuracy: 0.8348 - val_loss: 0.1537 - val_accuracy: 0.8370\n",
      "Epoch 68/100\n",
      "5000/5000 [==============================] - 53s 11ms/step - loss: 0.1596 - accuracy: 0.8348 - val_loss: 0.1581 - val_accuracy: 0.8362\n",
      "Epoch 69/100\n",
      "5000/5000 [==============================] - 53s 11ms/step - loss: 0.1596 - accuracy: 0.8347 - val_loss: 0.1530 - val_accuracy: 0.8372\n",
      "Epoch 70/100\n",
      "5000/5000 [==============================] - 53s 11ms/step - loss: 0.1595 - accuracy: 0.8347 - val_loss: 0.1578 - val_accuracy: 0.8371\n",
      "Epoch 71/100\n",
      "5000/5000 [==============================] - 53s 11ms/step - loss: 0.1598 - accuracy: 0.8348 - val_loss: 0.1562 - val_accuracy: 0.8361\n",
      "Epoch 72/100\n",
      "5000/5000 [==============================] - 53s 11ms/step - loss: 0.1592 - accuracy: 0.8348 - val_loss: 0.1597 - val_accuracy: 0.8372\n",
      "Epoch 73/100\n",
      "5000/5000 [==============================] - 52s 10ms/step - loss: 0.1590 - accuracy: 0.8348 - val_loss: 0.1600 - val_accuracy: 0.8371\n",
      "Epoch 74/100\n",
      "5000/5000 [==============================] - 52s 10ms/step - loss: 0.1591 - accuracy: 0.8348 - val_loss: 0.1588 - val_accuracy: 0.8364\n",
      "Epoch 75/100\n",
      "5000/5000 [==============================] - 52s 10ms/step - loss: 0.1590 - accuracy: 0.8348 - val_loss: 0.1528 - val_accuracy: 0.8372\n",
      "Epoch 76/100\n",
      "5000/5000 [==============================] - 51s 10ms/step - loss: 0.1593 - accuracy: 0.8348 - val_loss: 0.1539 - val_accuracy: 0.8371\n",
      "Epoch 77/100\n",
      "5000/5000 [==============================] - 61s 12ms/step - loss: 0.1583 - accuracy: 0.8350 - val_loss: 0.1578 - val_accuracy: 0.8372\n",
      "Epoch 78/100\n",
      "5000/5000 [==============================] - 54s 11ms/step - loss: 0.1590 - accuracy: 0.8349 - val_loss: 0.1528 - val_accuracy: 0.8370\n",
      "Epoch 79/100\n",
      "5000/5000 [==============================] - 54s 11ms/step - loss: 0.1586 - accuracy: 0.8349 - val_loss: 0.1518 - val_accuracy: 0.8372\n",
      "Epoch 80/100\n",
      "5000/5000 [==============================] - 53s 11ms/step - loss: 0.1582 - accuracy: 0.8348 - val_loss: 0.2073 - val_accuracy: 0.8240\n",
      "Epoch 81/100\n",
      "5000/5000 [==============================] - 54s 11ms/step - loss: 0.1586 - accuracy: 0.8349 - val_loss: 0.1564 - val_accuracy: 0.8368\n",
      "Epoch 82/100\n",
      "5000/5000 [==============================] - 53s 11ms/step - loss: 0.1583 - accuracy: 0.8349 - val_loss: 0.1548 - val_accuracy: 0.8372\n",
      "Epoch 83/100\n",
      "5000/5000 [==============================] - 53s 11ms/step - loss: 0.1585 - accuracy: 0.8349 - val_loss: 0.1549 - val_accuracy: 0.8371\n",
      "Epoch 84/100\n",
      "5000/5000 [==============================] - 53s 11ms/step - loss: 0.1580 - accuracy: 0.8349 - val_loss: 0.1571 - val_accuracy: 0.8366\n",
      "Epoch 85/100\n",
      "5000/5000 [==============================] - 53s 11ms/step - loss: 0.1586 - accuracy: 0.8349 - val_loss: 0.1698 - val_accuracy: 0.8349\n",
      "Epoch 86/100\n",
      "5000/5000 [==============================] - 54s 11ms/step - loss: 0.1581 - accuracy: 0.8348 - val_loss: 0.1653 - val_accuracy: 0.8371\n",
      "Epoch 87/100\n",
      "5000/5000 [==============================] - 54s 11ms/step - loss: 0.1584 - accuracy: 0.8350 - val_loss: 0.1530 - val_accuracy: 0.8372\n",
      "Epoch 88/100\n",
      "5000/5000 [==============================] - 54s 11ms/step - loss: 0.1583 - accuracy: 0.8349 - val_loss: 0.1487 - val_accuracy: 0.8372\n",
      "Epoch 89/100\n",
      "5000/5000 [==============================] - 54s 11ms/step - loss: 0.1580 - accuracy: 0.8350 - val_loss: 0.1507 - val_accuracy: 0.8372\n",
      "Epoch 90/100\n",
      "5000/5000 [==============================] - 56s 11ms/step - loss: 0.1577 - accuracy: 0.8350 - val_loss: 0.1533 - val_accuracy: 0.8365\n",
      "Epoch 91/100\n",
      "5000/5000 [==============================] - 55s 11ms/step - loss: 0.1579 - accuracy: 0.8350 - val_loss: 0.1670 - val_accuracy: 0.8370\n",
      "Epoch 92/100\n",
      "5000/5000 [==============================] - 54s 11ms/step - loss: 0.1580 - accuracy: 0.8350 - val_loss: 0.1563 - val_accuracy: 0.8372\n",
      "Epoch 93/100\n",
      "5000/5000 [==============================] - 53s 11ms/step - loss: 0.1578 - accuracy: 0.8350 - val_loss: 0.1532 - val_accuracy: 0.8372\n",
      "Epoch 94/100\n",
      "5000/5000 [==============================] - 54s 11ms/step - loss: 0.1573 - accuracy: 0.8350 - val_loss: 0.1609 - val_accuracy: 0.8372\n",
      "Epoch 95/100\n",
      "5000/5000 [==============================] - 54s 11ms/step - loss: 0.1575 - accuracy: 0.8351 - val_loss: 0.1514 - val_accuracy: 0.8372\n",
      "Epoch 96/100\n",
      "5000/5000 [==============================] - 54s 11ms/step - loss: 0.1571 - accuracy: 0.8350 - val_loss: 0.1636 - val_accuracy: 0.8372\n",
      "Epoch 97/100\n",
      "5000/5000 [==============================] - 54s 11ms/step - loss: 0.1577 - accuracy: 0.8350 - val_loss: 0.1655 - val_accuracy: 0.8353\n",
      "Epoch 98/100\n",
      "5000/5000 [==============================] - 50s 10ms/step - loss: 0.1574 - accuracy: 0.8350 - val_loss: 0.1485 - val_accuracy: 0.8372\n",
      "Epoch 99/100\n",
      "5000/5000 [==============================] - 50s 10ms/step - loss: 0.1572 - accuracy: 0.8351 - val_loss: 0.1630 - val_accuracy: 0.8364\n",
      "Epoch 100/100\n",
      "5000/5000 [==============================] - 54s 11ms/step - loss: 0.1574 - accuracy: 0.8350 - val_loss: 0.1535 - val_accuracy: 0.8372\n"
     ]
    },
    {
     "data": {
      "text/plain": [
       "<keras.callbacks.History at 0x16e4d3563d0>"
      ]
     },
     "execution_count": 126,
     "metadata": {},
     "output_type": "execute_result"
    }
   ],
   "source": [
    "model.fit(X_train, y_train, validation_split=0.2, epochs=40, batch_size=40)\n"
   ]
  },
  {
   "cell_type": "code",
   "execution_count": 133,
   "metadata": {},
   "outputs": [],
   "source": [
    "model.save('..\\models\\\\200_ema\\\\200_ema_30m-{epoch:02d}-{loss:.4f}-{val_loss:.4f}-{mae:.4f}-{val_mae:.4f}.hdf5')"
   ]
  },
  {
   "cell_type": "code",
   "execution_count": 160,
   "metadata": {},
   "outputs": [
    {
     "name": "stdout",
     "output_type": "stream",
     "text": [
      "Test loss: 0.15347905457019806\n",
      "Test accuracy: 0.8372250199317932\n"
     ]
    }
   ],
   "source": [
    "score = model.evaluate(X_test, y_test, verbose=0)\n",
    "print('Test loss:', score[0])\n",
    "print('Test accuracy:', score[1])"
   ]
  },
  {
   "cell_type": "code",
   "execution_count": null,
   "metadata": {},
   "outputs": [],
   "source": []
  }
 ],
 "metadata": {
  "kernelspec": {
   "display_name": "base",
   "language": "python",
   "name": "python3"
  },
  "language_info": {
   "codemirror_mode": {
    "name": "ipython",
    "version": 3
   },
   "file_extension": ".py",
   "mimetype": "text/x-python",
   "name": "python",
   "nbconvert_exporter": "python",
   "pygments_lexer": "ipython3",
   "version": "3.9.13"
  },
  "orig_nbformat": 4,
  "vscode": {
   "interpreter": {
    "hash": "daba84b9011790cc9eaf4cc21f3efb4c679e43558c1b80abd9638a9f3765cdfc"
   }
  }
 },
 "nbformat": 4,
 "nbformat_minor": 2
}
