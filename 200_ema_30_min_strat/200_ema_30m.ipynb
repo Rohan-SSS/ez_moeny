{
 "cells": [
  {
   "cell_type": "code",
   "execution_count": 2,
   "metadata": {},
   "outputs": [],
   "source": [
    "import numpy as np\n",
    "import pandas as pd\n",
    "import matplotlib.pyplot as plt"
   ]
  },
  {
   "cell_type": "code",
   "execution_count": 7,
   "metadata": {},
   "outputs": [],
   "source": [
    "raw_data_frame = pd.read_csv(r\"..\\\\raw_data_30m\\\\currency_pairs\\\\GBPJPY_M30.csv\", sep='\\t')"
   ]
  },
  {
   "cell_type": "code",
   "execution_count": 8,
   "metadata": {},
   "outputs": [
    {
     "data": {
      "text/html": [
       "<div>\n",
       "<style scoped>\n",
       "    .dataframe tbody tr th:only-of-type {\n",
       "        vertical-align: middle;\n",
       "    }\n",
       "\n",
       "    .dataframe tbody tr th {\n",
       "        vertical-align: top;\n",
       "    }\n",
       "\n",
       "    .dataframe thead th {\n",
       "        text-align: right;\n",
       "    }\n",
       "</style>\n",
       "<table border=\"1\" class=\"dataframe\">\n",
       "  <thead>\n",
       "    <tr style=\"text-align: right;\">\n",
       "      <th></th>\n",
       "      <th>Time</th>\n",
       "      <th>Open</th>\n",
       "      <th>High</th>\n",
       "      <th>Low</th>\n",
       "      <th>Close</th>\n",
       "      <th>Volume</th>\n",
       "    </tr>\n",
       "  </thead>\n",
       "  <tbody>\n",
       "    <tr>\n",
       "      <th>0</th>\n",
       "      <td>2007-02-05 04:30:00</td>\n",
       "      <td>236.609</td>\n",
       "      <td>236.667</td>\n",
       "      <td>236.410</td>\n",
       "      <td>236.522</td>\n",
       "      <td>1489</td>\n",
       "    </tr>\n",
       "    <tr>\n",
       "      <th>1</th>\n",
       "      <td>2007-02-05 05:00:00</td>\n",
       "      <td>236.534</td>\n",
       "      <td>236.559</td>\n",
       "      <td>236.276</td>\n",
       "      <td>236.281</td>\n",
       "      <td>1590</td>\n",
       "    </tr>\n",
       "    <tr>\n",
       "      <th>2</th>\n",
       "      <td>2007-02-05 05:30:00</td>\n",
       "      <td>236.280</td>\n",
       "      <td>236.648</td>\n",
       "      <td>236.132</td>\n",
       "      <td>236.468</td>\n",
       "      <td>1711</td>\n",
       "    </tr>\n",
       "    <tr>\n",
       "      <th>3</th>\n",
       "      <td>2007-02-05 06:00:00</td>\n",
       "      <td>236.461</td>\n",
       "      <td>236.480</td>\n",
       "      <td>236.175</td>\n",
       "      <td>236.253</td>\n",
       "      <td>1546</td>\n",
       "    </tr>\n",
       "    <tr>\n",
       "      <th>4</th>\n",
       "      <td>2007-02-05 06:30:00</td>\n",
       "      <td>236.242</td>\n",
       "      <td>236.273</td>\n",
       "      <td>235.949</td>\n",
       "      <td>236.109</td>\n",
       "      <td>1474</td>\n",
       "    </tr>\n",
       "    <tr>\n",
       "      <th>...</th>\n",
       "      <td>...</td>\n",
       "      <td>...</td>\n",
       "      <td>...</td>\n",
       "      <td>...</td>\n",
       "      <td>...</td>\n",
       "      <td>...</td>\n",
       "    </tr>\n",
       "    <tr>\n",
       "      <th>199995</th>\n",
       "      <td>2023-02-10 13:00:00</td>\n",
       "      <td>158.498</td>\n",
       "      <td>158.626</td>\n",
       "      <td>158.465</td>\n",
       "      <td>158.555</td>\n",
       "      <td>2379</td>\n",
       "    </tr>\n",
       "    <tr>\n",
       "      <th>199996</th>\n",
       "      <td>2023-02-10 13:30:00</td>\n",
       "      <td>158.553</td>\n",
       "      <td>158.590</td>\n",
       "      <td>158.478</td>\n",
       "      <td>158.484</td>\n",
       "      <td>2185</td>\n",
       "    </tr>\n",
       "    <tr>\n",
       "      <th>199997</th>\n",
       "      <td>2023-02-10 14:00:00</td>\n",
       "      <td>158.480</td>\n",
       "      <td>158.527</td>\n",
       "      <td>158.412</td>\n",
       "      <td>158.450</td>\n",
       "      <td>2411</td>\n",
       "    </tr>\n",
       "    <tr>\n",
       "      <th>199998</th>\n",
       "      <td>2023-02-10 14:30:00</td>\n",
       "      <td>158.449</td>\n",
       "      <td>158.462</td>\n",
       "      <td>158.370</td>\n",
       "      <td>158.426</td>\n",
       "      <td>1599</td>\n",
       "    </tr>\n",
       "    <tr>\n",
       "      <th>199999</th>\n",
       "      <td>2023-02-10 15:00:00</td>\n",
       "      <td>158.426</td>\n",
       "      <td>158.452</td>\n",
       "      <td>158.383</td>\n",
       "      <td>158.400</td>\n",
       "      <td>1713</td>\n",
       "    </tr>\n",
       "  </tbody>\n",
       "</table>\n",
       "<p>200000 rows × 6 columns</p>\n",
       "</div>"
      ],
      "text/plain": [
       "                       Time     Open     High      Low    Close  Volume\n",
       "0       2007-02-05 04:30:00  236.609  236.667  236.410  236.522    1489\n",
       "1       2007-02-05 05:00:00  236.534  236.559  236.276  236.281    1590\n",
       "2       2007-02-05 05:30:00  236.280  236.648  236.132  236.468    1711\n",
       "3       2007-02-05 06:00:00  236.461  236.480  236.175  236.253    1546\n",
       "4       2007-02-05 06:30:00  236.242  236.273  235.949  236.109    1474\n",
       "...                     ...      ...      ...      ...      ...     ...\n",
       "199995  2023-02-10 13:00:00  158.498  158.626  158.465  158.555    2379\n",
       "199996  2023-02-10 13:30:00  158.553  158.590  158.478  158.484    2185\n",
       "199997  2023-02-10 14:00:00  158.480  158.527  158.412  158.450    2411\n",
       "199998  2023-02-10 14:30:00  158.449  158.462  158.370  158.426    1599\n",
       "199999  2023-02-10 15:00:00  158.426  158.452  158.383  158.400    1713\n",
       "\n",
       "[200000 rows x 6 columns]"
      ]
     },
     "execution_count": 8,
     "metadata": {},
     "output_type": "execute_result"
    }
   ],
   "source": [
    "raw_data_frame"
   ]
  },
  {
   "cell_type": "code",
   "execution_count": 9,
   "metadata": {},
   "outputs": [],
   "source": [
    "# dataframe for close price to calculate 200 ema\n",
    "close_price = raw_data_frame.drop(['Time', 'Open', 'High', 'Low', 'Volume'], axis=1)\n"
   ]
  },
  {
   "cell_type": "code",
   "execution_count": 10,
   "metadata": {},
   "outputs": [],
   "source": [
    "# calculating 200 ema using ewm method in pd\n",
    "def calculate_ema_200(data, n):\n",
    "    ema = data.Close.ewm(span=n, adjust=False).mean()\n",
    "    return ema\n",
    "ema_200 = calculate_ema_200(close_price, 200)\n"
   ]
  },
  {
   "cell_type": "code",
   "execution_count": 11,
   "metadata": {},
   "outputs": [
    {
     "data": {
      "text/plain": [
       "0         236.522000\n",
       "1         236.519602\n",
       "2         236.519089\n",
       "3         236.516441\n",
       "4         236.512387\n",
       "             ...    \n",
       "199995    158.762217\n",
       "199996    158.759448\n",
       "199997    158.756369\n",
       "199998    158.753082\n",
       "199999    158.749569\n",
       "Name: Close, Length: 200000, dtype: float64"
      ]
     },
     "execution_count": 11,
     "metadata": {},
     "output_type": "execute_result"
    }
   ],
   "source": [
    "ema_200 = ema_200.round(6)\n",
    "ema_200"
   ]
  },
  {
   "cell_type": "code",
   "execution_count": 12,
   "metadata": {},
   "outputs": [],
   "source": [
    "# making final dataframe with close price, 200 ema, volume\n",
    "final_df = raw_data_frame.drop(['Time', 'Open', 'High', 'Low'], axis=1)\n",
    "final_df['ema_200'] = ema_200\n"
   ]
  },
  {
   "cell_type": "code",
   "execution_count": 13,
   "metadata": {},
   "outputs": [
    {
     "data": {
      "text/html": [
       "<div>\n",
       "<style scoped>\n",
       "    .dataframe tbody tr th:only-of-type {\n",
       "        vertical-align: middle;\n",
       "    }\n",
       "\n",
       "    .dataframe tbody tr th {\n",
       "        vertical-align: top;\n",
       "    }\n",
       "\n",
       "    .dataframe thead th {\n",
       "        text-align: right;\n",
       "    }\n",
       "</style>\n",
       "<table border=\"1\" class=\"dataframe\">\n",
       "  <thead>\n",
       "    <tr style=\"text-align: right;\">\n",
       "      <th></th>\n",
       "      <th>Close</th>\n",
       "      <th>Volume</th>\n",
       "      <th>ema_200</th>\n",
       "    </tr>\n",
       "  </thead>\n",
       "  <tbody>\n",
       "    <tr>\n",
       "      <th>0</th>\n",
       "      <td>236.522</td>\n",
       "      <td>1489</td>\n",
       "      <td>236.522000</td>\n",
       "    </tr>\n",
       "    <tr>\n",
       "      <th>1</th>\n",
       "      <td>236.281</td>\n",
       "      <td>1590</td>\n",
       "      <td>236.519602</td>\n",
       "    </tr>\n",
       "    <tr>\n",
       "      <th>2</th>\n",
       "      <td>236.468</td>\n",
       "      <td>1711</td>\n",
       "      <td>236.519089</td>\n",
       "    </tr>\n",
       "    <tr>\n",
       "      <th>3</th>\n",
       "      <td>236.253</td>\n",
       "      <td>1546</td>\n",
       "      <td>236.516441</td>\n",
       "    </tr>\n",
       "    <tr>\n",
       "      <th>4</th>\n",
       "      <td>236.109</td>\n",
       "      <td>1474</td>\n",
       "      <td>236.512387</td>\n",
       "    </tr>\n",
       "    <tr>\n",
       "      <th>...</th>\n",
       "      <td>...</td>\n",
       "      <td>...</td>\n",
       "      <td>...</td>\n",
       "    </tr>\n",
       "    <tr>\n",
       "      <th>199995</th>\n",
       "      <td>158.555</td>\n",
       "      <td>2379</td>\n",
       "      <td>158.762217</td>\n",
       "    </tr>\n",
       "    <tr>\n",
       "      <th>199996</th>\n",
       "      <td>158.484</td>\n",
       "      <td>2185</td>\n",
       "      <td>158.759448</td>\n",
       "    </tr>\n",
       "    <tr>\n",
       "      <th>199997</th>\n",
       "      <td>158.450</td>\n",
       "      <td>2411</td>\n",
       "      <td>158.756369</td>\n",
       "    </tr>\n",
       "    <tr>\n",
       "      <th>199998</th>\n",
       "      <td>158.426</td>\n",
       "      <td>1599</td>\n",
       "      <td>158.753082</td>\n",
       "    </tr>\n",
       "    <tr>\n",
       "      <th>199999</th>\n",
       "      <td>158.400</td>\n",
       "      <td>1713</td>\n",
       "      <td>158.749569</td>\n",
       "    </tr>\n",
       "  </tbody>\n",
       "</table>\n",
       "<p>200000 rows × 3 columns</p>\n",
       "</div>"
      ],
      "text/plain": [
       "          Close  Volume     ema_200\n",
       "0       236.522    1489  236.522000\n",
       "1       236.281    1590  236.519602\n",
       "2       236.468    1711  236.519089\n",
       "3       236.253    1546  236.516441\n",
       "4       236.109    1474  236.512387\n",
       "...         ...     ...         ...\n",
       "199995  158.555    2379  158.762217\n",
       "199996  158.484    2185  158.759448\n",
       "199997  158.450    2411  158.756369\n",
       "199998  158.426    1599  158.753082\n",
       "199999  158.400    1713  158.749569\n",
       "\n",
       "[200000 rows x 3 columns]"
      ]
     },
     "execution_count": 13,
     "metadata": {},
     "output_type": "execute_result"
    }
   ],
   "source": [
    "final_df"
   ]
  },
  {
   "cell_type": "code",
   "execution_count": 14,
   "metadata": {},
   "outputs": [
    {
     "data": {
      "text/plain": [
       "[<matplotlib.lines.Line2D at 0x28a9fef5eb0>]"
      ]
     },
     "execution_count": 14,
     "metadata": {},
     "output_type": "execute_result"
    },
    {
     "data": {
      "image/png": "[encoded data removed]",
      "text/plain": [
       "<Figure size 1200x600 with 1 Axes>"
      ]
     },
     "metadata": {},
     "output_type": "display_data"
    }
   ],
   "source": [
    "plt.figure(figsize=(12,6))\n",
    "plt.plot(final_df.Close)\n",
    "plt.plot(final_df.ema_200, 'r')\n"
   ]
  },
  {
   "cell_type": "code",
   "execution_count": 15,
   "metadata": {},
   "outputs": [],
   "source": [
    "# making a Trend column for binary classification of the trend so as to decrease noise  \n",
    "final_df['Trend'] = [1 if row['Close'] > row['ema_200'] + 0.001 * row['Close']\n",
    "                        else -1 if row['Close'] < row['ema_200'] - 0.001 * row['Close']\n",
    "                        else 0 for index, row in final_df.iterrows()]\n"
   ]
  },
  {
   "cell_type": "code",
   "execution_count": 16,
   "metadata": {},
   "outputs": [
    {
     "data": {
      "text/html": [
       "<div>\n",
       "<style scoped>\n",
       "    .dataframe tbody tr th:only-of-type {\n",
       "        vertical-align: middle;\n",
       "    }\n",
       "\n",
       "    .dataframe tbody tr th {\n",
       "        vertical-align: top;\n",
       "    }\n",
       "\n",
       "    .dataframe thead th {\n",
       "        text-align: right;\n",
       "    }\n",
       "</style>\n",
       "<table border=\"1\" class=\"dataframe\">\n",
       "  <thead>\n",
       "    <tr style=\"text-align: right;\">\n",
       "      <th></th>\n",
       "      <th>Close</th>\n",
       "      <th>Volume</th>\n",
       "      <th>ema_200</th>\n",
       "      <th>Trend</th>\n",
       "    </tr>\n",
       "  </thead>\n",
       "  <tbody>\n",
       "    <tr>\n",
       "      <th>0</th>\n",
       "      <td>236.522</td>\n",
       "      <td>1489</td>\n",
       "      <td>236.522000</td>\n",
       "      <td>0</td>\n",
       "    </tr>\n",
       "    <tr>\n",
       "      <th>1</th>\n",
       "      <td>236.281</td>\n",
       "      <td>1590</td>\n",
       "      <td>236.519602</td>\n",
       "      <td>-1</td>\n",
       "    </tr>\n",
       "    <tr>\n",
       "      <th>2</th>\n",
       "      <td>236.468</td>\n",
       "      <td>1711</td>\n",
       "      <td>236.519089</td>\n",
       "      <td>0</td>\n",
       "    </tr>\n",
       "    <tr>\n",
       "      <th>3</th>\n",
       "      <td>236.253</td>\n",
       "      <td>1546</td>\n",
       "      <td>236.516441</td>\n",
       "      <td>-1</td>\n",
       "    </tr>\n",
       "    <tr>\n",
       "      <th>4</th>\n",
       "      <td>236.109</td>\n",
       "      <td>1474</td>\n",
       "      <td>236.512387</td>\n",
       "      <td>-1</td>\n",
       "    </tr>\n",
       "    <tr>\n",
       "      <th>...</th>\n",
       "      <td>...</td>\n",
       "      <td>...</td>\n",
       "      <td>...</td>\n",
       "      <td>...</td>\n",
       "    </tr>\n",
       "    <tr>\n",
       "      <th>199995</th>\n",
       "      <td>158.555</td>\n",
       "      <td>2379</td>\n",
       "      <td>158.762217</td>\n",
       "      <td>-1</td>\n",
       "    </tr>\n",
       "    <tr>\n",
       "      <th>199996</th>\n",
       "      <td>158.484</td>\n",
       "      <td>2185</td>\n",
       "      <td>158.759448</td>\n",
       "      <td>-1</td>\n",
       "    </tr>\n",
       "    <tr>\n",
       "      <th>199997</th>\n",
       "      <td>158.450</td>\n",
       "      <td>2411</td>\n",
       "      <td>158.756369</td>\n",
       "      <td>-1</td>\n",
       "    </tr>\n",
       "    <tr>\n",
       "      <th>199998</th>\n",
       "      <td>158.426</td>\n",
       "      <td>1599</td>\n",
       "      <td>158.753082</td>\n",
       "      <td>-1</td>\n",
       "    </tr>\n",
       "    <tr>\n",
       "      <th>199999</th>\n",
       "      <td>158.400</td>\n",
       "      <td>1713</td>\n",
       "      <td>158.749569</td>\n",
       "      <td>-1</td>\n",
       "    </tr>\n",
       "  </tbody>\n",
       "</table>\n",
       "<p>200000 rows × 4 columns</p>\n",
       "</div>"
      ],
      "text/plain": [
       "          Close  Volume     ema_200  Trend\n",
       "0       236.522    1489  236.522000      0\n",
       "1       236.281    1590  236.519602     -1\n",
       "2       236.468    1711  236.519089      0\n",
       "3       236.253    1546  236.516441     -1\n",
       "4       236.109    1474  236.512387     -1\n",
       "...         ...     ...         ...    ...\n",
       "199995  158.555    2379  158.762217     -1\n",
       "199996  158.484    2185  158.759448     -1\n",
       "199997  158.450    2411  158.756369     -1\n",
       "199998  158.426    1599  158.753082     -1\n",
       "199999  158.400    1713  158.749569     -1\n",
       "\n",
       "[200000 rows x 4 columns]"
      ]
     },
     "execution_count": 16,
     "metadata": {},
     "output_type": "execute_result"
    }
   ],
   "source": [
    "final_df"
   ]
  },
  {
   "cell_type": "code",
   "execution_count": null,
   "metadata": {},
   "outputs": [],
   "source": [
    "# no CROSSOVERS so need to fix "
   ]
  },
  {
   "cell_type": "code",
   "execution_count": 3,
   "metadata": {},
   "outputs": [],
   "source": [
    "# loading final dataframe directly\n",
    "final_df = pd.read_csv('..\\\\pre_processed_data\\\\200_ema\\\\GBPJPY_M30.csv')"
   ]
  },
  {
   "cell_type": "code",
   "execution_count": 4,
   "metadata": {},
   "outputs": [],
   "source": [
    "final_df = final_df.drop('Unnamed: 0', axis=1)"
   ]
  },
  {
   "cell_type": "code",
   "execution_count": 5,
   "metadata": {},
   "outputs": [
    {
     "data": {
      "text/html": [
       "<div>\n",
       "<style scoped>\n",
       "    .dataframe tbody tr th:only-of-type {\n",
       "        vertical-align: middle;\n",
       "    }\n",
       "\n",
       "    .dataframe tbody tr th {\n",
       "        vertical-align: top;\n",
       "    }\n",
       "\n",
       "    .dataframe thead th {\n",
       "        text-align: right;\n",
       "    }\n",
       "</style>\n",
       "<table border=\"1\" class=\"dataframe\">\n",
       "  <thead>\n",
       "    <tr style=\"text-align: right;\">\n",
       "      <th></th>\n",
       "      <th>Close</th>\n",
       "      <th>Volume</th>\n",
       "      <th>ema_200</th>\n",
       "      <th>Trend</th>\n",
       "    </tr>\n",
       "  </thead>\n",
       "  <tbody>\n",
       "    <tr>\n",
       "      <th>0</th>\n",
       "      <td>236.522</td>\n",
       "      <td>1489</td>\n",
       "      <td>236.522000</td>\n",
       "      <td>0</td>\n",
       "    </tr>\n",
       "    <tr>\n",
       "      <th>1</th>\n",
       "      <td>236.281</td>\n",
       "      <td>1590</td>\n",
       "      <td>236.519602</td>\n",
       "      <td>-1</td>\n",
       "    </tr>\n",
       "    <tr>\n",
       "      <th>2</th>\n",
       "      <td>236.468</td>\n",
       "      <td>1711</td>\n",
       "      <td>236.519089</td>\n",
       "      <td>0</td>\n",
       "    </tr>\n",
       "    <tr>\n",
       "      <th>3</th>\n",
       "      <td>236.253</td>\n",
       "      <td>1546</td>\n",
       "      <td>236.516441</td>\n",
       "      <td>-1</td>\n",
       "    </tr>\n",
       "    <tr>\n",
       "      <th>4</th>\n",
       "      <td>236.109</td>\n",
       "      <td>1474</td>\n",
       "      <td>236.512387</td>\n",
       "      <td>-1</td>\n",
       "    </tr>\n",
       "    <tr>\n",
       "      <th>...</th>\n",
       "      <td>...</td>\n",
       "      <td>...</td>\n",
       "      <td>...</td>\n",
       "      <td>...</td>\n",
       "    </tr>\n",
       "    <tr>\n",
       "      <th>199995</th>\n",
       "      <td>158.555</td>\n",
       "      <td>2379</td>\n",
       "      <td>158.762217</td>\n",
       "      <td>-1</td>\n",
       "    </tr>\n",
       "    <tr>\n",
       "      <th>199996</th>\n",
       "      <td>158.484</td>\n",
       "      <td>2185</td>\n",
       "      <td>158.759448</td>\n",
       "      <td>-1</td>\n",
       "    </tr>\n",
       "    <tr>\n",
       "      <th>199997</th>\n",
       "      <td>158.450</td>\n",
       "      <td>2411</td>\n",
       "      <td>158.756369</td>\n",
       "      <td>-1</td>\n",
       "    </tr>\n",
       "    <tr>\n",
       "      <th>199998</th>\n",
       "      <td>158.426</td>\n",
       "      <td>1599</td>\n",
       "      <td>158.753082</td>\n",
       "      <td>-1</td>\n",
       "    </tr>\n",
       "    <tr>\n",
       "      <th>199999</th>\n",
       "      <td>158.400</td>\n",
       "      <td>1713</td>\n",
       "      <td>158.749569</td>\n",
       "      <td>-1</td>\n",
       "    </tr>\n",
       "  </tbody>\n",
       "</table>\n",
       "<p>200000 rows × 4 columns</p>\n",
       "</div>"
      ],
      "text/plain": [
       "          Close  Volume     ema_200  Trend\n",
       "0       236.522    1489  236.522000      0\n",
       "1       236.281    1590  236.519602     -1\n",
       "2       236.468    1711  236.519089      0\n",
       "3       236.253    1546  236.516441     -1\n",
       "4       236.109    1474  236.512387     -1\n",
       "...         ...     ...         ...    ...\n",
       "199995  158.555    2379  158.762217     -1\n",
       "199996  158.484    2185  158.759448     -1\n",
       "199997  158.450    2411  158.756369     -1\n",
       "199998  158.426    1599  158.753082     -1\n",
       "199999  158.400    1713  158.749569     -1\n",
       "\n",
       "[200000 rows x 4 columns]"
      ]
     },
     "execution_count": 5,
     "metadata": {},
     "output_type": "execute_result"
    }
   ],
   "source": [
    "final_df\n",
    "# currently eurusd"
   ]
  },
  {
   "cell_type": "code",
   "execution_count": 21,
   "metadata": {},
   "outputs": [
    {
     "data": {
      "text/plain": [
       "Close      float64\n",
       "Volume       int64\n",
       "ema_200    float64\n",
       "Trend        int64\n",
       "dtype: object"
      ]
     },
     "execution_count": 21,
     "metadata": {},
     "output_type": "execute_result"
    }
   ],
   "source": [
    "final_df.dtypes"
   ]
  },
  {
   "attachments": {},
   "cell_type": "markdown",
   "metadata": {},
   "source": [
    "START FROM HERE"
   ]
  },
  {
   "cell_type": "code",
   "execution_count": 6,
   "metadata": {},
   "outputs": [],
   "source": [
    "from sklearn.preprocessing import MinMaxScaler\n",
    "from sklearn.model_selection import train_test_split\n",
    "scaler = MinMaxScaler()"
   ]
  },
  {
   "cell_type": "code",
   "execution_count": 7,
   "metadata": {},
   "outputs": [],
   "source": [
    "x0=[]\n",
    "x1=[]\n",
    "x2=[]\n",
    "y=[]"
   ]
  },
  {
   "cell_type": "code",
   "execution_count": 8,
   "metadata": {},
   "outputs": [],
   "source": [
    "# taking sample size of 200\n",
    "for i in range (0, final_df.shape[0] - 200):\n",
    "    x0.append(final_df.iloc[i:i+200, 0])\n",
    "    x1.append(final_df.iloc[i:i+200, 1])\n",
    "    x2.append(final_df.iloc[i:i+200, 2])\n",
    "    y.append(final_df.iloc[i+200, 3])"
   ]
  },
  {
   "cell_type": "code",
   "execution_count": 9,
   "metadata": {},
   "outputs": [],
   "source": [
    "x0, x1, x2, y = np.array(x0), np.array(x1), np.array(x2), np.array(y)"
   ]
  },
  {
   "cell_type": "code",
   "execution_count": 10,
   "metadata": {},
   "outputs": [],
   "source": [
    "y=np.reshape(y, (len(y), 1))"
   ]
  },
  {
   "cell_type": "code",
   "execution_count": 117,
   "metadata": {},
   "outputs": [],
   "source": [
    "scaler = MinMaxScaler(feature_range=(0,1))\n",
    "x0 = scaler.fit_transform(x0)\n",
    "x1 = scaler.fit_transform(x1)\n",
    "x2 = scaler.fit_transform(x2)\n",
    "scaler = MinMaxScaler(feature_range=(0,1))\n",
    "y = scaler.fit_transform(y)"
   ]
  },
  {
   "cell_type": "code",
   "execution_count": 128,
   "metadata": {},
   "outputs": [
    {
     "data": {
      "text/plain": [
       "array([[0. ],\n",
       "       [0.5],\n",
       "       [0.5],\n",
       "       ...,\n",
       "       [0. ],\n",
       "       [0. ],\n",
       "       [0. ]])"
      ]
     },
     "execution_count": 128,
     "metadata": {},
     "output_type": "execute_result"
    }
   ],
   "source": [
    "y"
   ]
  },
  {
   "cell_type": "code",
   "execution_count": 118,
   "metadata": {},
   "outputs": [],
   "source": [
    "X = np.stack([x0, x1, x2], axis=2)"
   ]
  },
  {
   "cell_type": "code",
   "execution_count": 119,
   "metadata": {},
   "outputs": [
    {
     "data": {
      "text/plain": [
       "(199800, 200, 3)"
      ]
     },
     "execution_count": 119,
     "metadata": {},
     "output_type": "execute_result"
    }
   ],
   "source": [
    "X.shape"
   ]
  },
  {
   "cell_type": "code",
   "execution_count": 15,
   "metadata": {},
   "outputs": [],
   "source": [
    "import tensorflow as tf\n",
    "from tensorflow import keras\n",
    "from keras.models import Sequential\n",
    "from keras.layers import CuDNNLSTM, Dense\n",
    "from keras import optimizers"
   ]
  },
  {
   "cell_type": "code",
   "execution_count": 129,
   "metadata": {},
   "outputs": [],
   "source": [
    "# tts\n",
    "X_train, X_test, y_train, y_test = train_test_split(X, y, test_size = 0.2, random_state=42)"
   ]
  },
  {
   "cell_type": "code",
   "execution_count": 130,
   "metadata": {},
   "outputs": [
    {
     "data": {
      "text/plain": [
       "array([[0.],\n",
       "       [1.],\n",
       "       [0.],\n",
       "       ...,\n",
       "       [1.],\n",
       "       [1.],\n",
       "       [1.]])"
      ]
     },
     "execution_count": 130,
     "metadata": {},
     "output_type": "execute_result"
    }
   ],
   "source": [
    "y_test"
   ]
  },
  {
   "cell_type": "code",
   "execution_count": 131,
   "metadata": {},
   "outputs": [
    {
     "data": {
      "text/plain": [
       "(159840, 200, 3)"
      ]
     },
     "execution_count": 131,
     "metadata": {},
     "output_type": "execute_result"
    }
   ],
   "source": [
    "X_train.shape"
   ]
  },
  {
   "cell_type": "code",
   "execution_count": 132,
   "metadata": {},
   "outputs": [],
   "source": [
    "model = Sequential()"
   ]
  },
  {
   "cell_type": "code",
   "execution_count": 133,
   "metadata": {},
   "outputs": [],
   "source": [
    "model.add(CuDNNLSTM(64, return_sequences=True, input_shape=(X_train.shape[1], X_train.shape[2])))\n",
    "model.add(CuDNNLSTM(64, return_sequences=False))\n",
    "model.add(Dense(64, activation='tanh'))\n",
    "model.add(Dense(1))\n",
    "# using tanh later try with sigmoid, and change minmax for reLU"
   ]
  },
  {
   "cell_type": "code",
   "execution_count": 134,
   "metadata": {},
   "outputs": [],
   "source": [
    "optimizers.SGD(momentum=0.9)\n",
    "model.compile(optimizer='SGD', loss='mse', metrics=['mae'])"
   ]
  },
  {
   "cell_type": "code",
   "execution_count": 99,
   "metadata": {},
   "outputs": [
    {
     "name": "stdout",
     "output_type": "stream",
     "text": [
      "Model: \"sequential_3\"\n",
      "_________________________________________________________________\n",
      " Layer (type)                Output Shape              Param #   \n",
      "=================================================================\n",
      " cu_dnnlstm_4 (CuDNNLSTM)    (None, 200, 64)           17664     \n",
      "                                                                 \n",
      " cu_dnnlstm_5 (CuDNNLSTM)    (None, 64)                33280     \n",
      "                                                                 \n",
      " dense_4 (Dense)             (None, 64)                4160      \n",
      "                                                                 \n",
      " dense_5 (Dense)             (None, 1)                 65        \n",
      "                                                                 \n",
      "=================================================================\n",
      "Total params: 55,169\n",
      "Trainable params: 55,169\n",
      "Non-trainable params: 0\n",
      "_________________________________________________________________\n"
     ]
    }
   ],
   "source": [
    "model.summary()"
   ]
  },
  {
   "cell_type": "code",
   "execution_count": 91,
   "metadata": {},
   "outputs": [],
   "source": [
    "# from keras.callbacks import ModelCheckpoint, EarlyStopping\n",
    "\n",
    "# filepath = '..//models//{epoch:02d}-{loss:.4f}-{val_loss:.4f}-{mae:.4f}-{val_mae:.4f}.hdf5'\n",
    "\n",
    "# callbacks = [EarlyStopping(monitor='val_loss', patience=20),\n",
    "#             ModelCheckpoint(filepath, monitor='loss', save_best_only=True, mode='min')]\n",
    "        "
   ]
  },
  {
   "cell_type": "code",
   "execution_count": 100,
   "metadata": {},
   "outputs": [
    {
     "name": "stdout",
     "output_type": "stream",
     "text": [
      "Epoch 1/40\n",
      "3197/3197 [==============================] - 61s 19ms/step - loss: 0.8487 - mae: 0.8629 - val_loss: 0.8483 - val_mae: 0.8535\n",
      "Epoch 2/40\n",
      "3197/3197 [==============================] - 59s 19ms/step - loss: 0.7583 - mae: 0.7888 - val_loss: 0.6109 - val_mae: 0.7225\n",
      "Epoch 3/40\n",
      "3197/3197 [==============================] - 59s 19ms/step - loss: 0.6737 - mae: 0.7164 - val_loss: 0.7026 - val_mae: 0.7096\n",
      "Epoch 4/40\n",
      "3197/3197 [==============================] - 60s 19ms/step - loss: 0.6189 - mae: 0.6670 - val_loss: 0.6253 - val_mae: 0.6645\n",
      "Epoch 5/40\n",
      "3197/3197 [==============================] - 60s 19ms/step - loss: 0.5697 - mae: 0.6230 - val_loss: 0.5389 - val_mae: 0.6110\n",
      "Epoch 6/40\n",
      "3197/3197 [==============================] - 59s 18ms/step - loss: 0.5265 - mae: 0.5850 - val_loss: 0.4288 - val_mae: 0.5416\n",
      "Epoch 7/40\n",
      "3197/3197 [==============================] - 59s 18ms/step - loss: 0.4821 - mae: 0.5446 - val_loss: 0.6627 - val_mae: 0.6148\n",
      "Epoch 8/40\n",
      "3197/3197 [==============================] - 59s 19ms/step - loss: 0.4483 - mae: 0.5118 - val_loss: 0.3712 - val_mae: 0.4818\n",
      "Epoch 9/40\n",
      "3197/3197 [==============================] - 59s 19ms/step - loss: 0.4195 - mae: 0.4840 - val_loss: 0.5289 - val_mae: 0.5233\n",
      "Epoch 10/40\n",
      "3197/3197 [==============================] - 59s 19ms/step - loss: 0.4037 - mae: 0.4687 - val_loss: 0.4295 - val_mae: 0.4654\n",
      "Epoch 11/40\n",
      "3197/3197 [==============================] - 60s 19ms/step - loss: 0.3857 - mae: 0.4521 - val_loss: 0.4162 - val_mae: 0.4819\n",
      "Epoch 12/40\n",
      "3197/3197 [==============================] - 59s 19ms/step - loss: 0.3652 - mae: 0.4335 - val_loss: 0.5236 - val_mae: 0.5048\n",
      "Epoch 13/40\n",
      "3197/3197 [==============================] - 61s 19ms/step - loss: 0.7133 - mae: 0.7401 - val_loss: 0.5522 - val_mae: 0.6702\n",
      "Epoch 14/40\n",
      "3197/3197 [==============================] - 61s 19ms/step - loss: 0.6552 - mae: 0.6926 - val_loss: 0.5347 - val_mae: 0.6417\n",
      "Epoch 15/40\n",
      "3197/3197 [==============================] - 60s 19ms/step - loss: 0.5661 - mae: 0.6155 - val_loss: 0.8167 - val_mae: 0.6976\n",
      "Epoch 16/40\n",
      "3197/3197 [==============================] - 58s 18ms/step - loss: 0.5032 - mae: 0.5614 - val_loss: 0.2901 - val_mae: 0.4429\n",
      "Epoch 17/40\n",
      "3197/3197 [==============================] - 58s 18ms/step - loss: 0.4627 - mae: 0.5248 - val_loss: 0.2864 - val_mae: 0.4380\n",
      "Epoch 18/40\n",
      "3197/3197 [==============================] - 58s 18ms/step - loss: 0.4260 - mae: 0.4895 - val_loss: 0.3257 - val_mae: 0.4204\n",
      "Epoch 19/40\n",
      "3197/3197 [==============================] - 59s 18ms/step - loss: 0.3926 - mae: 0.4579 - val_loss: 0.5042 - val_mae: 0.4965\n",
      "Epoch 20/40\n",
      "3197/3197 [==============================] - 60s 19ms/step - loss: 0.3646 - mae: 0.4289 - val_loss: 0.2207 - val_mae: 0.3336\n",
      "Epoch 21/40\n",
      "3197/3197 [==============================] - 59s 19ms/step - loss: 0.3433 - mae: 0.4084 - val_loss: 0.4338 - val_mae: 0.4394\n",
      "Epoch 22/40\n",
      "3197/3197 [==============================] - 58s 18ms/step - loss: 0.3281 - mae: 0.3926 - val_loss: 0.1988 - val_mae: 0.3345\n",
      "Epoch 23/40\n",
      "3197/3197 [==============================] - 58s 18ms/step - loss: 0.3077 - mae: 0.3749 - val_loss: 0.9890 - val_mae: 0.6883\n",
      "Epoch 24/40\n",
      "3197/3197 [==============================] - 58s 18ms/step - loss: 0.2927 - mae: 0.3608 - val_loss: 0.1651 - val_mae: 0.2713\n",
      "Epoch 25/40\n",
      "3197/3197 [==============================] - 58s 18ms/step - loss: 0.2797 - mae: 0.3486 - val_loss: 0.1405 - val_mae: 0.2554\n",
      "Epoch 26/40\n",
      "3197/3197 [==============================] - 57s 18ms/step - loss: 0.2627 - mae: 0.3339 - val_loss: 0.3611 - val_mae: 0.3798\n",
      "Epoch 27/40\n",
      "3197/3197 [==============================] - 57s 18ms/step - loss: 0.2527 - mae: 0.3243 - val_loss: 0.1563 - val_mae: 0.2645\n",
      "Epoch 28/40\n",
      "3197/3197 [==============================] - 58s 18ms/step - loss: 0.2425 - mae: 0.3137 - val_loss: 0.1662 - val_mae: 0.2849\n",
      "Epoch 29/40\n",
      "3197/3197 [==============================] - 58s 18ms/step - loss: 0.2331 - mae: 0.3048 - val_loss: 0.1174 - val_mae: 0.2142\n",
      "Epoch 30/40\n",
      "3197/3197 [==============================] - 57s 18ms/step - loss: 0.2278 - mae: 0.3000 - val_loss: 0.2068 - val_mae: 0.2893\n",
      "Epoch 31/40\n",
      "3197/3197 [==============================] - 57s 18ms/step - loss: 0.2171 - mae: 0.2900 - val_loss: 0.2340 - val_mae: 0.3040\n",
      "Epoch 32/40\n",
      "3197/3197 [==============================] - 57s 18ms/step - loss: 0.2124 - mae: 0.2859 - val_loss: 0.1612 - val_mae: 0.2572\n",
      "Epoch 33/40\n",
      "3197/3197 [==============================] - 57s 18ms/step - loss: 0.2047 - mae: 0.2776 - val_loss: 0.1699 - val_mae: 0.2753\n",
      "Epoch 34/40\n",
      "3197/3197 [==============================] - 57s 18ms/step - loss: 0.2016 - mae: 0.2756 - val_loss: 0.1355 - val_mae: 0.2596\n",
      "Epoch 35/40\n",
      "3197/3197 [==============================] - 59s 18ms/step - loss: 0.1912 - mae: 0.2651 - val_loss: 0.1488 - val_mae: 0.2483\n",
      "Epoch 36/40\n",
      "3197/3197 [==============================] - 57s 18ms/step - loss: 0.2005 - mae: 0.2731 - val_loss: 0.1369 - val_mae: 0.2417\n",
      "Epoch 37/40\n",
      "3197/3197 [==============================] - 57s 18ms/step - loss: 0.1890 - mae: 0.2622 - val_loss: 0.1616 - val_mae: 0.2412\n",
      "Epoch 38/40\n",
      "3197/3197 [==============================] - 57s 18ms/step - loss: 0.1771 - mae: 0.2507 - val_loss: 0.3934 - val_mae: 0.3857\n",
      "Epoch 39/40\n",
      "3197/3197 [==============================] - 58s 18ms/step - loss: 0.1744 - mae: 0.2477 - val_loss: 0.0974 - val_mae: 0.1887\n",
      "Epoch 40/40\n",
      "3197/3197 [==============================] - 57s 18ms/step - loss: 0.1694 - mae: 0.2431 - val_loss: 0.4645 - val_mae: 0.4036\n"
     ]
    },
    {
     "data": {
      "text/plain": [
       "<keras.callbacks.History at 0x203d05e0550>"
      ]
     },
     "execution_count": 100,
     "metadata": {},
     "output_type": "execute_result"
    }
   ],
   "source": [
    "model.fit(X_train, y_train, validation_split=0.2, epochs=40, batch_size=40)\n"
   ]
  },
  {
   "cell_type": "code",
   "execution_count": 101,
   "metadata": {},
   "outputs": [],
   "source": [
    "model.save(('..\\models\\\\200_ema\\\\200_ema_30m-tanh-1.hdf5'))"
   ]
  },
  {
   "cell_type": "code",
   "execution_count": 135,
   "metadata": {},
   "outputs": [],
   "source": [
    "model = keras.models.load_model('..\\models\\\\200_ema\\\\200_ema_30m-relu.hdf5')"
   ]
  },
  {
   "cell_type": "code",
   "execution_count": 136,
   "metadata": {},
   "outputs": [
    {
     "name": "stdout",
     "output_type": "stream",
     "text": [
      "Test loss: 0.06114126741886139\n",
      "Test accuracy: 0.17251791059970856\n"
     ]
    }
   ],
   "source": [
    "score = model.evaluate(X_test, y_test, verbose=0)\n",
    "print('Test loss:', score[0])\n",
    "print('Test accuracy:', score[1])"
   ]
  },
  {
   "cell_type": "code",
   "execution_count": 137,
   "metadata": {},
   "outputs": [
    {
     "name": "stdout",
     "output_type": "stream",
     "text": [
      "1249/1249 [==============================] - 9s 7ms/step\n"
     ]
    }
   ],
   "source": [
    "predictions = model.predict(X_test)\n",
    "predictions = scaler.inverse_transform(predictions)"
   ]
  },
  {
   "cell_type": "code",
   "execution_count": 138,
   "metadata": {},
   "outputs": [
    {
     "data": {
      "text/plain": [
       "<function matplotlib.pyplot.show(close=None, block=None)>"
      ]
     },
     "execution_count": 138,
     "metadata": {},
     "output_type": "execute_result"
    },
    {
     "data": {
      "image/png": "[encoded data removed]",
      "text/plain": [
       "<Figure size 1200x300 with 1 Axes>"
      ]
     },
     "metadata": {},
     "output_type": "display_data"
    }
   ],
   "source": [
    "plt.figure(figsize=(12,3))\n",
    "plt.plot(predictions[-50:], 'g')\n",
    "plt.plot(scaler.inverse_transform(y_test[-50:]),  'r')\n",
    "plt.axhline(y=0, color='black', linestyle='--')\n",
    "plt.show"
   ]
  }
 ],
 "metadata": {
  "kernelspec": {
   "display_name": "base",
   "language": "python",
   "name": "python3"
  },
  "language_info": {
   "codemirror_mode": {
    "name": "ipython",
    "version": 3
   },
   "file_extension": ".py",
   "mimetype": "text/x-python",
   "name": "python",
   "nbconvert_exporter": "python",
   "pygments_lexer": "ipython3",
   "version": "3.9.13"
  },
  "orig_nbformat": 4,
  "vscode": {
   "interpreter": {
    "hash": "daba84b9011790cc9eaf4cc21f3efb4c679e43558c1b80abd9638a9f3765cdfc"
   }
  }
 },
 "nbformat": 4,
 "nbformat_minor": 2
}
