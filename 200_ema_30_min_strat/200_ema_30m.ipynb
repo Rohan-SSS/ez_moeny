{
 "cells": [
  {
   "cell_type": "code",
   "execution_count": 2,
   "metadata": {},
   "outputs": [],
   "source": [
    "import numpy as np\n",
    "import pandas as pd\n",
    "import matplotlib.pyplot as plt"
   ]
  },
  {
   "cell_type": "code",
   "execution_count": 11,
   "metadata": {},
   "outputs": [],
   "source": [
    "raw_data_frame = pd.read_csv(r\"D:\\\\projectSpace\\\\AI_Project\\\\raw_data_30m\\\\GBPJPY_M30.csv\", sep='\\t')"
   ]
  },
  {
   "cell_type": "code",
   "execution_count": 12,
   "metadata": {},
   "outputs": [
    {
     "data": {
      "text/html": [
       "<div>\n",
       "<style scoped>\n",
       "    .dataframe tbody tr th:only-of-type {\n",
       "        vertical-align: middle;\n",
       "    }\n",
       "\n",
       "    .dataframe tbody tr th {\n",
       "        vertical-align: top;\n",
       "    }\n",
       "\n",
       "    .dataframe thead th {\n",
       "        text-align: right;\n",
       "    }\n",
       "</style>\n",
       "<table border=\"1\" class=\"dataframe\">\n",
       "  <thead>\n",
       "    <tr style=\"text-align: right;\">\n",
       "      <th></th>\n",
       "      <th>Time</th>\n",
       "      <th>Open</th>\n",
       "      <th>High</th>\n",
       "      <th>Low</th>\n",
       "      <th>Close</th>\n",
       "      <th>Volume</th>\n",
       "    </tr>\n",
       "  </thead>\n",
       "  <tbody>\n",
       "    <tr>\n",
       "      <th>0</th>\n",
       "      <td>2007-02-05 04:30:00</td>\n",
       "      <td>236.609</td>\n",
       "      <td>236.667</td>\n",
       "      <td>236.410</td>\n",
       "      <td>236.522</td>\n",
       "      <td>1489</td>\n",
       "    </tr>\n",
       "    <tr>\n",
       "      <th>1</th>\n",
       "      <td>2007-02-05 05:00:00</td>\n",
       "      <td>236.534</td>\n",
       "      <td>236.559</td>\n",
       "      <td>236.276</td>\n",
       "      <td>236.281</td>\n",
       "      <td>1590</td>\n",
       "    </tr>\n",
       "    <tr>\n",
       "      <th>2</th>\n",
       "      <td>2007-02-05 05:30:00</td>\n",
       "      <td>236.280</td>\n",
       "      <td>236.648</td>\n",
       "      <td>236.132</td>\n",
       "      <td>236.468</td>\n",
       "      <td>1711</td>\n",
       "    </tr>\n",
       "    <tr>\n",
       "      <th>3</th>\n",
       "      <td>2007-02-05 06:00:00</td>\n",
       "      <td>236.461</td>\n",
       "      <td>236.480</td>\n",
       "      <td>236.175</td>\n",
       "      <td>236.253</td>\n",
       "      <td>1546</td>\n",
       "    </tr>\n",
       "    <tr>\n",
       "      <th>4</th>\n",
       "      <td>2007-02-05 06:30:00</td>\n",
       "      <td>236.242</td>\n",
       "      <td>236.273</td>\n",
       "      <td>235.949</td>\n",
       "      <td>236.109</td>\n",
       "      <td>1474</td>\n",
       "    </tr>\n",
       "    <tr>\n",
       "      <th>...</th>\n",
       "      <td>...</td>\n",
       "      <td>...</td>\n",
       "      <td>...</td>\n",
       "      <td>...</td>\n",
       "      <td>...</td>\n",
       "      <td>...</td>\n",
       "    </tr>\n",
       "    <tr>\n",
       "      <th>199995</th>\n",
       "      <td>2023-02-10 13:00:00</td>\n",
       "      <td>158.498</td>\n",
       "      <td>158.626</td>\n",
       "      <td>158.465</td>\n",
       "      <td>158.555</td>\n",
       "      <td>2379</td>\n",
       "    </tr>\n",
       "    <tr>\n",
       "      <th>199996</th>\n",
       "      <td>2023-02-10 13:30:00</td>\n",
       "      <td>158.553</td>\n",
       "      <td>158.590</td>\n",
       "      <td>158.478</td>\n",
       "      <td>158.484</td>\n",
       "      <td>2185</td>\n",
       "    </tr>\n",
       "    <tr>\n",
       "      <th>199997</th>\n",
       "      <td>2023-02-10 14:00:00</td>\n",
       "      <td>158.480</td>\n",
       "      <td>158.527</td>\n",
       "      <td>158.412</td>\n",
       "      <td>158.450</td>\n",
       "      <td>2411</td>\n",
       "    </tr>\n",
       "    <tr>\n",
       "      <th>199998</th>\n",
       "      <td>2023-02-10 14:30:00</td>\n",
       "      <td>158.449</td>\n",
       "      <td>158.462</td>\n",
       "      <td>158.370</td>\n",
       "      <td>158.426</td>\n",
       "      <td>1599</td>\n",
       "    </tr>\n",
       "    <tr>\n",
       "      <th>199999</th>\n",
       "      <td>2023-02-10 15:00:00</td>\n",
       "      <td>158.426</td>\n",
       "      <td>158.452</td>\n",
       "      <td>158.383</td>\n",
       "      <td>158.400</td>\n",
       "      <td>1713</td>\n",
       "    </tr>\n",
       "  </tbody>\n",
       "</table>\n",
       "<p>200000 rows × 6 columns</p>\n",
       "</div>"
      ],
      "text/plain": [
       "                       Time     Open     High      Low    Close  Volume\n",
       "0       2007-02-05 04:30:00  236.609  236.667  236.410  236.522    1489\n",
       "1       2007-02-05 05:00:00  236.534  236.559  236.276  236.281    1590\n",
       "2       2007-02-05 05:30:00  236.280  236.648  236.132  236.468    1711\n",
       "3       2007-02-05 06:00:00  236.461  236.480  236.175  236.253    1546\n",
       "4       2007-02-05 06:30:00  236.242  236.273  235.949  236.109    1474\n",
       "...                     ...      ...      ...      ...      ...     ...\n",
       "199995  2023-02-10 13:00:00  158.498  158.626  158.465  158.555    2379\n",
       "199996  2023-02-10 13:30:00  158.553  158.590  158.478  158.484    2185\n",
       "199997  2023-02-10 14:00:00  158.480  158.527  158.412  158.450    2411\n",
       "199998  2023-02-10 14:30:00  158.449  158.462  158.370  158.426    1599\n",
       "199999  2023-02-10 15:00:00  158.426  158.452  158.383  158.400    1713\n",
       "\n",
       "[200000 rows x 6 columns]"
      ]
     },
     "execution_count": 12,
     "metadata": {},
     "output_type": "execute_result"
    }
   ],
   "source": [
    "raw_data_frame"
   ]
  },
  {
   "cell_type": "code",
   "execution_count": 15,
   "metadata": {},
   "outputs": [],
   "source": [
    "# dataframe for close price to calculate 200 ema\n",
    "close_price = raw_data_frame.drop(['Time', 'Open', 'High', 'Low', 'Volume'], axis=1)\n"
   ]
  },
  {
   "cell_type": "code",
   "execution_count": 17,
   "metadata": {},
   "outputs": [],
   "source": [
    "# calculating 200 ema using ewm method in pd\n",
    "def calculate_ema_200(data, n):\n",
    "    ema = data.Close.ewm(span=n, adjust=False).mean()\n",
    "    return ema\n",
    "ema_200 = calculate_ema_200(close_price, 200)\n"
   ]
  },
  {
   "cell_type": "code",
   "execution_count": 20,
   "metadata": {},
   "outputs": [
    {
     "data": {
      "text/plain": [
       "0         236.522\n",
       "1         236.520\n",
       "2         236.519\n",
       "3         236.516\n",
       "4         236.512\n",
       "           ...   \n",
       "199995    158.762\n",
       "199996    158.759\n",
       "199997    158.756\n",
       "199998    158.753\n",
       "199999    158.750\n",
       "Name: Close, Length: 200000, dtype: float64"
      ]
     },
     "execution_count": 20,
     "metadata": {},
     "output_type": "execute_result"
    }
   ],
   "source": [
    "ema_200 = ema_200.round(3)\n",
    "ema_200"
   ]
  },
  {
   "cell_type": "code",
   "execution_count": 21,
   "metadata": {},
   "outputs": [],
   "source": [
    "# making final dataframe with close price, 200 ema, volume\n",
    "final_data_frame = raw_data_frame.drop(['Time', 'Open', 'High', 'Low'], axis=1)\n",
    "final_data_frame['ema_200'] = ema_200\n"
   ]
  },
  {
   "cell_type": "code",
   "execution_count": 22,
   "metadata": {},
   "outputs": [
    {
     "data": {
      "text/html": [
       "<div>\n",
       "<style scoped>\n",
       "    .dataframe tbody tr th:only-of-type {\n",
       "        vertical-align: middle;\n",
       "    }\n",
       "\n",
       "    .dataframe tbody tr th {\n",
       "        vertical-align: top;\n",
       "    }\n",
       "\n",
       "    .dataframe thead th {\n",
       "        text-align: right;\n",
       "    }\n",
       "</style>\n",
       "<table border=\"1\" class=\"dataframe\">\n",
       "  <thead>\n",
       "    <tr style=\"text-align: right;\">\n",
       "      <th></th>\n",
       "      <th>Close</th>\n",
       "      <th>Volume</th>\n",
       "      <th>ema_200</th>\n",
       "    </tr>\n",
       "  </thead>\n",
       "  <tbody>\n",
       "    <tr>\n",
       "      <th>0</th>\n",
       "      <td>236.522</td>\n",
       "      <td>1489</td>\n",
       "      <td>236.522</td>\n",
       "    </tr>\n",
       "    <tr>\n",
       "      <th>1</th>\n",
       "      <td>236.281</td>\n",
       "      <td>1590</td>\n",
       "      <td>236.520</td>\n",
       "    </tr>\n",
       "    <tr>\n",
       "      <th>2</th>\n",
       "      <td>236.468</td>\n",
       "      <td>1711</td>\n",
       "      <td>236.519</td>\n",
       "    </tr>\n",
       "    <tr>\n",
       "      <th>3</th>\n",
       "      <td>236.253</td>\n",
       "      <td>1546</td>\n",
       "      <td>236.516</td>\n",
       "    </tr>\n",
       "    <tr>\n",
       "      <th>4</th>\n",
       "      <td>236.109</td>\n",
       "      <td>1474</td>\n",
       "      <td>236.512</td>\n",
       "    </tr>\n",
       "    <tr>\n",
       "      <th>...</th>\n",
       "      <td>...</td>\n",
       "      <td>...</td>\n",
       "      <td>...</td>\n",
       "    </tr>\n",
       "    <tr>\n",
       "      <th>199995</th>\n",
       "      <td>158.555</td>\n",
       "      <td>2379</td>\n",
       "      <td>158.762</td>\n",
       "    </tr>\n",
       "    <tr>\n",
       "      <th>199996</th>\n",
       "      <td>158.484</td>\n",
       "      <td>2185</td>\n",
       "      <td>158.759</td>\n",
       "    </tr>\n",
       "    <tr>\n",
       "      <th>199997</th>\n",
       "      <td>158.450</td>\n",
       "      <td>2411</td>\n",
       "      <td>158.756</td>\n",
       "    </tr>\n",
       "    <tr>\n",
       "      <th>199998</th>\n",
       "      <td>158.426</td>\n",
       "      <td>1599</td>\n",
       "      <td>158.753</td>\n",
       "    </tr>\n",
       "    <tr>\n",
       "      <th>199999</th>\n",
       "      <td>158.400</td>\n",
       "      <td>1713</td>\n",
       "      <td>158.750</td>\n",
       "    </tr>\n",
       "  </tbody>\n",
       "</table>\n",
       "<p>200000 rows × 3 columns</p>\n",
       "</div>"
      ],
      "text/plain": [
       "          Close  Volume  ema_200\n",
       "0       236.522    1489  236.522\n",
       "1       236.281    1590  236.520\n",
       "2       236.468    1711  236.519\n",
       "3       236.253    1546  236.516\n",
       "4       236.109    1474  236.512\n",
       "...         ...     ...      ...\n",
       "199995  158.555    2379  158.762\n",
       "199996  158.484    2185  158.759\n",
       "199997  158.450    2411  158.756\n",
       "199998  158.426    1599  158.753\n",
       "199999  158.400    1713  158.750\n",
       "\n",
       "[200000 rows x 3 columns]"
      ]
     },
     "execution_count": 22,
     "metadata": {},
     "output_type": "execute_result"
    }
   ],
   "source": [
    "final_data_frame"
   ]
  },
  {
   "cell_type": "code",
   "execution_count": 23,
   "metadata": {},
   "outputs": [
    {
     "data": {
      "text/plain": [
       "[<matplotlib.lines.Line2D at 0x24e85728a90>]"
      ]
     },
     "execution_count": 23,
     "metadata": {},
     "output_type": "execute_result"
    },
    {
     "data": {
      "image/png": "[encoded data removed]",
      "text/plain": [
       "<Figure size 1200x600 with 1 Axes>"
      ]
     },
     "metadata": {},
     "output_type": "display_data"
    }
   ],
   "source": [
    "plt.figure(figsize=(12,6))\n",
    "plt.plot(final_data_frame.Close)\n",
    "plt.plot(final_data_frame.ema_200, 'r')\n"
   ]
  },
  {
   "cell_type": "code",
   "execution_count": 30,
   "metadata": {},
   "outputs": [],
   "source": [
    "# making a Trend column for binary classification of the trend so as to decrease noise  \n",
    "final_data_frame['Trend'] = [1 if row['Close'] > row['ema_200'] + 0.001 * row['Close']\n",
    "                        else -1 if row['Close'] < row['ema_200'] - 0.001 * row['Close']\n",
    "                        else 0 for index, row in final_data_frame.iterrows()]\n"
   ]
  },
  {
   "cell_type": "code",
   "execution_count": 29,
   "metadata": {},
   "outputs": [
    {
     "data": {
      "text/html": [
       "<div>\n",
       "<style scoped>\n",
       "    .dataframe tbody tr th:only-of-type {\n",
       "        vertical-align: middle;\n",
       "    }\n",
       "\n",
       "    .dataframe tbody tr th {\n",
       "        vertical-align: top;\n",
       "    }\n",
       "\n",
       "    .dataframe thead th {\n",
       "        text-align: right;\n",
       "    }\n",
       "</style>\n",
       "<table border=\"1\" class=\"dataframe\">\n",
       "  <thead>\n",
       "    <tr style=\"text-align: right;\">\n",
       "      <th></th>\n",
       "      <th>Close</th>\n",
       "      <th>Volume</th>\n",
       "      <th>ema_200</th>\n",
       "      <th>Trend</th>\n",
       "    </tr>\n",
       "  </thead>\n",
       "  <tbody>\n",
       "    <tr>\n",
       "      <th>0</th>\n",
       "      <td>236.522</td>\n",
       "      <td>1489</td>\n",
       "      <td>236.522</td>\n",
       "      <td>0</td>\n",
       "    </tr>\n",
       "    <tr>\n",
       "      <th>1</th>\n",
       "      <td>236.281</td>\n",
       "      <td>1590</td>\n",
       "      <td>236.520</td>\n",
       "      <td>-1</td>\n",
       "    </tr>\n",
       "    <tr>\n",
       "      <th>2</th>\n",
       "      <td>236.468</td>\n",
       "      <td>1711</td>\n",
       "      <td>236.519</td>\n",
       "      <td>0</td>\n",
       "    </tr>\n",
       "    <tr>\n",
       "      <th>3</th>\n",
       "      <td>236.253</td>\n",
       "      <td>1546</td>\n",
       "      <td>236.516</td>\n",
       "      <td>-1</td>\n",
       "    </tr>\n",
       "    <tr>\n",
       "      <th>4</th>\n",
       "      <td>236.109</td>\n",
       "      <td>1474</td>\n",
       "      <td>236.512</td>\n",
       "      <td>-1</td>\n",
       "    </tr>\n",
       "    <tr>\n",
       "      <th>...</th>\n",
       "      <td>...</td>\n",
       "      <td>...</td>\n",
       "      <td>...</td>\n",
       "      <td>...</td>\n",
       "    </tr>\n",
       "    <tr>\n",
       "      <th>199995</th>\n",
       "      <td>158.555</td>\n",
       "      <td>2379</td>\n",
       "      <td>158.762</td>\n",
       "      <td>-1</td>\n",
       "    </tr>\n",
       "    <tr>\n",
       "      <th>199996</th>\n",
       "      <td>158.484</td>\n",
       "      <td>2185</td>\n",
       "      <td>158.759</td>\n",
       "      <td>-1</td>\n",
       "    </tr>\n",
       "    <tr>\n",
       "      <th>199997</th>\n",
       "      <td>158.450</td>\n",
       "      <td>2411</td>\n",
       "      <td>158.756</td>\n",
       "      <td>-1</td>\n",
       "    </tr>\n",
       "    <tr>\n",
       "      <th>199998</th>\n",
       "      <td>158.426</td>\n",
       "      <td>1599</td>\n",
       "      <td>158.753</td>\n",
       "      <td>-1</td>\n",
       "    </tr>\n",
       "    <tr>\n",
       "      <th>199999</th>\n",
       "      <td>158.400</td>\n",
       "      <td>1713</td>\n",
       "      <td>158.750</td>\n",
       "      <td>-1</td>\n",
       "    </tr>\n",
       "  </tbody>\n",
       "</table>\n",
       "<p>200000 rows × 4 columns</p>\n",
       "</div>"
      ],
      "text/plain": [
       "          Close  Volume  ema_200  Trend\n",
       "0       236.522    1489  236.522      0\n",
       "1       236.281    1590  236.520     -1\n",
       "2       236.468    1711  236.519      0\n",
       "3       236.253    1546  236.516     -1\n",
       "4       236.109    1474  236.512     -1\n",
       "...         ...     ...      ...    ...\n",
       "199995  158.555    2379  158.762     -1\n",
       "199996  158.484    2185  158.759     -1\n",
       "199997  158.450    2411  158.756     -1\n",
       "199998  158.426    1599  158.753     -1\n",
       "199999  158.400    1713  158.750     -1\n",
       "\n",
       "[200000 rows x 4 columns]"
      ]
     },
     "execution_count": 29,
     "metadata": {},
     "output_type": "execute_result"
    }
   ],
   "source": [
    "final_data_frame"
   ]
  },
  {
   "cell_type": "code",
   "execution_count": 31,
   "metadata": {},
   "outputs": [],
   "source": [
    "final_data_frame.to_csv(r\"D:\\\\projectSpace\\\\AI_Project\\\\pre_precessed_data\\\\\"+'GBPJPY_M30.csv')"
   ]
  },
  {
   "cell_type": "code",
   "execution_count": 37,
   "metadata": {},
   "outputs": [],
   "source": [
    "from sklearn.tree import DecisionTreeClassifier\n",
    "from sklearn.model_selection import train_test_split\n",
    "import joblib"
   ]
  },
  {
   "cell_type": "code",
   "execution_count": 34,
   "metadata": {},
   "outputs": [],
   "source": [
    "# splitting data into features x and labels y\n",
    "x = final_data_frame[['Close', 'Volume', 'ema_200']]\n",
    "y = final_data_frame['Trend']"
   ]
  },
  {
   "cell_type": "code",
   "execution_count": 35,
   "metadata": {},
   "outputs": [],
   "source": [
    "# making traing and testing dataframes with 80 20 ratio, and random state 0\n",
    "x_train, x_test, y_train, y_test = train_test_split(x, y, test_size=0.2, random_state=0)\n"
   ]
  },
  {
   "cell_type": "code",
   "execution_count": null,
   "metadata": {},
   "outputs": [],
   "source": [
    "# training the model\n",
    "dt_classifier = DecisionTreeClassifier()\n",
    "dt_classifier.fit(x_train, y_train) "
   ]
  },
  {
   "cell_type": "code",
   "execution_count": null,
   "metadata": {},
   "outputs": [],
   "source": [
    "# accuracy\n",
    "model_acc = dt_classifier.score(x_test, y_test)\n",
    "print('Acc = ', model_acc)\n"
   ]
  },
  {
   "cell_type": "code",
   "execution_count": null,
   "metadata": {},
   "outputs": [],
   "source": [
    "model = dt_classifier\n",
    "joblib.dump(model, 'model.joblib')\n"
   ]
  }
 ],
 "metadata": {
  "kernelspec": {
   "display_name": "base",
   "language": "python",
   "name": "python3"
  },
  "language_info": {
   "codemirror_mode": {
    "name": "ipython",
    "version": 3
   },
   "file_extension": ".py",
   "mimetype": "text/x-python",
   "name": "python",
   "nbconvert_exporter": "python",
   "pygments_lexer": "ipython3",
   "version": "3.9.13"
  },
  "orig_nbformat": 4,
  "vscode": {
   "interpreter": {
    "hash": "e364787d867acc6d8de5315a33a4122e065d295285e7a350178de60dd36da28f"
   }
  }
 },
 "nbformat": 4,
 "nbformat_minor": 2
}
